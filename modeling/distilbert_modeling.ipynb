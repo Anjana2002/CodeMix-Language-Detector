{
 "cells": [
  {
   "cell_type": "markdown",
   "metadata": {
    "colab_type": "text",
    "id": "view-in-github"
   },
   "source": [
    "<a href=\"https://colab.research.google.com/github/Anjana2002/Language-Identification-for-Malayalam-English-Code-Mixed-Text/blob/main/modeling/distilbert_modeling.ipynb\" target=\"_parent\"><img src=\"https://colab.research.google.com/assets/colab-badge.svg\" alt=\"Open In Colab\"/></a>"
   ]
  },
  {
   "cell_type": "markdown",
   "metadata": {
    "id": "eWDpN_nhh8nX"
   },
   "source": [
    "CamemBert MODELING"
   ]
  },
  {
   "cell_type": "code",
   "execution_count": 1,
   "metadata": {
    "colab": {
     "base_uri": "https://localhost:8080/"
    },
    "id": "zg1cBV8vYunP",
    "outputId": "89728144-4df7-4a37-eb5f-ff98fe8dd4fe"
   },
   "outputs": [
    {
     "name": "stdout",
     "output_type": "stream",
     "text": [
      "Requirement already satisfied: transformers in /usr/local/lib/python3.10/dist-packages (4.46.3)\n",
      "Requirement already satisfied: filelock in /usr/local/lib/python3.10/dist-packages (from transformers) (3.16.1)\n",
      "Requirement already satisfied: huggingface-hub<1.0,>=0.23.2 in /usr/local/lib/python3.10/dist-packages (from transformers) (0.26.3)\n",
      "Requirement already satisfied: numpy>=1.17 in /usr/local/lib/python3.10/dist-packages (from transformers) (1.26.4)\n",
      "Requirement already satisfied: packaging>=20.0 in /usr/local/lib/python3.10/dist-packages (from transformers) (24.2)\n",
      "Requirement already satisfied: pyyaml>=5.1 in /usr/local/lib/python3.10/dist-packages (from transformers) (6.0.2)\n",
      "Requirement already satisfied: regex!=2019.12.17 in /usr/local/lib/python3.10/dist-packages (from transformers) (2024.9.11)\n",
      "Requirement already satisfied: requests in /usr/local/lib/python3.10/dist-packages (from transformers) (2.32.3)\n",
      "Requirement already satisfied: tokenizers<0.21,>=0.20 in /usr/local/lib/python3.10/dist-packages (from transformers) (0.20.3)\n",
      "Requirement already satisfied: safetensors>=0.4.1 in /usr/local/lib/python3.10/dist-packages (from transformers) (0.4.5)\n",
      "Requirement already satisfied: tqdm>=4.27 in /usr/local/lib/python3.10/dist-packages (from transformers) (4.66.6)\n",
      "Requirement already satisfied: fsspec>=2023.5.0 in /usr/local/lib/python3.10/dist-packages (from huggingface-hub<1.0,>=0.23.2->transformers) (2024.10.0)\n",
      "Requirement already satisfied: typing-extensions>=3.7.4.3 in /usr/local/lib/python3.10/dist-packages (from huggingface-hub<1.0,>=0.23.2->transformers) (4.12.2)\n",
      "Requirement already satisfied: charset-normalizer<4,>=2 in /usr/local/lib/python3.10/dist-packages (from requests->transformers) (3.4.0)\n",
      "Requirement already satisfied: idna<4,>=2.5 in /usr/local/lib/python3.10/dist-packages (from requests->transformers) (3.10)\n",
      "Requirement already satisfied: urllib3<3,>=1.21.1 in /usr/local/lib/python3.10/dist-packages (from requests->transformers) (2.2.3)\n",
      "Requirement already satisfied: certifi>=2017.4.17 in /usr/local/lib/python3.10/dist-packages (from requests->transformers) (2024.8.30)\n",
      "Collecting simpletransformers\n",
      "  Downloading simpletransformers-0.70.1-py3-none-any.whl.metadata (42 kB)\n",
      "\u001b[2K     \u001b[90m━━━━━━━━━━━━━━━━━━━━━━━━━━━━━━━━━━━━━━━━\u001b[0m \u001b[32m42.4/42.4 kB\u001b[0m \u001b[31m68.6 kB/s\u001b[0m eta \u001b[36m0:00:00\u001b[0m\n",
      "\u001b[?25hRequirement already satisfied: numpy in /usr/local/lib/python3.10/dist-packages (from simpletransformers) (1.26.4)\n",
      "Requirement already satisfied: requests in /usr/local/lib/python3.10/dist-packages (from simpletransformers) (2.32.3)\n",
      "Requirement already satisfied: tqdm>=4.47.0 in /usr/local/lib/python3.10/dist-packages (from simpletransformers) (4.66.6)\n",
      "Requirement already satisfied: regex in /usr/local/lib/python3.10/dist-packages (from simpletransformers) (2024.9.11)\n",
      "Requirement already satisfied: transformers>=4.31.0 in /usr/local/lib/python3.10/dist-packages (from simpletransformers) (4.46.3)\n",
      "Collecting datasets (from simpletransformers)\n",
      "  Downloading datasets-3.2.0-py3-none-any.whl.metadata (20 kB)\n",
      "Requirement already satisfied: scipy in /usr/local/lib/python3.10/dist-packages (from simpletransformers) (1.13.1)\n",
      "Requirement already satisfied: scikit-learn in /usr/local/lib/python3.10/dist-packages (from simpletransformers) (1.5.2)\n",
      "Collecting seqeval (from simpletransformers)\n",
      "  Downloading seqeval-1.2.2.tar.gz (43 kB)\n",
      "\u001b[2K     \u001b[90m━━━━━━━━━━━━━━━━━━━━━━━━━━━━━━━━━━━━━━━━\u001b[0m \u001b[32m43.6/43.6 kB\u001b[0m \u001b[31m1.9 MB/s\u001b[0m eta \u001b[36m0:00:00\u001b[0m\n",
      "\u001b[?25h  Preparing metadata (setup.py) ... \u001b[?25l\u001b[?25hdone\n",
      "Requirement already satisfied: tensorboard in /usr/local/lib/python3.10/dist-packages (from simpletransformers) (2.17.1)\n",
      "Collecting tensorboardx (from simpletransformers)\n",
      "  Downloading tensorboardX-2.6.2.2-py2.py3-none-any.whl.metadata (5.8 kB)\n",
      "Requirement already satisfied: pandas in /usr/local/lib/python3.10/dist-packages (from simpletransformers) (2.2.2)\n",
      "Requirement already satisfied: tokenizers in /usr/local/lib/python3.10/dist-packages (from simpletransformers) (0.20.3)\n",
      "Requirement already satisfied: wandb>=0.10.32 in /usr/local/lib/python3.10/dist-packages (from simpletransformers) (0.18.7)\n",
      "Collecting streamlit (from simpletransformers)\n",
      "  Downloading streamlit-1.41.0-py2.py3-none-any.whl.metadata (8.5 kB)\n",
      "Requirement already satisfied: sentencepiece in /usr/local/lib/python3.10/dist-packages (from simpletransformers) (0.2.0)\n",
      "Requirement already satisfied: filelock in /usr/local/lib/python3.10/dist-packages (from transformers>=4.31.0->simpletransformers) (3.16.1)\n",
      "Requirement already satisfied: huggingface-hub<1.0,>=0.23.2 in /usr/local/lib/python3.10/dist-packages (from transformers>=4.31.0->simpletransformers) (0.26.3)\n",
      "Requirement already satisfied: packaging>=20.0 in /usr/local/lib/python3.10/dist-packages (from transformers>=4.31.0->simpletransformers) (24.2)\n",
      "Requirement already satisfied: pyyaml>=5.1 in /usr/local/lib/python3.10/dist-packages (from transformers>=4.31.0->simpletransformers) (6.0.2)\n",
      "Requirement already satisfied: safetensors>=0.4.1 in /usr/local/lib/python3.10/dist-packages (from transformers>=4.31.0->simpletransformers) (0.4.5)\n",
      "Requirement already satisfied: click!=8.0.0,>=7.1 in /usr/local/lib/python3.10/dist-packages (from wandb>=0.10.32->simpletransformers) (8.1.7)\n",
      "Requirement already satisfied: docker-pycreds>=0.4.0 in /usr/local/lib/python3.10/dist-packages (from wandb>=0.10.32->simpletransformers) (0.4.0)\n",
      "Requirement already satisfied: gitpython!=3.1.29,>=1.0.0 in /usr/local/lib/python3.10/dist-packages (from wandb>=0.10.32->simpletransformers) (3.1.43)\n",
      "Requirement already satisfied: platformdirs in /usr/local/lib/python3.10/dist-packages (from wandb>=0.10.32->simpletransformers) (4.3.6)\n",
      "Requirement already satisfied: protobuf!=4.21.0,!=5.28.0,<6,>=3.19.0 in /usr/local/lib/python3.10/dist-packages (from wandb>=0.10.32->simpletransformers) (4.25.5)\n",
      "Requirement already satisfied: psutil>=5.0.0 in /usr/local/lib/python3.10/dist-packages (from wandb>=0.10.32->simpletransformers) (5.9.5)\n",
      "Requirement already satisfied: sentry-sdk>=2.0.0 in /usr/local/lib/python3.10/dist-packages (from wandb>=0.10.32->simpletransformers) (2.19.0)\n",
      "Requirement already satisfied: setproctitle in /usr/local/lib/python3.10/dist-packages (from wandb>=0.10.32->simpletransformers) (1.3.4)\n",
      "Requirement already satisfied: setuptools in /usr/local/lib/python3.10/dist-packages (from wandb>=0.10.32->simpletransformers) (75.1.0)\n",
      "Requirement already satisfied: typing-extensions<5,>=4.4 in /usr/local/lib/python3.10/dist-packages (from wandb>=0.10.32->simpletransformers) (4.12.2)\n",
      "Requirement already satisfied: charset-normalizer<4,>=2 in /usr/local/lib/python3.10/dist-packages (from requests->simpletransformers) (3.4.0)\n",
      "Requirement already satisfied: idna<4,>=2.5 in /usr/local/lib/python3.10/dist-packages (from requests->simpletransformers) (3.10)\n",
      "Requirement already satisfied: urllib3<3,>=1.21.1 in /usr/local/lib/python3.10/dist-packages (from requests->simpletransformers) (2.2.3)\n",
      "Requirement already satisfied: certifi>=2017.4.17 in /usr/local/lib/python3.10/dist-packages (from requests->simpletransformers) (2024.8.30)\n",
      "Requirement already satisfied: pyarrow>=15.0.0 in /usr/local/lib/python3.10/dist-packages (from datasets->simpletransformers) (17.0.0)\n",
      "Collecting dill<0.3.9,>=0.3.0 (from datasets->simpletransformers)\n",
      "  Downloading dill-0.3.8-py3-none-any.whl.metadata (10 kB)\n",
      "Collecting xxhash (from datasets->simpletransformers)\n",
      "  Downloading xxhash-3.5.0-cp310-cp310-manylinux_2_17_x86_64.manylinux2014_x86_64.whl.metadata (12 kB)\n",
      "Collecting multiprocess<0.70.17 (from datasets->simpletransformers)\n",
      "  Downloading multiprocess-0.70.16-py310-none-any.whl.metadata (7.2 kB)\n",
      "Collecting fsspec<=2024.9.0,>=2023.1.0 (from fsspec[http]<=2024.9.0,>=2023.1.0->datasets->simpletransformers)\n",
      "  Downloading fsspec-2024.9.0-py3-none-any.whl.metadata (11 kB)\n",
      "Requirement already satisfied: aiohttp in /usr/local/lib/python3.10/dist-packages (from datasets->simpletransformers) (3.11.9)\n",
      "Requirement already satisfied: python-dateutil>=2.8.2 in /usr/local/lib/python3.10/dist-packages (from pandas->simpletransformers) (2.8.2)\n",
      "Requirement already satisfied: pytz>=2020.1 in /usr/local/lib/python3.10/dist-packages (from pandas->simpletransformers) (2024.2)\n",
      "Requirement already satisfied: tzdata>=2022.7 in /usr/local/lib/python3.10/dist-packages (from pandas->simpletransformers) (2024.2)\n",
      "Requirement already satisfied: joblib>=1.2.0 in /usr/local/lib/python3.10/dist-packages (from scikit-learn->simpletransformers) (1.4.2)\n",
      "Requirement already satisfied: threadpoolctl>=3.1.0 in /usr/local/lib/python3.10/dist-packages (from scikit-learn->simpletransformers) (3.5.0)\n",
      "Requirement already satisfied: altair<6,>=4.0 in /usr/local/lib/python3.10/dist-packages (from streamlit->simpletransformers) (4.2.2)\n",
      "Requirement already satisfied: blinker<2,>=1.0.0 in /usr/local/lib/python3.10/dist-packages (from streamlit->simpletransformers) (1.9.0)\n",
      "Requirement already satisfied: cachetools<6,>=4.0 in /usr/local/lib/python3.10/dist-packages (from streamlit->simpletransformers) (5.5.0)\n",
      "Requirement already satisfied: pillow<12,>=7.1.0 in /usr/local/lib/python3.10/dist-packages (from streamlit->simpletransformers) (11.0.0)\n",
      "Requirement already satisfied: rich<14,>=10.14.0 in /usr/local/lib/python3.10/dist-packages (from streamlit->simpletransformers) (13.9.4)\n",
      "Requirement already satisfied: tenacity<10,>=8.1.0 in /usr/local/lib/python3.10/dist-packages (from streamlit->simpletransformers) (9.0.0)\n",
      "Requirement already satisfied: toml<2,>=0.10.1 in /usr/local/lib/python3.10/dist-packages (from streamlit->simpletransformers) (0.10.2)\n",
      "Collecting watchdog<7,>=2.1.5 (from streamlit->simpletransformers)\n",
      "  Downloading watchdog-6.0.0-py3-none-manylinux2014_x86_64.whl.metadata (44 kB)\n",
      "\u001b[2K     \u001b[90m━━━━━━━━━━━━━━━━━━━━━━━━━━━━━━━━━━━━━━━━\u001b[0m \u001b[32m44.3/44.3 kB\u001b[0m \u001b[31m2.6 MB/s\u001b[0m eta \u001b[36m0:00:00\u001b[0m\n",
      "\u001b[?25hCollecting pydeck<1,>=0.8.0b4 (from streamlit->simpletransformers)\n",
      "  Downloading pydeck-0.9.1-py2.py3-none-any.whl.metadata (4.1 kB)\n",
      "Requirement already satisfied: tornado<7,>=6.0.3 in /usr/local/lib/python3.10/dist-packages (from streamlit->simpletransformers) (6.3.3)\n",
      "Requirement already satisfied: absl-py>=0.4 in /usr/local/lib/python3.10/dist-packages (from tensorboard->simpletransformers) (1.4.0)\n",
      "Requirement already satisfied: grpcio>=1.48.2 in /usr/local/lib/python3.10/dist-packages (from tensorboard->simpletransformers) (1.68.1)\n",
      "Requirement already satisfied: markdown>=2.6.8 in /usr/local/lib/python3.10/dist-packages (from tensorboard->simpletransformers) (3.7)\n",
      "Requirement already satisfied: six>1.9 in /usr/local/lib/python3.10/dist-packages (from tensorboard->simpletransformers) (1.16.0)\n",
      "Requirement already satisfied: tensorboard-data-server<0.8.0,>=0.7.0 in /usr/local/lib/python3.10/dist-packages (from tensorboard->simpletransformers) (0.7.2)\n",
      "Requirement already satisfied: werkzeug>=1.0.1 in /usr/local/lib/python3.10/dist-packages (from tensorboard->simpletransformers) (3.1.3)\n",
      "Requirement already satisfied: entrypoints in /usr/local/lib/python3.10/dist-packages (from altair<6,>=4.0->streamlit->simpletransformers) (0.4)\n",
      "Requirement already satisfied: jinja2 in /usr/local/lib/python3.10/dist-packages (from altair<6,>=4.0->streamlit->simpletransformers) (3.1.4)\n",
      "Requirement already satisfied: jsonschema>=3.0 in /usr/local/lib/python3.10/dist-packages (from altair<6,>=4.0->streamlit->simpletransformers) (4.23.0)\n",
      "Requirement already satisfied: toolz in /usr/local/lib/python3.10/dist-packages (from altair<6,>=4.0->streamlit->simpletransformers) (0.12.1)\n",
      "Requirement already satisfied: aiohappyeyeballs>=2.3.0 in /usr/local/lib/python3.10/dist-packages (from aiohttp->datasets->simpletransformers) (2.4.4)\n",
      "Requirement already satisfied: aiosignal>=1.1.2 in /usr/local/lib/python3.10/dist-packages (from aiohttp->datasets->simpletransformers) (1.3.1)\n",
      "Requirement already satisfied: async-timeout<6.0,>=4.0 in /usr/local/lib/python3.10/dist-packages (from aiohttp->datasets->simpletransformers) (4.0.3)\n",
      "Requirement already satisfied: attrs>=17.3.0 in /usr/local/lib/python3.10/dist-packages (from aiohttp->datasets->simpletransformers) (24.2.0)\n",
      "Requirement already satisfied: frozenlist>=1.1.1 in /usr/local/lib/python3.10/dist-packages (from aiohttp->datasets->simpletransformers) (1.5.0)\n",
      "Requirement already satisfied: multidict<7.0,>=4.5 in /usr/local/lib/python3.10/dist-packages (from aiohttp->datasets->simpletransformers) (6.1.0)\n",
      "Requirement already satisfied: propcache>=0.2.0 in /usr/local/lib/python3.10/dist-packages (from aiohttp->datasets->simpletransformers) (0.2.1)\n",
      "Requirement already satisfied: yarl<2.0,>=1.17.0 in /usr/local/lib/python3.10/dist-packages (from aiohttp->datasets->simpletransformers) (1.18.3)\n",
      "Requirement already satisfied: gitdb<5,>=4.0.1 in /usr/local/lib/python3.10/dist-packages (from gitpython!=3.1.29,>=1.0.0->wandb>=0.10.32->simpletransformers) (4.0.11)\n",
      "Requirement already satisfied: markdown-it-py>=2.2.0 in /usr/local/lib/python3.10/dist-packages (from rich<14,>=10.14.0->streamlit->simpletransformers) (3.0.0)\n",
      "Requirement already satisfied: pygments<3.0.0,>=2.13.0 in /usr/local/lib/python3.10/dist-packages (from rich<14,>=10.14.0->streamlit->simpletransformers) (2.18.0)\n",
      "Requirement already satisfied: MarkupSafe>=2.1.1 in /usr/local/lib/python3.10/dist-packages (from werkzeug>=1.0.1->tensorboard->simpletransformers) (3.0.2)\n",
      "Requirement already satisfied: smmap<6,>=3.0.1 in /usr/local/lib/python3.10/dist-packages (from gitdb<5,>=4.0.1->gitpython!=3.1.29,>=1.0.0->wandb>=0.10.32->simpletransformers) (5.0.1)\n",
      "Requirement already satisfied: jsonschema-specifications>=2023.03.6 in /usr/local/lib/python3.10/dist-packages (from jsonschema>=3.0->altair<6,>=4.0->streamlit->simpletransformers) (2024.10.1)\n",
      "Requirement already satisfied: referencing>=0.28.4 in /usr/local/lib/python3.10/dist-packages (from jsonschema>=3.0->altair<6,>=4.0->streamlit->simpletransformers) (0.35.1)\n",
      "Requirement already satisfied: rpds-py>=0.7.1 in /usr/local/lib/python3.10/dist-packages (from jsonschema>=3.0->altair<6,>=4.0->streamlit->simpletransformers) (0.22.3)\n",
      "Requirement already satisfied: mdurl~=0.1 in /usr/local/lib/python3.10/dist-packages (from markdown-it-py>=2.2.0->rich<14,>=10.14.0->streamlit->simpletransformers) (0.1.2)\n",
      "Downloading simpletransformers-0.70.1-py3-none-any.whl (316 kB)\n",
      "\u001b[2K   \u001b[90m━━━━━━━━━━━━━━━━━━━━━━━━━━━━━━━━━━━━━━━━\u001b[0m \u001b[32m316.3/316.3 kB\u001b[0m \u001b[31m11.0 MB/s\u001b[0m eta \u001b[36m0:00:00\u001b[0m\n",
      "\u001b[?25hDownloading datasets-3.2.0-py3-none-any.whl (480 kB)\n",
      "\u001b[2K   \u001b[90m━━━━━━━━━━━━━━━━━━━━━━━━━━━━━━━━━━━━━━━━\u001b[0m \u001b[32m480.6/480.6 kB\u001b[0m \u001b[31m11.3 MB/s\u001b[0m eta \u001b[36m0:00:00\u001b[0m\n",
      "\u001b[?25hDownloading streamlit-1.41.0-py2.py3-none-any.whl (23.4 MB)\n",
      "\u001b[2K   \u001b[90m━━━━━━━━━━━━━━━━━━━━━━━━━━━━━━━━━━━━━━━━\u001b[0m \u001b[32m23.4/23.4 MB\u001b[0m \u001b[31m25.2 MB/s\u001b[0m eta \u001b[36m0:00:00\u001b[0m\n",
      "\u001b[?25hDownloading tensorboardX-2.6.2.2-py2.py3-none-any.whl (101 kB)\n",
      "\u001b[2K   \u001b[90m━━━━━━━━━━━━━━━━━━━━━━━━━━━━━━━━━━━━━━━━\u001b[0m \u001b[32m101.7/101.7 kB\u001b[0m \u001b[31m6.9 MB/s\u001b[0m eta \u001b[36m0:00:00\u001b[0m\n",
      "\u001b[?25hDownloading dill-0.3.8-py3-none-any.whl (116 kB)\n",
      "\u001b[2K   \u001b[90m━━━━━━━━━━━━━━━━━━━━━━━━━━━━━━━━━━━━━━━━\u001b[0m \u001b[32m116.3/116.3 kB\u001b[0m \u001b[31m5.7 MB/s\u001b[0m eta \u001b[36m0:00:00\u001b[0m\n",
      "\u001b[?25hDownloading fsspec-2024.9.0-py3-none-any.whl (179 kB)\n",
      "\u001b[2K   \u001b[90m━━━━━━━━━━━━━━━━━━━━━━━━━━━━━━━━━━━━━━━━\u001b[0m \u001b[32m179.3/179.3 kB\u001b[0m \u001b[31m13.6 MB/s\u001b[0m eta \u001b[36m0:00:00\u001b[0m\n",
      "\u001b[?25hDownloading multiprocess-0.70.16-py310-none-any.whl (134 kB)\n",
      "\u001b[2K   \u001b[90m━━━━━━━━━━━━━━━━━━━━━━━━━━━━━━━━━━━━━━━━\u001b[0m \u001b[32m134.8/134.8 kB\u001b[0m \u001b[31m10.9 MB/s\u001b[0m eta \u001b[36m0:00:00\u001b[0m\n",
      "\u001b[?25hDownloading pydeck-0.9.1-py2.py3-none-any.whl (6.9 MB)\n",
      "\u001b[2K   \u001b[90m━━━━━━━━━━━━━━━━━━━━━━━━━━━━━━━━━━━━━━━━\u001b[0m \u001b[32m6.9/6.9 MB\u001b[0m \u001b[31m44.0 MB/s\u001b[0m eta \u001b[36m0:00:00\u001b[0m\n",
      "\u001b[?25hDownloading watchdog-6.0.0-py3-none-manylinux2014_x86_64.whl (79 kB)\n",
      "\u001b[2K   \u001b[90m━━━━━━━━━━━━━━━━━━━━━━━━━━━━━━━━━━━━━━━━\u001b[0m \u001b[32m79.1/79.1 kB\u001b[0m \u001b[31m7.3 MB/s\u001b[0m eta \u001b[36m0:00:00\u001b[0m\n",
      "\u001b[?25hDownloading xxhash-3.5.0-cp310-cp310-manylinux_2_17_x86_64.manylinux2014_x86_64.whl (194 kB)\n",
      "\u001b[2K   \u001b[90m━━━━━━━━━━━━━━━━━━━━━━━━━━━━━━━━━━━━━━━━\u001b[0m \u001b[32m194.1/194.1 kB\u001b[0m \u001b[31m17.2 MB/s\u001b[0m eta \u001b[36m0:00:00\u001b[0m\n",
      "\u001b[?25hBuilding wheels for collected packages: seqeval\n",
      "  Building wheel for seqeval (setup.py) ... \u001b[?25l\u001b[?25hdone\n",
      "  Created wheel for seqeval: filename=seqeval-1.2.2-py3-none-any.whl size=16161 sha256=22f12e479cfccce93f0a5ebca9a7dadff6f2e589b093c213639e7dfd592837c9\n",
      "  Stored in directory: /root/.cache/pip/wheels/1a/67/4a/ad4082dd7dfc30f2abfe4d80a2ed5926a506eb8a972b4767fa\n",
      "Successfully built seqeval\n",
      "Installing collected packages: xxhash, watchdog, tensorboardx, fsspec, dill, pydeck, multiprocess, seqeval, streamlit, datasets, simpletransformers\n",
      "  Attempting uninstall: fsspec\n",
      "    Found existing installation: fsspec 2024.10.0\n",
      "    Uninstalling fsspec-2024.10.0:\n",
      "      Successfully uninstalled fsspec-2024.10.0\n",
      "\u001b[31mERROR: pip's dependency resolver does not currently take into account all the packages that are installed. This behaviour is the source of the following dependency conflicts.\n",
      "gcsfs 2024.10.0 requires fsspec==2024.10.0, but you have fsspec 2024.9.0 which is incompatible.\u001b[0m\u001b[31m\n",
      "\u001b[0mSuccessfully installed datasets-3.2.0 dill-0.3.8 fsspec-2024.9.0 multiprocess-0.70.16 pydeck-0.9.1 seqeval-1.2.2 simpletransformers-0.70.1 streamlit-1.41.0 tensorboardx-2.6.2.2 watchdog-6.0.0 xxhash-3.5.0\n"
     ]
    }
   ],
   "source": [
    "!pip install transformers\n",
    "!pip install simpletransformers"
   ]
  },
  {
   "cell_type": "code",
   "execution_count": 2,
   "metadata": {
    "colab": {
     "base_uri": "https://localhost:8080/"
    },
    "id": "yfzl4PqLYyVZ",
    "outputId": "6dc34c47-5c3f-4e3b-9afb-2e90a4b9d1b2"
   },
   "outputs": [
    {
     "name": "stderr",
     "output_type": "stream",
     "text": [
      "[nltk_data] Downloading package punkt_tab to /root/nltk_data...\n",
      "[nltk_data]   Unzipping tokenizers/punkt_tab.zip.\n"
     ]
    }
   ],
   "source": [
    "import pandas as pd\n",
    "import ast\n",
    "import nltk\n",
    "nltk.download('punkt_tab')\n",
    "from nltk.tokenize import word_tokenize\n",
    "from sklearn.model_selection import train_test_split\n",
    "import torch\n",
    "import logging\n",
    "from simpletransformers.ner import NERModel\n",
    "\n",
    "logging.basicConfig(level=logging.INFO)\n",
    "logger = logging.getLogger(__name__)\n"
   ]
  },
  {
   "cell_type": "code",
   "execution_count": 3,
   "metadata": {
    "colab": {
     "base_uri": "https://localhost:8080/",
     "height": 206
    },
    "id": "cWqhCojnY5iY",
    "outputId": "221ab5b5-755d-4030-9bb8-d4a95bc06f9a"
   },
   "outputs": [
    {
     "data": {
      "application/vnd.google.colaboratory.intrinsic+json": {
       "type": "dataframe",
       "variable_name": "df"
      },
      "text/html": [
       "\n",
       "  <div id=\"df-226cfa2b-a321-4ab4-8a0e-55ec0f67cbbc\" class=\"colab-df-container\">\n",
       "    <div>\n",
       "<style scoped>\n",
       "    .dataframe tbody tr th:only-of-type {\n",
       "        vertical-align: middle;\n",
       "    }\n",
       "\n",
       "    .dataframe tbody tr th {\n",
       "        vertical-align: top;\n",
       "    }\n",
       "\n",
       "    .dataframe thead th {\n",
       "        text-align: right;\n",
       "    }\n",
       "</style>\n",
       "<table border=\"1\" class=\"dataframe\">\n",
       "  <thead>\n",
       "    <tr style=\"text-align: right;\">\n",
       "      <th></th>\n",
       "      <th>sentence_id</th>\n",
       "      <th>words</th>\n",
       "      <th>labels</th>\n",
       "    </tr>\n",
       "  </thead>\n",
       "  <tbody>\n",
       "    <tr>\n",
       "      <th>0</th>\n",
       "      <td>1</td>\n",
       "      <td>nayanthara</td>\n",
       "      <td>mal</td>\n",
       "    </tr>\n",
       "    <tr>\n",
       "      <th>1</th>\n",
       "      <td>1</td>\n",
       "      <td>kettiyathin</td>\n",
       "      <td>mal</td>\n",
       "    </tr>\n",
       "    <tr>\n",
       "      <th>2</th>\n",
       "      <td>1</td>\n",
       "      <td>shesham</td>\n",
       "      <td>mal</td>\n",
       "    </tr>\n",
       "    <tr>\n",
       "      <th>3</th>\n",
       "      <td>1</td>\n",
       "      <td>kanunnavar</td>\n",
       "      <td>mal</td>\n",
       "    </tr>\n",
       "    <tr>\n",
       "      <th>4</th>\n",
       "      <td>2</td>\n",
       "      <td>00:12</td>\n",
       "      <td>univ</td>\n",
       "    </tr>\n",
       "  </tbody>\n",
       "</table>\n",
       "</div>\n",
       "    <div class=\"colab-df-buttons\">\n",
       "\n",
       "  <div class=\"colab-df-container\">\n",
       "    <button class=\"colab-df-convert\" onclick=\"convertToInteractive('df-226cfa2b-a321-4ab4-8a0e-55ec0f67cbbc')\"\n",
       "            title=\"Convert this dataframe to an interactive table.\"\n",
       "            style=\"display:none;\">\n",
       "\n",
       "  <svg xmlns=\"http://www.w3.org/2000/svg\" height=\"24px\" viewBox=\"0 -960 960 960\">\n",
       "    <path d=\"M120-120v-720h720v720H120Zm60-500h600v-160H180v160Zm220 220h160v-160H400v160Zm0 220h160v-160H400v160ZM180-400h160v-160H180v160Zm440 0h160v-160H620v160ZM180-180h160v-160H180v160Zm440 0h160v-160H620v160Z\"/>\n",
       "  </svg>\n",
       "    </button>\n",
       "\n",
       "  <style>\n",
       "    .colab-df-container {\n",
       "      display:flex;\n",
       "      gap: 12px;\n",
       "    }\n",
       "\n",
       "    .colab-df-convert {\n",
       "      background-color: #E8F0FE;\n",
       "      border: none;\n",
       "      border-radius: 50%;\n",
       "      cursor: pointer;\n",
       "      display: none;\n",
       "      fill: #1967D2;\n",
       "      height: 32px;\n",
       "      padding: 0 0 0 0;\n",
       "      width: 32px;\n",
       "    }\n",
       "\n",
       "    .colab-df-convert:hover {\n",
       "      background-color: #E2EBFA;\n",
       "      box-shadow: 0px 1px 2px rgba(60, 64, 67, 0.3), 0px 1px 3px 1px rgba(60, 64, 67, 0.15);\n",
       "      fill: #174EA6;\n",
       "    }\n",
       "\n",
       "    .colab-df-buttons div {\n",
       "      margin-bottom: 4px;\n",
       "    }\n",
       "\n",
       "    [theme=dark] .colab-df-convert {\n",
       "      background-color: #3B4455;\n",
       "      fill: #D2E3FC;\n",
       "    }\n",
       "\n",
       "    [theme=dark] .colab-df-convert:hover {\n",
       "      background-color: #434B5C;\n",
       "      box-shadow: 0px 1px 3px 1px rgba(0, 0, 0, 0.15);\n",
       "      filter: drop-shadow(0px 1px 2px rgba(0, 0, 0, 0.3));\n",
       "      fill: #FFFFFF;\n",
       "    }\n",
       "  </style>\n",
       "\n",
       "    <script>\n",
       "      const buttonEl =\n",
       "        document.querySelector('#df-226cfa2b-a321-4ab4-8a0e-55ec0f67cbbc button.colab-df-convert');\n",
       "      buttonEl.style.display =\n",
       "        google.colab.kernel.accessAllowed ? 'block' : 'none';\n",
       "\n",
       "      async function convertToInteractive(key) {\n",
       "        const element = document.querySelector('#df-226cfa2b-a321-4ab4-8a0e-55ec0f67cbbc');\n",
       "        const dataTable =\n",
       "          await google.colab.kernel.invokeFunction('convertToInteractive',\n",
       "                                                    [key], {});\n",
       "        if (!dataTable) return;\n",
       "\n",
       "        const docLinkHtml = 'Like what you see? Visit the ' +\n",
       "          '<a target=\"_blank\" href=https://colab.research.google.com/notebooks/data_table.ipynb>data table notebook</a>'\n",
       "          + ' to learn more about interactive tables.';\n",
       "        element.innerHTML = '';\n",
       "        dataTable['output_type'] = 'display_data';\n",
       "        await google.colab.output.renderOutput(dataTable, element);\n",
       "        const docLink = document.createElement('div');\n",
       "        docLink.innerHTML = docLinkHtml;\n",
       "        element.appendChild(docLink);\n",
       "      }\n",
       "    </script>\n",
       "  </div>\n",
       "\n",
       "\n",
       "<div id=\"df-120e5b66-294c-46a9-a439-ef3f6feed839\">\n",
       "  <button class=\"colab-df-quickchart\" onclick=\"quickchart('df-120e5b66-294c-46a9-a439-ef3f6feed839')\"\n",
       "            title=\"Suggest charts\"\n",
       "            style=\"display:none;\">\n",
       "\n",
       "<svg xmlns=\"http://www.w3.org/2000/svg\" height=\"24px\"viewBox=\"0 0 24 24\"\n",
       "     width=\"24px\">\n",
       "    <g>\n",
       "        <path d=\"M19 3H5c-1.1 0-2 .9-2 2v14c0 1.1.9 2 2 2h14c1.1 0 2-.9 2-2V5c0-1.1-.9-2-2-2zM9 17H7v-7h2v7zm4 0h-2V7h2v10zm4 0h-2v-4h2v4z\"/>\n",
       "    </g>\n",
       "</svg>\n",
       "  </button>\n",
       "\n",
       "<style>\n",
       "  .colab-df-quickchart {\n",
       "      --bg-color: #E8F0FE;\n",
       "      --fill-color: #1967D2;\n",
       "      --hover-bg-color: #E2EBFA;\n",
       "      --hover-fill-color: #174EA6;\n",
       "      --disabled-fill-color: #AAA;\n",
       "      --disabled-bg-color: #DDD;\n",
       "  }\n",
       "\n",
       "  [theme=dark] .colab-df-quickchart {\n",
       "      --bg-color: #3B4455;\n",
       "      --fill-color: #D2E3FC;\n",
       "      --hover-bg-color: #434B5C;\n",
       "      --hover-fill-color: #FFFFFF;\n",
       "      --disabled-bg-color: #3B4455;\n",
       "      --disabled-fill-color: #666;\n",
       "  }\n",
       "\n",
       "  .colab-df-quickchart {\n",
       "    background-color: var(--bg-color);\n",
       "    border: none;\n",
       "    border-radius: 50%;\n",
       "    cursor: pointer;\n",
       "    display: none;\n",
       "    fill: var(--fill-color);\n",
       "    height: 32px;\n",
       "    padding: 0;\n",
       "    width: 32px;\n",
       "  }\n",
       "\n",
       "  .colab-df-quickchart:hover {\n",
       "    background-color: var(--hover-bg-color);\n",
       "    box-shadow: 0 1px 2px rgba(60, 64, 67, 0.3), 0 1px 3px 1px rgba(60, 64, 67, 0.15);\n",
       "    fill: var(--button-hover-fill-color);\n",
       "  }\n",
       "\n",
       "  .colab-df-quickchart-complete:disabled,\n",
       "  .colab-df-quickchart-complete:disabled:hover {\n",
       "    background-color: var(--disabled-bg-color);\n",
       "    fill: var(--disabled-fill-color);\n",
       "    box-shadow: none;\n",
       "  }\n",
       "\n",
       "  .colab-df-spinner {\n",
       "    border: 2px solid var(--fill-color);\n",
       "    border-color: transparent;\n",
       "    border-bottom-color: var(--fill-color);\n",
       "    animation:\n",
       "      spin 1s steps(1) infinite;\n",
       "  }\n",
       "\n",
       "  @keyframes spin {\n",
       "    0% {\n",
       "      border-color: transparent;\n",
       "      border-bottom-color: var(--fill-color);\n",
       "      border-left-color: var(--fill-color);\n",
       "    }\n",
       "    20% {\n",
       "      border-color: transparent;\n",
       "      border-left-color: var(--fill-color);\n",
       "      border-top-color: var(--fill-color);\n",
       "    }\n",
       "    30% {\n",
       "      border-color: transparent;\n",
       "      border-left-color: var(--fill-color);\n",
       "      border-top-color: var(--fill-color);\n",
       "      border-right-color: var(--fill-color);\n",
       "    }\n",
       "    40% {\n",
       "      border-color: transparent;\n",
       "      border-right-color: var(--fill-color);\n",
       "      border-top-color: var(--fill-color);\n",
       "    }\n",
       "    60% {\n",
       "      border-color: transparent;\n",
       "      border-right-color: var(--fill-color);\n",
       "    }\n",
       "    80% {\n",
       "      border-color: transparent;\n",
       "      border-right-color: var(--fill-color);\n",
       "      border-bottom-color: var(--fill-color);\n",
       "    }\n",
       "    90% {\n",
       "      border-color: transparent;\n",
       "      border-bottom-color: var(--fill-color);\n",
       "    }\n",
       "  }\n",
       "</style>\n",
       "\n",
       "  <script>\n",
       "    async function quickchart(key) {\n",
       "      const quickchartButtonEl =\n",
       "        document.querySelector('#' + key + ' button');\n",
       "      quickchartButtonEl.disabled = true;  // To prevent multiple clicks.\n",
       "      quickchartButtonEl.classList.add('colab-df-spinner');\n",
       "      try {\n",
       "        const charts = await google.colab.kernel.invokeFunction(\n",
       "            'suggestCharts', [key], {});\n",
       "      } catch (error) {\n",
       "        console.error('Error during call to suggestCharts:', error);\n",
       "      }\n",
       "      quickchartButtonEl.classList.remove('colab-df-spinner');\n",
       "      quickchartButtonEl.classList.add('colab-df-quickchart-complete');\n",
       "    }\n",
       "    (() => {\n",
       "      let quickchartButtonEl =\n",
       "        document.querySelector('#df-120e5b66-294c-46a9-a439-ef3f6feed839 button');\n",
       "      quickchartButtonEl.style.display =\n",
       "        google.colab.kernel.accessAllowed ? 'block' : 'none';\n",
       "    })();\n",
       "  </script>\n",
       "</div>\n",
       "\n",
       "    </div>\n",
       "  </div>\n"
      ],
      "text/plain": [
       "   sentence_id        words labels\n",
       "0            1   nayanthara    mal\n",
       "1            1  kettiyathin    mal\n",
       "2            1      shesham    mal\n",
       "3            1   kanunnavar    mal\n",
       "4            2        00:12   univ"
      ]
     },
     "execution_count": 3,
     "metadata": {},
     "output_type": "execute_result"
    }
   ],
   "source": [
    "df = pd.read_csv('ner_dataset.csv')\n",
    "df[\"words\"] = df[\"words\"].fillna(\"\").astype(str)\n",
    "df.head()\n"
   ]
  },
  {
   "cell_type": "code",
   "execution_count": 4,
   "metadata": {
    "colab": {
     "base_uri": "https://localhost:8080/"
    },
    "id": "dAxbBWcWZBiL",
    "outputId": "7d35a110-63dc-4b61-d5de-ed3d688c9ef1"
   },
   "outputs": [
    {
     "name": "stdout",
     "output_type": "stream",
     "text": [
      "Training size: 263461\n",
      "Validation size: 32933\n",
      "Test size: 32933\n",
      "Unique labels in the dataset: ['mal', 'univ', 'eng', 'mix', 'acr']\n"
     ]
    }
   ],
   "source": [
    "train_df, temp_df = train_test_split(df, test_size=0.2, random_state=42)\n",
    "val_df, test_df = train_test_split(temp_df, test_size=0.5, random_state=42)\n",
    "\n",
    "print(f\"Training size: {len(train_df)}\")\n",
    "print(f\"Validation size: {len(val_df)}\")\n",
    "print(f\"Test size: {len(test_df)}\")\n",
    "\n",
    "# Extract unique labels from the dataset\n",
    "unique_labels = list(df[\"labels\"].unique())\n",
    "print(\"Unique labels in the dataset:\", unique_labels)"
   ]
  },
  {
   "cell_type": "code",
   "execution_count": 5,
   "metadata": {
    "colab": {
     "base_uri": "https://localhost:8080/",
     "height": 405,
     "referenced_widgets": [
      "9d9e161e78d544f1b5f744149d960e27",
      "03f00664b1db470bbc4254293fd2e24b",
      "8e6b8d6a0b5a43e39d87a4bd95ca776f",
      "483960370362469d9c5b196b7bd729f1",
      "bc9ca7c14f5547b7a68ddbec612f5d16",
      "bf761b6d555c43b885bb702e45c1e400",
      "54081e06a7aa478ba163f79f63ad3506",
      "01a7a16c224b405aa447e09e484dbf51",
      "cc0ca96a0f7f47bbba1766bfcfa30538",
      "75f582d367e94d4b9c4216c504018e3c",
      "f7341c787de54dacb38fcd5f8a7d6ea7",
      "b0c8061be8a1454f890ca4272e2121d5",
      "af0d1cd7589f4dae863c846ffd705dcd",
      "efd875b70ac44199b82a6d2f1ce5ae16",
      "d971c49b10f34cf4ae248b3b5015c58d",
      "bc7c2de4115a48608070c92b10447514",
      "6382fdf0c1fd4ce7accb87e0d69f240e",
      "709d660e928e458ca6d3920d91f622b0",
      "459a385aa69f4aa494ec30f2cb71c3a3",
      "55d55eb4242c42f19c62a7795a11fe9e",
      "486862ccd83349e08e2148bc0c2ea7fe",
      "900581e1c00b49e7bd609548e719da84",
      "87530c4de7f24ae481a290760bfbd9d5",
      "ceecc756682944f895194ceae19bdbb8",
      "9db2491a61d94ceab5906df41378476a",
      "ed8ec046644f4261896e0443b2e1eee4",
      "65a830526604493485be2f6c282323b6",
      "eb0ffec9a74447c68929caed8877587e",
      "55ddc24391004498bb0c874813345a7c",
      "6efc7da6821642a0b12b264ef3e468fa",
      "4751e03622ec408b86e9ac06577afce2",
      "80ba1f55fffd4b039bb165a694bd5f61",
      "d09692f5f349427ebcc98781127b043e",
      "c744218a203e4b0497c6a7c2b7f752b9",
      "ae69fbd96fbc4c6ebe94a5a7599f43f5",
      "6580994fdead43ac81ec7b6da7521f45",
      "bf8400feb59749e3b843d8cf4873ac21",
      "b32da8df3ca641218c546e675a729c48",
      "865b83d42b744c7888151749c8162155",
      "12579f674b2246388080c6d58579909c",
      "755b7639620e4f0e9a2eff1d94c09469",
      "bc8153afab2547cb9e5ced05ca84819a",
      "47db8aad1bbb45d48b433bcbe7cd95bc",
      "cbe2b085d72e41c98dcbc4a7a3114038",
      "04332c9ba9a54037837766aa7c37320a",
      "a5e168459da84a419fef2f3ec1a880e7",
      "176426cd3dfd423db146dd400850dfc9",
      "85759792d2d5421b89501e775b5757e0",
      "025c4262b92e42ecad1f144b9699422f",
      "45b2df9ff85c4116a78e112a4ebc2355",
      "45573a43440b4a44a3a512e3be6b4eee",
      "bc776e993f4043fc9893169e45c5ff45",
      "18e268ddacde40c18f3fc1636f33dfc6",
      "a5a0175b75454dd69d407a4c95bc13a3",
      "181df76c70154e8eb7f588f7f0f6c247"
     ]
    },
    "id": "pYMECYwUZIiK",
    "outputId": "7b0666fd-19d8-4bfa-f0f4-d186251a162b"
   },
   "outputs": [
    {
     "name": "stderr",
     "output_type": "stream",
     "text": [
      "/usr/local/lib/python3.10/dist-packages/huggingface_hub/utils/_auth.py:94: UserWarning: \n",
      "The secret `HF_TOKEN` does not exist in your Colab secrets.\n",
      "To authenticate with the Hugging Face Hub, create a token in your settings tab (https://huggingface.co/settings/tokens), set it as secret in your Google Colab and restart your session.\n",
      "You will be able to reuse this secret in all of your notebooks.\n",
      "Please note that authentication is recommended but still optional to access public models or datasets.\n",
      "  warnings.warn(\n"
     ]
    },
    {
     "data": {
      "application/vnd.jupyter.widget-view+json": {
       "model_id": "9d9e161e78d544f1b5f744149d960e27",
       "version_major": 2,
       "version_minor": 0
      },
      "text/plain": [
       "config.json:   0%|          | 0.00/483 [00:00<?, ?B/s]"
      ]
     },
     "metadata": {},
     "output_type": "display_data"
    },
    {
     "name": "stderr",
     "output_type": "stream",
     "text": [
      "You are using a model of type distilbert to instantiate a model of type bert. This is not supported for all configurations of models and can yield errors.\n"
     ]
    },
    {
     "data": {
      "application/vnd.jupyter.widget-view+json": {
       "model_id": "b0c8061be8a1454f890ca4272e2121d5",
       "version_major": 2,
       "version_minor": 0
      },
      "text/plain": [
       "model.safetensors:   0%|          | 0.00/268M [00:00<?, ?B/s]"
      ]
     },
     "metadata": {},
     "output_type": "display_data"
    },
    {
     "name": "stderr",
     "output_type": "stream",
     "text": [
      "Some weights of BertForTokenClassification were not initialized from the model checkpoint at distilbert-base-uncased and are newly initialized: ['classifier.bias', 'classifier.weight', 'embeddings.LayerNorm.bias', 'embeddings.LayerNorm.weight', 'embeddings.position_embeddings.weight', 'embeddings.token_type_embeddings.weight', 'embeddings.word_embeddings.weight', 'encoder.layer.0.attention.output.LayerNorm.bias', 'encoder.layer.0.attention.output.LayerNorm.weight', 'encoder.layer.0.attention.output.dense.bias', 'encoder.layer.0.attention.output.dense.weight', 'encoder.layer.0.attention.self.key.bias', 'encoder.layer.0.attention.self.key.weight', 'encoder.layer.0.attention.self.query.bias', 'encoder.layer.0.attention.self.query.weight', 'encoder.layer.0.attention.self.value.bias', 'encoder.layer.0.attention.self.value.weight', 'encoder.layer.0.intermediate.dense.bias', 'encoder.layer.0.intermediate.dense.weight', 'encoder.layer.0.output.LayerNorm.bias', 'encoder.layer.0.output.LayerNorm.weight', 'encoder.layer.0.output.dense.bias', 'encoder.layer.0.output.dense.weight', 'encoder.layer.1.attention.output.LayerNorm.bias', 'encoder.layer.1.attention.output.LayerNorm.weight', 'encoder.layer.1.attention.output.dense.bias', 'encoder.layer.1.attention.output.dense.weight', 'encoder.layer.1.attention.self.key.bias', 'encoder.layer.1.attention.self.key.weight', 'encoder.layer.1.attention.self.query.bias', 'encoder.layer.1.attention.self.query.weight', 'encoder.layer.1.attention.self.value.bias', 'encoder.layer.1.attention.self.value.weight', 'encoder.layer.1.intermediate.dense.bias', 'encoder.layer.1.intermediate.dense.weight', 'encoder.layer.1.output.LayerNorm.bias', 'encoder.layer.1.output.LayerNorm.weight', 'encoder.layer.1.output.dense.bias', 'encoder.layer.1.output.dense.weight', 'encoder.layer.10.attention.output.LayerNorm.bias', 'encoder.layer.10.attention.output.LayerNorm.weight', 'encoder.layer.10.attention.output.dense.bias', 'encoder.layer.10.attention.output.dense.weight', 'encoder.layer.10.attention.self.key.bias', 'encoder.layer.10.attention.self.key.weight', 'encoder.layer.10.attention.self.query.bias', 'encoder.layer.10.attention.self.query.weight', 'encoder.layer.10.attention.self.value.bias', 'encoder.layer.10.attention.self.value.weight', 'encoder.layer.10.intermediate.dense.bias', 'encoder.layer.10.intermediate.dense.weight', 'encoder.layer.10.output.LayerNorm.bias', 'encoder.layer.10.output.LayerNorm.weight', 'encoder.layer.10.output.dense.bias', 'encoder.layer.10.output.dense.weight', 'encoder.layer.11.attention.output.LayerNorm.bias', 'encoder.layer.11.attention.output.LayerNorm.weight', 'encoder.layer.11.attention.output.dense.bias', 'encoder.layer.11.attention.output.dense.weight', 'encoder.layer.11.attention.self.key.bias', 'encoder.layer.11.attention.self.key.weight', 'encoder.layer.11.attention.self.query.bias', 'encoder.layer.11.attention.self.query.weight', 'encoder.layer.11.attention.self.value.bias', 'encoder.layer.11.attention.self.value.weight', 'encoder.layer.11.intermediate.dense.bias', 'encoder.layer.11.intermediate.dense.weight', 'encoder.layer.11.output.LayerNorm.bias', 'encoder.layer.11.output.LayerNorm.weight', 'encoder.layer.11.output.dense.bias', 'encoder.layer.11.output.dense.weight', 'encoder.layer.2.attention.output.LayerNorm.bias', 'encoder.layer.2.attention.output.LayerNorm.weight', 'encoder.layer.2.attention.output.dense.bias', 'encoder.layer.2.attention.output.dense.weight', 'encoder.layer.2.attention.self.key.bias', 'encoder.layer.2.attention.self.key.weight', 'encoder.layer.2.attention.self.query.bias', 'encoder.layer.2.attention.self.query.weight', 'encoder.layer.2.attention.self.value.bias', 'encoder.layer.2.attention.self.value.weight', 'encoder.layer.2.intermediate.dense.bias', 'encoder.layer.2.intermediate.dense.weight', 'encoder.layer.2.output.LayerNorm.bias', 'encoder.layer.2.output.LayerNorm.weight', 'encoder.layer.2.output.dense.bias', 'encoder.layer.2.output.dense.weight', 'encoder.layer.3.attention.output.LayerNorm.bias', 'encoder.layer.3.attention.output.LayerNorm.weight', 'encoder.layer.3.attention.output.dense.bias', 'encoder.layer.3.attention.output.dense.weight', 'encoder.layer.3.attention.self.key.bias', 'encoder.layer.3.attention.self.key.weight', 'encoder.layer.3.attention.self.query.bias', 'encoder.layer.3.attention.self.query.weight', 'encoder.layer.3.attention.self.value.bias', 'encoder.layer.3.attention.self.value.weight', 'encoder.layer.3.intermediate.dense.bias', 'encoder.layer.3.intermediate.dense.weight', 'encoder.layer.3.output.LayerNorm.bias', 'encoder.layer.3.output.LayerNorm.weight', 'encoder.layer.3.output.dense.bias', 'encoder.layer.3.output.dense.weight', 'encoder.layer.4.attention.output.LayerNorm.bias', 'encoder.layer.4.attention.output.LayerNorm.weight', 'encoder.layer.4.attention.output.dense.bias', 'encoder.layer.4.attention.output.dense.weight', 'encoder.layer.4.attention.self.key.bias', 'encoder.layer.4.attention.self.key.weight', 'encoder.layer.4.attention.self.query.bias', 'encoder.layer.4.attention.self.query.weight', 'encoder.layer.4.attention.self.value.bias', 'encoder.layer.4.attention.self.value.weight', 'encoder.layer.4.intermediate.dense.bias', 'encoder.layer.4.intermediate.dense.weight', 'encoder.layer.4.output.LayerNorm.bias', 'encoder.layer.4.output.LayerNorm.weight', 'encoder.layer.4.output.dense.bias', 'encoder.layer.4.output.dense.weight', 'encoder.layer.5.attention.output.LayerNorm.bias', 'encoder.layer.5.attention.output.LayerNorm.weight', 'encoder.layer.5.attention.output.dense.bias', 'encoder.layer.5.attention.output.dense.weight', 'encoder.layer.5.attention.self.key.bias', 'encoder.layer.5.attention.self.key.weight', 'encoder.layer.5.attention.self.query.bias', 'encoder.layer.5.attention.self.query.weight', 'encoder.layer.5.attention.self.value.bias', 'encoder.layer.5.attention.self.value.weight', 'encoder.layer.5.intermediate.dense.bias', 'encoder.layer.5.intermediate.dense.weight', 'encoder.layer.5.output.LayerNorm.bias', 'encoder.layer.5.output.LayerNorm.weight', 'encoder.layer.5.output.dense.bias', 'encoder.layer.5.output.dense.weight', 'encoder.layer.6.attention.output.LayerNorm.bias', 'encoder.layer.6.attention.output.LayerNorm.weight', 'encoder.layer.6.attention.output.dense.bias', 'encoder.layer.6.attention.output.dense.weight', 'encoder.layer.6.attention.self.key.bias', 'encoder.layer.6.attention.self.key.weight', 'encoder.layer.6.attention.self.query.bias', 'encoder.layer.6.attention.self.query.weight', 'encoder.layer.6.attention.self.value.bias', 'encoder.layer.6.attention.self.value.weight', 'encoder.layer.6.intermediate.dense.bias', 'encoder.layer.6.intermediate.dense.weight', 'encoder.layer.6.output.LayerNorm.bias', 'encoder.layer.6.output.LayerNorm.weight', 'encoder.layer.6.output.dense.bias', 'encoder.layer.6.output.dense.weight', 'encoder.layer.7.attention.output.LayerNorm.bias', 'encoder.layer.7.attention.output.LayerNorm.weight', 'encoder.layer.7.attention.output.dense.bias', 'encoder.layer.7.attention.output.dense.weight', 'encoder.layer.7.attention.self.key.bias', 'encoder.layer.7.attention.self.key.weight', 'encoder.layer.7.attention.self.query.bias', 'encoder.layer.7.attention.self.query.weight', 'encoder.layer.7.attention.self.value.bias', 'encoder.layer.7.attention.self.value.weight', 'encoder.layer.7.intermediate.dense.bias', 'encoder.layer.7.intermediate.dense.weight', 'encoder.layer.7.output.LayerNorm.bias', 'encoder.layer.7.output.LayerNorm.weight', 'encoder.layer.7.output.dense.bias', 'encoder.layer.7.output.dense.weight', 'encoder.layer.8.attention.output.LayerNorm.bias', 'encoder.layer.8.attention.output.LayerNorm.weight', 'encoder.layer.8.attention.output.dense.bias', 'encoder.layer.8.attention.output.dense.weight', 'encoder.layer.8.attention.self.key.bias', 'encoder.layer.8.attention.self.key.weight', 'encoder.layer.8.attention.self.query.bias', 'encoder.layer.8.attention.self.query.weight', 'encoder.layer.8.attention.self.value.bias', 'encoder.layer.8.attention.self.value.weight', 'encoder.layer.8.intermediate.dense.bias', 'encoder.layer.8.intermediate.dense.weight', 'encoder.layer.8.output.LayerNorm.bias', 'encoder.layer.8.output.LayerNorm.weight', 'encoder.layer.8.output.dense.bias', 'encoder.layer.8.output.dense.weight', 'encoder.layer.9.attention.output.LayerNorm.bias', 'encoder.layer.9.attention.output.LayerNorm.weight', 'encoder.layer.9.attention.output.dense.bias', 'encoder.layer.9.attention.output.dense.weight', 'encoder.layer.9.attention.self.key.bias', 'encoder.layer.9.attention.self.key.weight', 'encoder.layer.9.attention.self.query.bias', 'encoder.layer.9.attention.self.query.weight', 'encoder.layer.9.attention.self.value.bias', 'encoder.layer.9.attention.self.value.weight', 'encoder.layer.9.intermediate.dense.bias', 'encoder.layer.9.intermediate.dense.weight', 'encoder.layer.9.output.LayerNorm.bias', 'encoder.layer.9.output.LayerNorm.weight', 'encoder.layer.9.output.dense.bias', 'encoder.layer.9.output.dense.weight']\n",
      "You should probably TRAIN this model on a down-stream task to be able to use it for predictions and inference.\n"
     ]
    },
    {
     "data": {
      "application/vnd.jupyter.widget-view+json": {
       "model_id": "87530c4de7f24ae481a290760bfbd9d5",
       "version_major": 2,
       "version_minor": 0
      },
      "text/plain": [
       "tokenizer_config.json:   0%|          | 0.00/48.0 [00:00<?, ?B/s]"
      ]
     },
     "metadata": {},
     "output_type": "display_data"
    },
    {
     "data": {
      "application/vnd.jupyter.widget-view+json": {
       "model_id": "c744218a203e4b0497c6a7c2b7f752b9",
       "version_major": 2,
       "version_minor": 0
      },
      "text/plain": [
       "vocab.txt:   0%|          | 0.00/232k [00:00<?, ?B/s]"
      ]
     },
     "metadata": {},
     "output_type": "display_data"
    },
    {
     "data": {
      "application/vnd.jupyter.widget-view+json": {
       "model_id": "04332c9ba9a54037837766aa7c37320a",
       "version_major": 2,
       "version_minor": 0
      },
      "text/plain": [
       "tokenizer.json:   0%|          | 0.00/466k [00:00<?, ?B/s]"
      ]
     },
     "metadata": {},
     "output_type": "display_data"
    },
    {
     "name": "stderr",
     "output_type": "stream",
     "text": [
      "The tokenizer class you load from this checkpoint is not the same type as the class this function is called from. It may result in unexpected tokenization. \n",
      "The tokenizer class you load from this checkpoint is 'DistilBertTokenizer'. \n",
      "The class this function is called from is 'BertTokenizer'.\n"
     ]
    }
   ],
   "source": [
    "model_args = {\n",
    "    \"overwrite_output_dir\": True,\n",
    "    \"reprocess_input_data\": True,\n",
    "    \"save_steps\": -1,\n",
    "    \"num_train_epochs\": 5,\n",
    "    \"train_batch_size\": 16,\n",
    "    \"eval_batch_size\": 16,\n",
    "    \"max_seq_length\": 128,\n",
    "    \"learning_rate\": 2e-5,\n",
    "    \"save_model_every_epoch\": False,\n",
    "    \"save_eval_checkpoints\": False,\n",
    "    \"evaluate_during_training\": True,\n",
    "    \"output_dir\": \"outputs/\",\n",
    "    \"best_model_dir\": \"outputs/best_model/\",\n",
    "    \"labels_list\": unique_labels,  # Add this line with your labels\n",
    "}\n",
    "\n",
    "distil = NERModel(\n",
    "    model_type=\"bert\",\n",
    "    model_name=\"distilbert-base-uncased\",\n",
    "    args=model_args,\n",
    "    use_cuda=torch.cuda.is_available()\n",
    ")\n",
    "\n"
   ]
  },
  {
   "cell_type": "code",
   "execution_count": 6,
   "metadata": {
    "colab": {
     "base_uri": "https://localhost:8080/"
    },
    "id": "zjwVvgeRZJrw",
    "outputId": "cffd7b0a-f4ee-4840-9256-2e9bfc955fe1"
   },
   "outputs": [
    {
     "name": "stdout",
     "output_type": "stream",
     "text": [
      "        sentence_id   words labels\n",
      "199781        33943  aanenn    mal\n",
      "131447        21490       %   univ\n",
      "204812        34786     dhe    mal\n",
      "27121          4977    next    eng\n",
      "85254         14281   robin    eng\n",
      "        sentence_id      words labels\n",
      "258702        44189        njn    mal\n",
      "56139          9908      react    eng\n",
      "198375        33702          🤣   univ\n",
      "324160        53398  thonnunn🤗    mal\n",
      "263637        45105      😍😍😂😂😀   univ\n"
     ]
    }
   ],
   "source": [
    "train_data = train_df[[\"sentence_id\", \"words\", \"labels\"]]\n",
    "val_data = val_df[[\"sentence_id\", \"words\", \"labels\"]]\n",
    "print(train_data.head())\n",
    "print(val_data.head())"
   ]
  },
  {
   "cell_type": "code",
   "execution_count": 7,
   "metadata": {
    "id": "WUng362YZMh1"
   },
   "outputs": [],
   "source": [
    "# Ensure labels are consistent with the defined `labels_list`\n",
    "assert set(train_data[\"labels\"].unique()).issubset(set(unique_labels)), \"Mismatch in train labels\"\n",
    "assert set(val_data[\"labels\"].unique()).issubset(set(unique_labels)), \"Mismatch in val labels\""
   ]
  },
  {
   "cell_type": "code",
   "execution_count": 8,
   "metadata": {
    "colab": {
     "base_uri": "https://localhost:8080/",
     "height": 1000,
     "referenced_widgets": [
      "9223ea43631046ffa2b08b69d74fbd12",
      "2887edef95af4d42aae2d9c0dc90723b",
      "f018ce48412f4f62bea051a09078aafa",
      "601b6989205a4fcab9e24116ae099665",
      "d8cdfe28c1494f4cabe3388926a1fea7",
      "eb89b8519e2d4d7a905bfe6cef5adec7",
      "d5f73a830f1b429dbac82a849c83bb9b",
      "5d8501c001e24bd98662ca48d6fa6cd5",
      "6fa1f1277b5645629cebd9df6941c0ca",
      "d2c46d9c9a804511ab881b369c605aba",
      "9e1cb36724d74379b705fcfd67c971d4",
      "75260bb84e7249b2844dde5743f22ce2",
      "9dfaf0594e2645a194ee94c13f053d7e",
      "d0e35674d2aa4105ba50d2b3b024a5ae",
      "e2e3837d1bd04ddd997cc33cc2ec795f",
      "ff2a15a886c24f94b8a98bfcfe1c3fc0",
      "651f56d38c914285981c3308fd8295a8",
      "220bad14975c446d82a4e2e811953850",
      "3f28cde0f2f34126a95d8675ae25a534",
      "6932ebc651c048e9be22f3897457ca94",
      "eb9cf8456faf41e7bc5a6abce5870c49",
      "04492f272c3c4a049bdbaa15506a703f",
      "2c22fe122ea542259fed734b3b94987d",
      "6579c882396548b5ac342a647fa9cf21",
      "aea42f99dae444d3a9c56a2691bb4c99",
      "5ef06ed45f9f48a28501233ad22aa6c7",
      "526f1944e0bc49cc9603266e9ba7522c",
      "dc33c2a05aa941a086e11d82f50ad753",
      "b5b93b831d8740ae8982eed5de49b2cd",
      "2a1e05138ba94f6dbdf76c16c05ad057",
      "1d0b14c10e634d3b9d43bcc0117df8c0",
      "c3c9915cee5c42c5beaf2b1d07a7fbd2",
      "79888f151bb44780b2ed0cd273258dfc",
      "f67d3fa100a84ee3863db465dda94fcc",
      "ba91c5119af54ab88c42b83d1a58549c",
      "4bbb343216894e0c90fa16240f20462d",
      "ad55235cd6fc49d3bee68f9d60bb7cbd",
      "547390cd7f504ae2b550999f926ac11f",
      "45f0d6928edd487cab36a120d202b015",
      "90184952148140c5bba6356f56b3821a",
      "9d40011e830d4feba64516ffd770168e",
      "3fba1900b718481f976349e75dac030d",
      "9d36f0d7e67b407d854efcf12db7c8e1",
      "0a7aaa64b3294d6b98bea033288f2e12",
      "4b35836947164ba5bc15ebb3c9a68e7a",
      "548f6861ca9c4b61a3155e814ee167b7",
      "73ef00dbb4564c7a8e03627158cad952",
      "83fd8bfc4ce14e799607979ac1e7b0f3",
      "ea378e60068845f59a5903732db02d44",
      "f0147ab53e4649369707ffc820ad981e",
      "80de5ea8b5854363ad631ed31cd7e8a5",
      "eae1391c272b4b3ba60c6baa526d7107",
      "2b20dcc7f2614b659000644c9beead70",
      "994f738c69264728aa9fbdb150af62c4",
      "7168683723e64df1ae5ac30156dcbad2",
      "d58ae83ca6c64cbdbb3a33bbac007381",
      "24b7dcfe16854f9ea233531855504434",
      "b9488be855f440bf8e50b33bdb50e92d",
      "d3ba282c2ac34401bce1780795c33272",
      "65e1fecf3a4344dbb14251dabe81f277",
      "229bf762d13542c6915af161119850c1",
      "891c583e0e0f4d68b8e0e6fc1e2e80b5",
      "e24e8bc7491b44d5acdc963aa8d90a6c",
      "2356df3ebb7040e19c35f43907907f40",
      "eb2278938e7248b5b17ef257e7ffc5fa",
      "bae0635091594fbca2e4c2b5bf0c9362",
      "a23c6eb11d424167847fbb103b6d1d2d",
      "8647b6b0ea5141cfbab14bcc5599a581",
      "5356dcefbb414bbb870295d443c64b2e",
      "39539e423d9e4cfdb0a6348d6536fc45",
      "2bcf37f6979a4062842432b157c4dc81",
      "3183b94cd4684735a25d716a96d0abf8",
      "3f8bee4ba73f418d93e1bdc4a9847693",
      "81c2d47aa7514280bd29874528630e36",
      "f6c0101c09e54f46bdacfcfca739e109",
      "fb7e8e1fcccc4ef8b0a8820ab2f09e65",
      "aa7fc134ad6e463b953222aa0dd1446d",
      "3c6bf3979fad45de8f424310c29fae68",
      "497cdad423c6425bacf86bb86b8c6297",
      "677c51c2a4e54079b0cda4e01d2285db",
      "ef90daa0bdd24c9b848bf02c4e036c45",
      "10afc436bdac43098032a6137fc69181",
      "637fab773da947e898e39aab00893b31",
      "0877cee5b358410fb88f1c04b1bae1b0",
      "aa0f57ec51744d58b7949857f212a60d",
      "51348200a8b14ee7bf83764264abf572",
      "7b4fafae2b124141ae13628d8f1f1e5e",
      "fa21ee1e808e4db5ae76548982b755b4",
      "cdfbf8f3305c4da898f9e5b336d7fd32",
      "6a9926e314934fc1aa290003c3000081",
      "cb9b5a1937f7486986dc335695412529",
      "dffe589e08874ef0b3f9288334280318",
      "9542a7df83d34cc9b36056d5db317f32",
      "c1d0934f284c42e48a02362c5316bb4a",
      "6e1545215d084996a4b0b504b8b574de",
      "ea9fae7852c74722b3490dded0d02462",
      "45eb034be9404516945059027b2c9f5f",
      "fd5195d7273e47a9a07b8412e7ff0f71",
      "346972fb4f364ef9b7a54433c97b3182",
      "b32be640c219430eaee02b87057fe15e",
      "da559771eede4b9d8f8ab1cc1c542edb",
      "fa61feb10c1449aab2cfacd45ae411c7",
      "5c98b3bf6f274e94855f48c61a72adb1",
      "4b164656e6764721a3c1dec6004ca13b",
      "d359be50b398431fa2f2048d81353294",
      "eab2aebfa00844268ba8bf2f3d900106",
      "21309501e3bb49a280d9bc95f1c4a0c3",
      "6574bf8ce01f46179b0fff426625ab51",
      "3fda2dedbcc04c878335bca4d35e7e93",
      "0e2525af6129409c8516f8eb1a24ef04",
      "9b3f996b512149cbbf3aecc286fe8f0a",
      "b776b1efc0884d0eb8eabc82324bb101",
      "82e5366c5967489e8c97ecd0e93abe6d",
      "30873fa8826f4dbd90e901ddfe2572c3",
      "d57d4f9026414b0b81ababc81dd66efa",
      "a87f569823d1465cb0189b94252aba04",
      "53326d41d4ff4bf89c9619eddafe46d4",
      "3c943d63ddec42f9aa53465c172ed1f9",
      "38a5fe94ddf74e8180d3babb9b0a57ec",
      "7b12b0c3c73b47fba4825117b3635d75",
      "631341f7f58047d59789ac288ce7207b",
      "8b46cac1c38b448dac4ea0920b07b7aa",
      "953d1557ca694f14a433fc4c8804fba8",
      "af3b61b8a2664c5682d4813e7ec9aeb8",
      "8169b7022dcf48c59f011f0efdd933e8",
      "cfec4ad585ed40f08e299dc182520f6f",
      "718f9029d0464d94a49ba209aeb02b73",
      "1afa552393c8486d99203161745a0f86",
      "642a647c256e4120be522ca26b60aae6",
      "2023116aefd3466abe9c8afe3f51e45a",
      "2718e79f1ea7415089c227dcf89abaa3",
      "88140915b68c434bb25c990533a9e256",
      "6018ad45ab884cbaa248856eacf3e349",
      "9fa7eb00728d43e7a7e049cc14cad9c7",
      "fa3c8dc824d54a158e09f5a70a73a6c9",
      "bf056858cbd94b6fa8499c5cae516665",
      "4df6008c6fc84781b0a161c48ce7c7e4",
      "8a8bcb20b28d443f96c854788da8a13e",
      "c8f209a812fd4413bc88e2e694f85f7d",
      "65d8aed485bb4588b1b3e3d855e70937",
      "79729688c752463e8b0a96f2b0ad4ae2",
      "abd9c36f9dd34fe084c57d6de9c583d1",
      "8d9fa197c7e1436e9fd046789720d438",
      "a82f907d057d46ec9375785d51e65e29",
      "a5766924cd98419594582d4d24631586",
      "6270575bc03c4243a6c04c539798df73",
      "d3bcb521070a4e028f7b51d4e5739e2b",
      "e5d83499b639456aa54f0cde1f282560",
      "7f6bea39918545178434e7bdee4ea3cf",
      "5380be174c244ce3ad8542e2e19522ea",
      "5f6560fa710342f4aef9904a3c835507",
      "0bebb27ee86045b381ea7e05606f0284",
      "56487d0ea9534747af2a82af79520781",
      "396d3c66180c4a31b27d6c0850da8f0b",
      "e616abe7810e4c988c4b83152475b803",
      "74f9a6f2ebb548759bd7faab799dda23",
      "f642e9721061493e9796a6214f12b62e",
      "51ffa76c8a9745cb9cbc15c30e51f95b",
      "c618b51d3b634058b1793e7e6dea5f5b",
      "6578c72ca777436aa0e9f44a3e1f4e07",
      "23ab5e4451024554ae7022df45ff9a47",
      "ec327e9a34944c79a4bac7d62d61f784",
      "4093b56a03f94021973851927a1a6050",
      "0664a068fab44ca99a53ee077aea8a01",
      "65d0e33b847a4b4d97a25061bfa6d566",
      "9d6d109c3f4d492c98298dffe6f81156",
      "53a10e5470fb4b1393198ea5cd73cdc5",
      "826167be216f4d7dbd563d7ebdf22af3",
      "eec80cb8edd649d5af97508f84c6d2b5",
      "d2a77c55181a4cba9ab570506388a9a3",
      "7be7333a945748139ab442cc3511d051",
      "cede625d0c42448e83db8d05f1aeea22",
      "0f6aa62d13464ef19cea21cfa53aac91",
      "bc4e16440fab4ee7acd68b67b9dbf89f",
      "a0ed629683c14344a62a169413c76341",
      "db51abfd2e0046bb89efe03c0cc04895",
      "6432c41d88a04e23bcc8848d3ff769f9",
      "efd6f1c740ac43079cf7d5935d82f01f",
      "3876f25d4a514f8db11fb611e17bd8c8",
      "7145532be7aa472d8e6ace70b74b8b68",
      "2bf078220fb5443a9ffb59aec0231215",
      "77e2320bb6e24335b8e7b7d7682c592b",
      "39501ba101724032a85ed0a920b90479",
      "9c381683c5894d6187a3c638ee3fe9a7",
      "46199c98f3e94be1ad1213f29326e4c4",
      "4b479b0b710042b88148f820f67ac814",
      "96a0e71d97254c19a1730ea6b78164b2",
      "793d4b224ab24363b1d2bc87deb4a9ee",
      "63c3afb10498458195c97c6686ce0212",
      "8297aecdfb3540109a8843b66fffa53a",
      "62e2c9453f0747ee97b60979c114ffdb",
      "41d39bc569b44a68b3adcce796269d43",
      "eac3fda7e6854174bbe7caaf9116ed71",
      "c97c13f55e3248039b932cb387b92296",
      "7dfb92a84e674e489cd3f25875547193",
      "b3c6d43bf73b448c9d62c63433d86601",
      "86d95fa3611940598d88e5bb8499c445",
      "5064f592c494439790eb1acfdf0acaa7",
      "a3c0299dddfc4167aa349fbfe5e6e4d4",
      "39a7d18e6eee46df88bc823f9299d94a",
      "7268f60a403b4280aad83d8a87f677e1",
      "caf9faf9fc534b1089f0942b8f8a9029",
      "9cb55acba45849178206f570790a3143",
      "9583775b6ed64b6aa733cb1395d4a796",
      "96db485d24024056957a18204bc8ef8b",
      "4cb2171c780b49378685ac345606e01b",
      "2126900d23af4018944c00011c642aa5",
      "db5f1eec1a2743de999a2c9d9f68cd14",
      "38734a34195e4faaa5acd6fb232f1f7f",
      "58d1dae8115447ecbb9cc71457a24341",
      "017c79adf5434a46850dc3e1217bed0f",
      "61f290f22bc54568b79daf853754be32",
      "545bf0d3da0c4051bb2f2ec02dc5c73f",
      "f80ea5fe41624783b2a4dad338e684b4",
      "03a1b42a06ba4721a75f737e9e00d3b3",
      "72ba9a5cf87f49d18bf8c1ae8f34ea15",
      "9cd7e1607ee04dfeaeb11cb83470afad",
      "32aab02bed4b4fe0962cd5546fcbe274",
      "1dd9fde46773457881e9bd054e6fc404",
      "16f8ad586b6a47fd8b70819afe0bc546",
      "4cfc7d84b6cb4f1698f453bab9ec32a2",
      "0eeb8375f06c44d990f10c0d30dbf22a",
      "a93899988c4a495393b2eec82b57bd81",
      "e345f3e85b5640dca2f361511ac0a841",
      "16f3aa33fbf441549ef2dd113935e9dd",
      "b0130a97073a46baa68d25910453413e",
      "b7e2986e69204d4a84d460ca268fdcd3",
      "7cf1ceb290a94b49b693666ed7a84bf4",
      "d2fcc552116249d3b6c98d19daa2cb8f",
      "7fe351e7179740378fe8e0a8a7aecc86",
      "058c3f220aa84b74a30eb40167835616",
      "5416a05c2dbb4a45948c02024a2e9515",
      "4fe133c7a8af494093787dfef1e00186",
      "f8307d4e712f4d3498f2b93d3068b206",
      "b5b2beabaccd43f0b5501d997d44a464",
      "fb3b43554af64d5a9d74038e29137158",
      "8eab31597d10406bba7e6fb13c069b7f",
      "88a333116d004d639e74a2a2a844d854",
      "e825e180776c4927835636cc3361fbc7",
      "be763ba1caf9497485b780247265e64a",
      "2d205104c0d14587b48dee0e1539d4dd",
      "ab6319697a594aafbf13bc5d21308f43",
      "3ff246a6aecf45cfba3730dc2a24e66c",
      "53bf0793a79441e58f5b888ca5762997",
      "e5a24253e066458aa2b9de9f45c495bf",
      "ca08624bb953431a805d1f93fbbc7995",
      "bb9eecd66714437994bf92506d6093da",
      "7f07a4e759d74f2bbfcb67766bc972d7",
      "2873828e8d1e42bcad3f8035a329838d",
      "46ebb95a18a4408bae1f5e9e5c25925b",
      "1590fd9ed103422da8df57edab91ef14",
      "86b31d4cd17d4ef49b5f3ba234acb965",
      "f4a40e7dc4364f1cb7376c2711c08f04",
      "4acf1a95354a4c9e865e47063dd4ef61",
      "6311d70cd0b640e49b6555be5450e819",
      "9b2d5727e5de48aab6546155af36ebec",
      "7a173f96dc2e468bb11bd02ec685332f",
      "070e5267a6874a289f3e7775362f9393",
      "fcfb5abbfa1c4e219012a3296fb4ceb9",
      "5d959eb21ce242c9bed38cacca2a53c7",
      "478c8e877ff246ddbf8a0ed97e78dc35",
      "4da8b9afa0064268842a795374ac4660",
      "79d2a3a3a58c4dfcab3dec810514337d",
      "8bf2ce0f44114a3bb36d553b5be95ee6",
      "2b8655a625334fd79bc085c8f43546fc",
      "209b85a8804249a6bddda632f1be04fd",
      "ad5ff092b668445ab289f3834075d95d",
      "385559060dd045ee9d32369d0450476d",
      "01b0b14cfb054d5b82c9f9073afb94b4",
      "2779bd6bc7494658a3819c98d2795a56",
      "16e9594c36da4cc7a760390542a1c9ca",
      "249c38c31eb043c7877b68f43e4f5603",
      "16c2b2997e104fa18a6233103f75d6fd",
      "136ad201587840a69379b555720d8145",
      "49b23491d2874e79b6522a1ba4e5da23",
      "cf370864627c4f3da4a89c8fe2fe79be",
      "08cc82a5d99947d8bb788bab2910caf2",
      "f72e0808f4c348b0ac2edaece400a7c6",
      "b57f94c95ea8482b85f92aa8441ede37",
      "bbc5022fd01e44a8bd881438a2031802",
      "8a0c46434d264e50a02069703ada2c5a",
      "83e62bd8160d4a77a24c1dc220dcd76a",
      "abc4617e2be0404f95d649f6e797ab99",
      "dfddb350490e492e9d0eda0c9b881735",
      "6944d7485b854d558fa1699449638d2b",
      "2354196e5983442b8716bcf17e940f01",
      "e970c86d64124021991b924f44e6ca1c",
      "4eed747e61834ac0adf261a200d84b55",
      "dbb67585526348d48d80011c29eb3299",
      "4f6ae825920d46abaf2a79776c0c4ea9",
      "b9a704f874e04ea48f06e0cbbfb6402f",
      "77101084778845b4808d6621164f6de7",
      "b7f9818cecae4fcf9677ca448ed974e5",
      "385c810d575c4040b0642e3a5bc1ba2b",
      "40156e2f729846e4a6dda36d57f61c2e",
      "f9739f7b7b1a49d483b524a5e1e6499d",
      "5a2c08bc02514704b823b7990a97f664",
      "9d2d3a7913544e0dbb49e738285fb045",
      "cbd33a4a6843469687c5e0e3470655f2",
      "bea89290cbba4b4ea803b83ddc1d12c6",
      "d4b649e76501445c870e109514f49842",
      "300d246a9d8f468aa90cb1574c2283d5",
      "01cc596b078f4df296a0ca66c36c5ea0",
      "57a6a1e6704c4c10833f17c6b919635a",
      "8c85669eacd14f9196aecbcfa3467ee4",
      "e97c011f01314b5facaca8a0e60346d3",
      "df3cfb6bff48458bb7c49073c284c9d3",
      "8b518c13232444e98ae698a97d71b796",
      "f3e78d137aba4678bac30d9cc7700d55",
      "5eb8dd1f55f742e3993bb6cadbecd0ac",
      "4621fbbadb5145d380d70d50ff1ef9f7",
      "0908f44db9ac475a956cf506872baf5b",
      "31302b7843d7416f8358a7a694b8f07e",
      "33e4eff27ac24ff7b629c2042fbc9ca9",
      "f6af6001c35449a3bcbc4cdc053f731d",
      "c9ddd433ae4f4606bd3f134421089970",
      "a7629944be9942bea5eafd03cef0eba6",
      "824adf4ea352486183a80a383f56de7c",
      "c0a929ba7ea54a7ba76536276e5669bd",
      "b89e774609d0486facf10239cd9dacbc",
      "ad42c9563914482ab1cb879ac9680b22",
      "b92877db52ae411e9b9126b20b559f38",
      "449319c94ea749f4997840736f2dab37",
      "71adaf91203546898d9b03563b0b6865",
      "79f90d1eca7048b4b5e5e1fc93925b91",
      "0ddfb9accef144759071a595a1bc7db5",
      "ce86cf417cd74f0aa797f851a1df2898",
      "748f2bc328634854bee8951cc8dcbfaf",
      "4bec6f75fdc94edbb5dc62a6b3af3631",
      "50c0fdb0d09345b39c01ef3d2582a6dd",
      "94124773c1aa4fe1b0089b63b36a1973",
      "05e133ad0d554137976d81fcd92a8a5a",
      "c4a3227e5cd5450ea6fe3e1ca33670f4",
      "f7dbeb6e1d744bbdaa6410907d6887e2",
      "c00fe4a4273a44568b158aae003a09ca",
      "2e66e44206734d2f95bb17f378845471",
      "9a73970c6ecc44aeae0f1bf71c823753",
      "ab7033869894406aa42bac432c719023",
      "03040377ea90448ab2646ca522618c15",
      "ab9e6218084f4d95abf958f1e0cb639a",
      "597db0facf0e416aa551c74ece9b280d",
      "3943fa56c3634502a046ee3cbe530ccc",
      "979299fbaf794075997602c548f7f8f8",
      "853fcbb4a42446b7bb8fc52fa3b3bd65",
      "ed8de264838a4635863fb3fc3ba7ae9b",
      "04676a30aa934b3a8b147d76124d82c7",
      "97beff206d9a455bab1cafc495e4b40c",
      "82baa4e13d9343cb829ee497ca86c4a9",
      "9740e47d5b5b47e99aa18d35195c7081",
      "25fc7213177843cc8e7704335b298b3a",
      "44e3de2c630d4ce3a951cd1908705a2f",
      "34ac068b60554b38ab9ccee8f9afa369",
      "a662c95c3c964868aef0b6b30aa98e5d",
      "4a5e4cd256c04133bbe899a06cdfc0d9",
      "59f8ef31ed9b40918c5d31177f544d1d",
      "7fabb3b634ba4d1498d643f9b4732602",
      "2479a6ee8d4a4513876963eda89806f8",
      "0720654c295f498bbcb2e1258b353cf5",
      "53c4ca729e824c90aab1ceaba9b56572",
      "9e361fd7b1574b0f9641f0d3e7a7f14b",
      "a6f159c9d9db4b24984419343d91da11",
      "55254dacc2174cc78bc6c5d424226767",
      "fc27823145ed4e75b8c45a7f0127cab9"
     ]
    },
    "id": "SjGeEEiVZPK6",
    "outputId": "745296aa-f213-46c4-a2f3-0a4c13226bc3"
   },
   "outputs": [
    {
     "data": {
      "application/vnd.jupyter.widget-view+json": {
       "model_id": "9223ea43631046ffa2b08b69d74fbd12",
       "version_major": 2,
       "version_minor": 0
      },
      "text/plain": [
       "  0%|          | 0/3 [00:00<?, ?it/s]"
      ]
     },
     "metadata": {},
     "output_type": "display_data"
    },
    {
     "data": {
      "application/vnd.jupyter.widget-view+json": {
       "model_id": "75260bb84e7249b2844dde5743f22ce2",
       "version_major": 2,
       "version_minor": 0
      },
      "text/plain": [
       "Epoch:   0%|          | 0/5 [00:00<?, ?it/s]"
      ]
     },
     "metadata": {},
     "output_type": "display_data"
    },
    {
     "name": "stderr",
     "output_type": "stream",
     "text": [
      "/usr/local/lib/python3.10/dist-packages/simpletransformers/ner/ner_model.py:758: FutureWarning: `torch.cuda.amp.GradScaler(args...)` is deprecated. Please use `torch.amp.GradScaler('cuda', args...)` instead.\n",
      "  scaler = amp.GradScaler()\n"
     ]
    },
    {
     "data": {
      "application/vnd.jupyter.widget-view+json": {
       "model_id": "2c22fe122ea542259fed734b3b94987d",
       "version_major": 2,
       "version_minor": 0
      },
      "text/plain": [
       "Running Epoch 1 of 5:   0%|          | 0/3305 [00:00<?, ?it/s]"
      ]
     },
     "metadata": {},
     "output_type": "display_data"
    },
    {
     "name": "stderr",
     "output_type": "stream",
     "text": [
      "/usr/local/lib/python3.10/dist-packages/simpletransformers/ner/ner_model.py:782: FutureWarning: `torch.cuda.amp.autocast(args...)` is deprecated. Please use `torch.amp.autocast('cuda', args...)` instead.\n",
      "  with amp.autocast():\n"
     ]
    },
    {
     "data": {
      "application/vnd.jupyter.widget-view+json": {
       "model_id": "f67d3fa100a84ee3863db465dda94fcc",
       "version_major": 2,
       "version_minor": 0
      },
      "text/plain": [
       "  0%|          | 0/3 [00:00<?, ?it/s]"
      ]
     },
     "metadata": {},
     "output_type": "display_data"
    },
    {
     "data": {
      "application/vnd.jupyter.widget-view+json": {
       "model_id": "4b35836947164ba5bc15ebb3c9a68e7a",
       "version_major": 2,
       "version_minor": 0
      },
      "text/plain": [
       "Running Evaluation:   0%|          | 0/1392 [00:00<?, ?it/s]"
      ]
     },
     "metadata": {},
     "output_type": "display_data"
    },
    {
     "name": "stderr",
     "output_type": "stream",
     "text": [
      "/usr/local/lib/python3.10/dist-packages/simpletransformers/ner/ner_model.py:1303: FutureWarning: `torch.cuda.amp.autocast(args...)` is deprecated. Please use `torch.amp.autocast('cuda', args...)` instead.\n",
      "  with amp.autocast():\n",
      "/usr/local/lib/python3.10/dist-packages/seqeval/metrics/sequence_labeling.py:171: UserWarning: eng seems not to be NE tag.\n",
      "  warnings.warn('{} seems not to be NE tag.'.format(chunk))\n",
      "/usr/local/lib/python3.10/dist-packages/seqeval/metrics/sequence_labeling.py:171: UserWarning: mal seems not to be NE tag.\n",
      "  warnings.warn('{} seems not to be NE tag.'.format(chunk))\n",
      "/usr/local/lib/python3.10/dist-packages/seqeval/metrics/sequence_labeling.py:171: UserWarning: mix seems not to be NE tag.\n",
      "  warnings.warn('{} seems not to be NE tag.'.format(chunk))\n",
      "/usr/local/lib/python3.10/dist-packages/seqeval/metrics/sequence_labeling.py:171: UserWarning: univ seems not to be NE tag.\n",
      "  warnings.warn('{} seems not to be NE tag.'.format(chunk))\n",
      "/usr/local/lib/python3.10/dist-packages/seqeval/metrics/sequence_labeling.py:171: UserWarning: acr seems not to be NE tag.\n",
      "  warnings.warn('{} seems not to be NE tag.'.format(chunk))\n"
     ]
    },
    {
     "data": {
      "application/vnd.jupyter.widget-view+json": {
       "model_id": "d58ae83ca6c64cbdbb3a33bbac007381",
       "version_major": 2,
       "version_minor": 0
      },
      "text/plain": [
       "  0%|          | 0/3 [00:00<?, ?it/s]"
      ]
     },
     "metadata": {},
     "output_type": "display_data"
    },
    {
     "data": {
      "application/vnd.jupyter.widget-view+json": {
       "model_id": "a23c6eb11d424167847fbb103b6d1d2d",
       "version_major": 2,
       "version_minor": 0
      },
      "text/plain": [
       "Running Evaluation:   0%|          | 0/1392 [00:00<?, ?it/s]"
      ]
     },
     "metadata": {},
     "output_type": "display_data"
    },
    {
     "data": {
      "application/vnd.jupyter.widget-view+json": {
       "model_id": "3c6bf3979fad45de8f424310c29fae68",
       "version_major": 2,
       "version_minor": 0
      },
      "text/plain": [
       "Running Epoch 2 of 5:   0%|          | 0/3305 [00:00<?, ?it/s]"
      ]
     },
     "metadata": {},
     "output_type": "display_data"
    },
    {
     "data": {
      "application/vnd.jupyter.widget-view+json": {
       "model_id": "cdfbf8f3305c4da898f9e5b336d7fd32",
       "version_major": 2,
       "version_minor": 0
      },
      "text/plain": [
       "  0%|          | 0/3 [00:00<?, ?it/s]"
      ]
     },
     "metadata": {},
     "output_type": "display_data"
    },
    {
     "data": {
      "application/vnd.jupyter.widget-view+json": {
       "model_id": "b32be640c219430eaee02b87057fe15e",
       "version_major": 2,
       "version_minor": 0
      },
      "text/plain": [
       "Running Evaluation:   0%|          | 0/1392 [00:00<?, ?it/s]"
      ]
     },
     "metadata": {},
     "output_type": "display_data"
    },
    {
     "data": {
      "application/vnd.jupyter.widget-view+json": {
       "model_id": "9b3f996b512149cbbf3aecc286fe8f0a",
       "version_major": 2,
       "version_minor": 0
      },
      "text/plain": [
       "  0%|          | 0/3 [00:00<?, ?it/s]"
      ]
     },
     "metadata": {},
     "output_type": "display_data"
    },
    {
     "data": {
      "application/vnd.jupyter.widget-view+json": {
       "model_id": "8b46cac1c38b448dac4ea0920b07b7aa",
       "version_major": 2,
       "version_minor": 0
      },
      "text/plain": [
       "Running Evaluation:   0%|          | 0/1392 [00:00<?, ?it/s]"
      ]
     },
     "metadata": {},
     "output_type": "display_data"
    },
    {
     "data": {
      "application/vnd.jupyter.widget-view+json": {
       "model_id": "6018ad45ab884cbaa248856eacf3e349",
       "version_major": 2,
       "version_minor": 0
      },
      "text/plain": [
       "  0%|          | 0/3 [00:00<?, ?it/s]"
      ]
     },
     "metadata": {},
     "output_type": "display_data"
    },
    {
     "data": {
      "application/vnd.jupyter.widget-view+json": {
       "model_id": "a82f907d057d46ec9375785d51e65e29",
       "version_major": 2,
       "version_minor": 0
      },
      "text/plain": [
       "Running Evaluation:   0%|          | 0/1392 [00:00<?, ?it/s]"
      ]
     },
     "metadata": {},
     "output_type": "display_data"
    },
    {
     "data": {
      "application/vnd.jupyter.widget-view+json": {
       "model_id": "e616abe7810e4c988c4b83152475b803",
       "version_major": 2,
       "version_minor": 0
      },
      "text/plain": [
       "Running Epoch 3 of 5:   0%|          | 0/3305 [00:00<?, ?it/s]"
      ]
     },
     "metadata": {},
     "output_type": "display_data"
    },
    {
     "data": {
      "application/vnd.jupyter.widget-view+json": {
       "model_id": "9d6d109c3f4d492c98298dffe6f81156",
       "version_major": 2,
       "version_minor": 0
      },
      "text/plain": [
       "  0%|          | 0/3 [00:00<?, ?it/s]"
      ]
     },
     "metadata": {},
     "output_type": "display_data"
    },
    {
     "data": {
      "application/vnd.jupyter.widget-view+json": {
       "model_id": "6432c41d88a04e23bcc8848d3ff769f9",
       "version_major": 2,
       "version_minor": 0
      },
      "text/plain": [
       "Running Evaluation:   0%|          | 0/1392 [00:00<?, ?it/s]"
      ]
     },
     "metadata": {},
     "output_type": "display_data"
    },
    {
     "data": {
      "application/vnd.jupyter.widget-view+json": {
       "model_id": "793d4b224ab24363b1d2bc87deb4a9ee",
       "version_major": 2,
       "version_minor": 0
      },
      "text/plain": [
       "  0%|          | 0/3 [00:00<?, ?it/s]"
      ]
     },
     "metadata": {},
     "output_type": "display_data"
    },
    {
     "data": {
      "application/vnd.jupyter.widget-view+json": {
       "model_id": "a3c0299dddfc4167aa349fbfe5e6e4d4",
       "version_major": 2,
       "version_minor": 0
      },
      "text/plain": [
       "Running Evaluation:   0%|          | 0/1392 [00:00<?, ?it/s]"
      ]
     },
     "metadata": {},
     "output_type": "display_data"
    },
    {
     "data": {
      "application/vnd.jupyter.widget-view+json": {
       "model_id": "58d1dae8115447ecbb9cc71457a24341",
       "version_major": 2,
       "version_minor": 0
      },
      "text/plain": [
       "Running Epoch 4 of 5:   0%|          | 0/3305 [00:00<?, ?it/s]"
      ]
     },
     "metadata": {},
     "output_type": "display_data"
    },
    {
     "data": {
      "application/vnd.jupyter.widget-view+json": {
       "model_id": "4cfc7d84b6cb4f1698f453bab9ec32a2",
       "version_major": 2,
       "version_minor": 0
      },
      "text/plain": [
       "  0%|          | 0/3 [00:00<?, ?it/s]"
      ]
     },
     "metadata": {},
     "output_type": "display_data"
    },
    {
     "data": {
      "application/vnd.jupyter.widget-view+json": {
       "model_id": "5416a05c2dbb4a45948c02024a2e9515",
       "version_major": 2,
       "version_minor": 0
      },
      "text/plain": [
       "Running Evaluation:   0%|          | 0/1392 [00:00<?, ?it/s]"
      ]
     },
     "metadata": {},
     "output_type": "display_data"
    },
    {
     "data": {
      "application/vnd.jupyter.widget-view+json": {
       "model_id": "3ff246a6aecf45cfba3730dc2a24e66c",
       "version_major": 2,
       "version_minor": 0
      },
      "text/plain": [
       "  0%|          | 0/3 [00:00<?, ?it/s]"
      ]
     },
     "metadata": {},
     "output_type": "display_data"
    },
    {
     "data": {
      "application/vnd.jupyter.widget-view+json": {
       "model_id": "4acf1a95354a4c9e865e47063dd4ef61",
       "version_major": 2,
       "version_minor": 0
      },
      "text/plain": [
       "Running Evaluation:   0%|          | 0/1392 [00:00<?, ?it/s]"
      ]
     },
     "metadata": {},
     "output_type": "display_data"
    },
    {
     "data": {
      "application/vnd.jupyter.widget-view+json": {
       "model_id": "2b8655a625334fd79bc085c8f43546fc",
       "version_major": 2,
       "version_minor": 0
      },
      "text/plain": [
       "  0%|          | 0/3 [00:00<?, ?it/s]"
      ]
     },
     "metadata": {},
     "output_type": "display_data"
    },
    {
     "data": {
      "application/vnd.jupyter.widget-view+json": {
       "model_id": "cf370864627c4f3da4a89c8fe2fe79be",
       "version_major": 2,
       "version_minor": 0
      },
      "text/plain": [
       "Running Evaluation:   0%|          | 0/1392 [00:00<?, ?it/s]"
      ]
     },
     "metadata": {},
     "output_type": "display_data"
    },
    {
     "data": {
      "application/vnd.jupyter.widget-view+json": {
       "model_id": "e970c86d64124021991b924f44e6ca1c",
       "version_major": 2,
       "version_minor": 0
      },
      "text/plain": [
       "Running Epoch 5 of 5:   0%|          | 0/3305 [00:00<?, ?it/s]"
      ]
     },
     "metadata": {},
     "output_type": "display_data"
    },
    {
     "data": {
      "application/vnd.jupyter.widget-view+json": {
       "model_id": "9d2d3a7913544e0dbb49e738285fb045",
       "version_major": 2,
       "version_minor": 0
      },
      "text/plain": [
       "  0%|          | 0/3 [00:00<?, ?it/s]"
      ]
     },
     "metadata": {},
     "output_type": "display_data"
    },
    {
     "data": {
      "application/vnd.jupyter.widget-view+json": {
       "model_id": "f3e78d137aba4678bac30d9cc7700d55",
       "version_major": 2,
       "version_minor": 0
      },
      "text/plain": [
       "Running Evaluation:   0%|          | 0/1392 [00:00<?, ?it/s]"
      ]
     },
     "metadata": {},
     "output_type": "display_data"
    },
    {
     "data": {
      "application/vnd.jupyter.widget-view+json": {
       "model_id": "b89e774609d0486facf10239cd9dacbc",
       "version_major": 2,
       "version_minor": 0
      },
      "text/plain": [
       "  0%|          | 0/3 [00:00<?, ?it/s]"
      ]
     },
     "metadata": {},
     "output_type": "display_data"
    },
    {
     "data": {
      "application/vnd.jupyter.widget-view+json": {
       "model_id": "94124773c1aa4fe1b0089b63b36a1973",
       "version_major": 2,
       "version_minor": 0
      },
      "text/plain": [
       "Running Evaluation:   0%|          | 0/1392 [00:00<?, ?it/s]"
      ]
     },
     "metadata": {},
     "output_type": "display_data"
    },
    {
     "data": {
      "application/vnd.jupyter.widget-view+json": {
       "model_id": "3943fa56c3634502a046ee3cbe530ccc",
       "version_major": 2,
       "version_minor": 0
      },
      "text/plain": [
       "  0%|          | 0/3 [00:00<?, ?it/s]"
      ]
     },
     "metadata": {},
     "output_type": "display_data"
    },
    {
     "data": {
      "application/vnd.jupyter.widget-view+json": {
       "model_id": "a662c95c3c964868aef0b6b30aa98e5d",
       "version_major": 2,
       "version_minor": 0
      },
      "text/plain": [
       "Running Evaluation:   0%|          | 0/1392 [00:00<?, ?it/s]"
      ]
     },
     "metadata": {},
     "output_type": "display_data"
    },
    {
     "data": {
      "text/plain": [
       "(16525,\n",
       " defaultdict(list,\n",
       "             {'global_step': [2000,\n",
       "               3305,\n",
       "               4000,\n",
       "               6000,\n",
       "               6610,\n",
       "               8000,\n",
       "               9915,\n",
       "               10000,\n",
       "               12000,\n",
       "               13220,\n",
       "               14000,\n",
       "               16000,\n",
       "               16525],\n",
       "              'train_loss': [0.2743070423603058,\n",
       "               0.17707788944244385,\n",
       "               0.2853042483329773,\n",
       "               0.09128667414188385,\n",
       "               0.18344473838806152,\n",
       "               0.07729239016771317,\n",
       "               0.07874803245067596,\n",
       "               0.12038031965494156,\n",
       "               0.17196011543273926,\n",
       "               0.16822172701358795,\n",
       "               0.1449512541294098,\n",
       "               0.11623349785804749,\n",
       "               0.07605914026498795],\n",
       "              'eval_loss': [0.19783925874447772,\n",
       "               0.1670292967974092,\n",
       "               0.14263665121009467,\n",
       "               0.1209787172255315,\n",
       "               0.1234885132171989,\n",
       "               0.11527919460318692,\n",
       "               0.11623438824824331,\n",
       "               0.11680978197874464,\n",
       "               0.11240332560475048,\n",
       "               0.10866455107003045,\n",
       "               0.11157130889163476,\n",
       "               0.1112552230402516,\n",
       "               0.11149889036691114],\n",
       "              'precision': [0.8959152910033457,\n",
       "               0.91046621572478,\n",
       "               0.9237851662404092,\n",
       "               0.9329232784975979,\n",
       "               0.9320115383211013,\n",
       "               0.9391116164765433,\n",
       "               0.9403521643433602,\n",
       "               0.940700907228563,\n",
       "               0.9441114828841416,\n",
       "               0.9418145956607495,\n",
       "               0.9449460146663228,\n",
       "               0.9446016983420946,\n",
       "               0.944793388429752],\n",
       "              'recall': [0.8918493576840025,\n",
       "               0.9162976247117813,\n",
       "               0.9253742268418549,\n",
       "               0.9381473483878051,\n",
       "               0.9341946345569666,\n",
       "               0.9370493723236833,\n",
       "               0.9381839475899425,\n",
       "               0.9411484829630714,\n",
       "               0.9397577132818504,\n",
       "               0.9437104271126889,\n",
       "               0.9385133404091791,\n",
       "               0.9404530981224609,\n",
       "               0.9414046773780331],\n",
       "              'f1_score': [0.8938777007446536,\n",
       "               0.9133726126849201,\n",
       "               0.9245790137677582,\n",
       "               0.9355280205843173,\n",
       "               0.9331018095412174,\n",
       "               0.9380793610083171,\n",
       "               0.9392668046827767,\n",
       "               0.9409246418705062,\n",
       "               0.9419295671313279,\n",
       "               0.9427615582896108,\n",
       "               0.9417186926184357,\n",
       "               0.9425228331438213,\n",
       "               0.9430959888538534]}))"
      ]
     },
     "execution_count": 8,
     "metadata": {},
     "output_type": "execute_result"
    }
   ],
   "source": [
    "distil.train_model(train_data, eval_data=val_data)"
   ]
  },
  {
   "cell_type": "code",
   "execution_count": 9,
   "metadata": {
    "colab": {
     "base_uri": "https://localhost:8080/",
     "height": 153,
     "referenced_widgets": [
      "d9e09641201a4312bf7488a001a31432",
      "21628eede8224f07b65462cfe1e12330",
      "fbb3fb9e75a74000b7e8952350c8accb",
      "e56468ee4eef41908f5ef9a79d93ca9e",
      "b854e8062e2d48dca7121ac2a4b6e2cd",
      "e0d045f96138413dac71fc651f95ef75",
      "32edd419e1244ba5ae6985d4cf644488",
      "b80bf81e08b64acd8fbdc639e79cda60",
      "f1fb2bb5db20425fb505a9260692500c",
      "fe1d5fc8c20d45b0a47b484d9cdbc8fe",
      "42e4f9117d1740098971bf9d0014d0fb",
      "1e9d0d038df74d739bd7bfffb62c2322",
      "e8d37bca37454ffeb9c6d421b5b7dc63",
      "bbf1479b61fd40ff9e63d8e008b3b8b6",
      "6980208a432c489793cdbb394ae679f3",
      "88483fe269164f509d66eab9e290d58b",
      "b983ee34654145c0b3c637f960985fb6",
      "ffca440a33ea4867bea141a494ce9214",
      "58e20f442d474f0ca45a4b7b1e17ab6c",
      "e603f6329c0d4ad8843bd32471b211a9",
      "a6b5d2fc06ba4d20afbe25daeae6bf6c",
      "e4c1cb135a654078a30f2797931d4cf4"
     ]
    },
    "id": "sMu2QtbFojkk",
    "outputId": "78edfd57-de90-43e4-85bb-92e5c9d3408d"
   },
   "outputs": [
    {
     "data": {
      "application/vnd.jupyter.widget-view+json": {
       "model_id": "d9e09641201a4312bf7488a001a31432",
       "version_major": 2,
       "version_minor": 0
      },
      "text/plain": [
       "  0%|          | 0/1 [00:00<?, ?it/s]"
      ]
     },
     "metadata": {},
     "output_type": "display_data"
    },
    {
     "data": {
      "application/vnd.jupyter.widget-view+json": {
       "model_id": "1e9d0d038df74d739bd7bfffb62c2322",
       "version_major": 2,
       "version_minor": 0
      },
      "text/plain": [
       "Running Prediction:   0%|          | 0/1 [00:00<?, ?it/s]"
      ]
     },
     "metadata": {},
     "output_type": "display_data"
    },
    {
     "name": "stdout",
     "output_type": "stream",
     "text": [
      "Predictions: [[{'njn': 'mal'}, {'enn': 'mal'}, {'avide': 'mal'}, {'poyi,': 'mal'}, {'videoil': 'mix'}, {'njn': 'mal'}, {'kandu': 'mal'}, {'comedyu': 'mix'}, {'love': 'eng'}, {'123': 'eng'}, {'wait': 'eng'}]]\n"
     ]
    },
    {
     "name": "stderr",
     "output_type": "stream",
     "text": [
      "/usr/local/lib/python3.10/dist-packages/simpletransformers/ner/ner_model.py:1643: FutureWarning: `torch.cuda.amp.autocast(args...)` is deprecated. Please use `torch.amp.autocast('cuda', args...)` instead.\n",
      "  with amp.autocast():\n"
     ]
    }
   ],
   "source": [
    "example_sentence = \"njn enn avide poyi, videoil njn kandu comedyu love 123 wait\"\n",
    "predictions, raw_outputs = distil.predict([example_sentence])  # Pass it as a list of strings\n",
    "print(\"Predictions:\", predictions)"
   ]
  },
  {
   "cell_type": "code",
   "execution_count": 10,
   "metadata": {
    "colab": {
     "base_uri": "https://localhost:8080/",
     "height": 81,
     "referenced_widgets": [
      "7fac0db40eb2411f948ccaac930073a6",
      "d3cac670691c4e058ee6f07b9ff118fb",
      "71f6cabf48fa41de9dce8e22ba6d0090",
      "463fa6a109654fe29d0ee2dde644b05b",
      "0829ec206fa94e3b9bb0fd0b16d0a7d3",
      "53433569e55e4c318fa0da347b92fb0a",
      "3f29763dcf7a4547a8bc2a9b9b35a853",
      "3518ee7206344a579260f56c1a0d040e",
      "0d2d72708d8e4c748bf4eeda7f3ed5c0",
      "0fd0b72b62ea44c5bc6ae64695dacb17",
      "dd9a99085e6442a499722e23f92cc164",
      "748c32eca36d460ab408ec9ec222c819",
      "a76bcbd25c9445e7b32be75842bc9eef",
      "a56430476bcb43689105bba08aa68cf6",
      "b3bd42f6b87e4b179e5c33b6296c0fc2",
      "cfffac9a377b4bcf9be164263c5e63b1",
      "e53d713a9b2349daa96216570cd1115a",
      "6d2270b02e704464bd7cef2935daca61",
      "bb1df6fa848140428744a8b4bf20f55c",
      "e9c140d546584facb6cc27a0731f5ecf",
      "18da2cd289504bc2808c1a2dc61ee9d1",
      "68e769db61564a189736cfdeb8f9fa81"
     ]
    },
    "id": "UmbOlu0jo0Zq",
    "outputId": "6526c7f1-89c4-4a96-be8c-2c29ebfbd2f7"
   },
   "outputs": [
    {
     "data": {
      "application/vnd.jupyter.widget-view+json": {
       "model_id": "7fac0db40eb2411f948ccaac930073a6",
       "version_major": 2,
       "version_minor": 0
      },
      "text/plain": [
       "  0%|          | 0/3 [00:00<?, ?it/s]"
      ]
     },
     "metadata": {},
     "output_type": "display_data"
    },
    {
     "data": {
      "application/vnd.jupyter.widget-view+json": {
       "model_id": "748c32eca36d460ab408ec9ec222c819",
       "version_major": 2,
       "version_minor": 0
      },
      "text/plain": [
       "Running Evaluation:   0%|          | 0/1392 [00:00<?, ?it/s]"
      ]
     },
     "metadata": {},
     "output_type": "display_data"
    }
   ],
   "source": [
    "result, model_outputs, predictions = distil.eval_model(val_data)"
   ]
  },
  {
   "cell_type": "code",
   "execution_count": 11,
   "metadata": {
    "colab": {
     "base_uri": "https://localhost:8080/"
    },
    "id": "c_KNQ1sJo7rb",
    "outputId": "5f7baca2-1591-4012-aebb-044cf52fd26d"
   },
   "outputs": [
    {
     "name": "stdout",
     "output_type": "stream",
     "text": [
      "Evaluation Results:\n",
      "Precision: 0.9448\n",
      "Recall: 0.9414\n",
      "{'eval_loss': 0.11149889036691114, 'precision': 0.944793388429752, 'recall': 0.9414046773780331, 'f1_score': 0.9430959888538534}\n"
     ]
    }
   ],
   "source": [
    "\n",
    "print(\"Evaluation Results:\")\n",
    "print(f\"Precision: {result['precision']:.4f}\")\n",
    "print(f\"Recall: {result['recall']:.4f}\")\n",
    "print(result)"
   ]
  },
  {
   "cell_type": "code",
   "execution_count": 12,
   "metadata": {
    "colab": {
     "base_uri": "https://localhost:8080/",
     "height": 465
    },
    "id": "JsZe9nfMTa03",
    "outputId": "fd347cc5-9fd0-4144-dc50-edd530b8e2e6"
   },
   "outputs": [
    {
     "data": {
      "image/png": "[encoded data removed]",
      "text/plain": [
       "<Figure size 640x480 with 2 Axes>"
      ]
     },
     "metadata": {},
     "output_type": "display_data"
    }
   ],
   "source": [
    "from sklearn.metrics import confusion_matrix, ConfusionMatrixDisplay\n",
    "import matplotlib.pyplot as plt\n",
    "from itertools import chain\n",
    "true_labels = val_data[\"labels\"].values.flatten()\n",
    "predictions_flat = list(chain.from_iterable(predictions))\n",
    "cm = confusion_matrix(true_labels, predictions_flat, labels=unique_labels)\n",
    "disp = ConfusionMatrixDisplay(confusion_matrix=cm, display_labels=unique_labels)\n",
    "disp.plot(cmap=\"viridis\", xticks_rotation=\"vertical\")\n",
    "plt.show()\n",
    "\n"
   ]
  }
 ],
 "metadata": {
  "accelerator": "GPU",
  "colab": {
   "gpuType": "T4",
   "include_colab_link": true,
   "provenance": []
  },
  "kernelspec": {
   "display_name": "Python 3",
   "name": "python3"
  },
  "language_info": {
   "name": "python"
  }
 },
 "nbformat": 4,
 "nbformat_minor": 0
}
