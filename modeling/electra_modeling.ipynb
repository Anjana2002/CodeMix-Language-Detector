{
 "cells": [
  {
   "cell_type": "markdown",
   "metadata": {
    "colab_type": "text",
    "id": "view-in-github"
   },
   "source": [
    "<a href=\"https://colab.research.google.com/github/Anjana2002/Language-Identification-for-Malayalam-English-Code-Mixed-Text/blob/main/modeling/electra_modeling.ipynb\" target=\"_parent\"><img src=\"https://colab.research.google.com/assets/colab-badge.svg\" alt=\"Open In Colab\"/></a>"
   ]
  },
  {
   "cell_type": "markdown",
   "metadata": {
    "id": "eWDpN_nhh8nX"
   },
   "source": [
    "ELECTRA MODELING"
   ]
  },
  {
   "cell_type": "code",
   "execution_count": 4,
   "metadata": {
    "colab": {
     "base_uri": "https://localhost:8080/"
    },
    "id": "zg1cBV8vYunP",
    "outputId": "63e895bc-4b72-433c-aef0-b845e9e16cdc"
   },
   "outputs": [
    {
     "name": "stdout",
     "output_type": "stream",
     "text": [
      "Requirement already satisfied: transformers in /usr/local/lib/python3.10/dist-packages (4.46.3)\n",
      "Requirement already satisfied: filelock in /usr/local/lib/python3.10/dist-packages (from transformers) (3.16.1)\n",
      "Requirement already satisfied: huggingface-hub<1.0,>=0.23.2 in /usr/local/lib/python3.10/dist-packages (from transformers) (0.26.3)\n",
      "Requirement already satisfied: numpy>=1.17 in /usr/local/lib/python3.10/dist-packages (from transformers) (1.26.4)\n",
      "Requirement already satisfied: packaging>=20.0 in /usr/local/lib/python3.10/dist-packages (from transformers) (24.2)\n",
      "Requirement already satisfied: pyyaml>=5.1 in /usr/local/lib/python3.10/dist-packages (from transformers) (6.0.2)\n",
      "Requirement already satisfied: regex!=2019.12.17 in /usr/local/lib/python3.10/dist-packages (from transformers) (2024.9.11)\n",
      "Requirement already satisfied: requests in /usr/local/lib/python3.10/dist-packages (from transformers) (2.32.3)\n",
      "Requirement already satisfied: tokenizers<0.21,>=0.20 in /usr/local/lib/python3.10/dist-packages (from transformers) (0.20.3)\n",
      "Requirement already satisfied: safetensors>=0.4.1 in /usr/local/lib/python3.10/dist-packages (from transformers) (0.4.5)\n",
      "Requirement already satisfied: tqdm>=4.27 in /usr/local/lib/python3.10/dist-packages (from transformers) (4.66.6)\n",
      "Requirement already satisfied: fsspec>=2023.5.0 in /usr/local/lib/python3.10/dist-packages (from huggingface-hub<1.0,>=0.23.2->transformers) (2024.9.0)\n",
      "Requirement already satisfied: typing-extensions>=3.7.4.3 in /usr/local/lib/python3.10/dist-packages (from huggingface-hub<1.0,>=0.23.2->transformers) (4.12.2)\n",
      "Requirement already satisfied: charset-normalizer<4,>=2 in /usr/local/lib/python3.10/dist-packages (from requests->transformers) (3.4.0)\n",
      "Requirement already satisfied: idna<4,>=2.5 in /usr/local/lib/python3.10/dist-packages (from requests->transformers) (3.10)\n",
      "Requirement already satisfied: urllib3<3,>=1.21.1 in /usr/local/lib/python3.10/dist-packages (from requests->transformers) (2.2.3)\n",
      "Requirement already satisfied: certifi>=2017.4.17 in /usr/local/lib/python3.10/dist-packages (from requests->transformers) (2024.8.30)\n",
      "Requirement already satisfied: simpletransformers in /usr/local/lib/python3.10/dist-packages (0.70.1)\n",
      "Requirement already satisfied: numpy in /usr/local/lib/python3.10/dist-packages (from simpletransformers) (1.26.4)\n",
      "Requirement already satisfied: requests in /usr/local/lib/python3.10/dist-packages (from simpletransformers) (2.32.3)\n",
      "Requirement already satisfied: tqdm>=4.47.0 in /usr/local/lib/python3.10/dist-packages (from simpletransformers) (4.66.6)\n",
      "Requirement already satisfied: regex in /usr/local/lib/python3.10/dist-packages (from simpletransformers) (2024.9.11)\n",
      "Requirement already satisfied: transformers>=4.31.0 in /usr/local/lib/python3.10/dist-packages (from simpletransformers) (4.46.3)\n",
      "Requirement already satisfied: datasets in /usr/local/lib/python3.10/dist-packages (from simpletransformers) (3.2.0)\n",
      "Requirement already satisfied: scipy in /usr/local/lib/python3.10/dist-packages (from simpletransformers) (1.13.1)\n",
      "Requirement already satisfied: scikit-learn in /usr/local/lib/python3.10/dist-packages (from simpletransformers) (1.5.2)\n",
      "Requirement already satisfied: seqeval in /usr/local/lib/python3.10/dist-packages (from simpletransformers) (1.2.2)\n",
      "Requirement already satisfied: tensorboard in /usr/local/lib/python3.10/dist-packages (from simpletransformers) (2.17.1)\n",
      "Requirement already satisfied: tensorboardx in /usr/local/lib/python3.10/dist-packages (from simpletransformers) (2.6.2.2)\n",
      "Requirement already satisfied: pandas in /usr/local/lib/python3.10/dist-packages (from simpletransformers) (2.2.2)\n",
      "Requirement already satisfied: tokenizers in /usr/local/lib/python3.10/dist-packages (from simpletransformers) (0.20.3)\n",
      "Requirement already satisfied: wandb>=0.10.32 in /usr/local/lib/python3.10/dist-packages (from simpletransformers) (0.18.7)\n",
      "Requirement already satisfied: streamlit in /usr/local/lib/python3.10/dist-packages (from simpletransformers) (1.41.0)\n",
      "Requirement already satisfied: sentencepiece in /usr/local/lib/python3.10/dist-packages (from simpletransformers) (0.2.0)\n",
      "Requirement already satisfied: filelock in /usr/local/lib/python3.10/dist-packages (from transformers>=4.31.0->simpletransformers) (3.16.1)\n",
      "Requirement already satisfied: huggingface-hub<1.0,>=0.23.2 in /usr/local/lib/python3.10/dist-packages (from transformers>=4.31.0->simpletransformers) (0.26.3)\n",
      "Requirement already satisfied: packaging>=20.0 in /usr/local/lib/python3.10/dist-packages (from transformers>=4.31.0->simpletransformers) (24.2)\n",
      "Requirement already satisfied: pyyaml>=5.1 in /usr/local/lib/python3.10/dist-packages (from transformers>=4.31.0->simpletransformers) (6.0.2)\n",
      "Requirement already satisfied: safetensors>=0.4.1 in /usr/local/lib/python3.10/dist-packages (from transformers>=4.31.0->simpletransformers) (0.4.5)\n",
      "Requirement already satisfied: click!=8.0.0,>=7.1 in /usr/local/lib/python3.10/dist-packages (from wandb>=0.10.32->simpletransformers) (8.1.7)\n",
      "Requirement already satisfied: docker-pycreds>=0.4.0 in /usr/local/lib/python3.10/dist-packages (from wandb>=0.10.32->simpletransformers) (0.4.0)\n",
      "Requirement already satisfied: gitpython!=3.1.29,>=1.0.0 in /usr/local/lib/python3.10/dist-packages (from wandb>=0.10.32->simpletransformers) (3.1.43)\n",
      "Requirement already satisfied: platformdirs in /usr/local/lib/python3.10/dist-packages (from wandb>=0.10.32->simpletransformers) (4.3.6)\n",
      "Requirement already satisfied: protobuf!=4.21.0,!=5.28.0,<6,>=3.19.0 in /usr/local/lib/python3.10/dist-packages (from wandb>=0.10.32->simpletransformers) (4.25.5)\n",
      "Requirement already satisfied: psutil>=5.0.0 in /usr/local/lib/python3.10/dist-packages (from wandb>=0.10.32->simpletransformers) (5.9.5)\n",
      "Requirement already satisfied: sentry-sdk>=2.0.0 in /usr/local/lib/python3.10/dist-packages (from wandb>=0.10.32->simpletransformers) (2.19.0)\n",
      "Requirement already satisfied: setproctitle in /usr/local/lib/python3.10/dist-packages (from wandb>=0.10.32->simpletransformers) (1.3.4)\n",
      "Requirement already satisfied: setuptools in /usr/local/lib/python3.10/dist-packages (from wandb>=0.10.32->simpletransformers) (75.1.0)\n",
      "Requirement already satisfied: typing-extensions<5,>=4.4 in /usr/local/lib/python3.10/dist-packages (from wandb>=0.10.32->simpletransformers) (4.12.2)\n",
      "Requirement already satisfied: charset-normalizer<4,>=2 in /usr/local/lib/python3.10/dist-packages (from requests->simpletransformers) (3.4.0)\n",
      "Requirement already satisfied: idna<4,>=2.5 in /usr/local/lib/python3.10/dist-packages (from requests->simpletransformers) (3.10)\n",
      "Requirement already satisfied: urllib3<3,>=1.21.1 in /usr/local/lib/python3.10/dist-packages (from requests->simpletransformers) (2.2.3)\n",
      "Requirement already satisfied: certifi>=2017.4.17 in /usr/local/lib/python3.10/dist-packages (from requests->simpletransformers) (2024.8.30)\n",
      "Requirement already satisfied: pyarrow>=15.0.0 in /usr/local/lib/python3.10/dist-packages (from datasets->simpletransformers) (17.0.0)\n",
      "Requirement already satisfied: dill<0.3.9,>=0.3.0 in /usr/local/lib/python3.10/dist-packages (from datasets->simpletransformers) (0.3.8)\n",
      "Requirement already satisfied: xxhash in /usr/local/lib/python3.10/dist-packages (from datasets->simpletransformers) (3.5.0)\n",
      "Requirement already satisfied: multiprocess<0.70.17 in /usr/local/lib/python3.10/dist-packages (from datasets->simpletransformers) (0.70.16)\n",
      "Requirement already satisfied: fsspec<=2024.9.0,>=2023.1.0 in /usr/local/lib/python3.10/dist-packages (from fsspec[http]<=2024.9.0,>=2023.1.0->datasets->simpletransformers) (2024.9.0)\n",
      "Requirement already satisfied: aiohttp in /usr/local/lib/python3.10/dist-packages (from datasets->simpletransformers) (3.11.9)\n",
      "Requirement already satisfied: python-dateutil>=2.8.2 in /usr/local/lib/python3.10/dist-packages (from pandas->simpletransformers) (2.8.2)\n",
      "Requirement already satisfied: pytz>=2020.1 in /usr/local/lib/python3.10/dist-packages (from pandas->simpletransformers) (2024.2)\n",
      "Requirement already satisfied: tzdata>=2022.7 in /usr/local/lib/python3.10/dist-packages (from pandas->simpletransformers) (2024.2)\n",
      "Requirement already satisfied: joblib>=1.2.0 in /usr/local/lib/python3.10/dist-packages (from scikit-learn->simpletransformers) (1.4.2)\n",
      "Requirement already satisfied: threadpoolctl>=3.1.0 in /usr/local/lib/python3.10/dist-packages (from scikit-learn->simpletransformers) (3.5.0)\n",
      "Requirement already satisfied: altair<6,>=4.0 in /usr/local/lib/python3.10/dist-packages (from streamlit->simpletransformers) (4.2.2)\n",
      "Requirement already satisfied: blinker<2,>=1.0.0 in /usr/local/lib/python3.10/dist-packages (from streamlit->simpletransformers) (1.9.0)\n",
      "Requirement already satisfied: cachetools<6,>=4.0 in /usr/local/lib/python3.10/dist-packages (from streamlit->simpletransformers) (5.5.0)\n",
      "Requirement already satisfied: pillow<12,>=7.1.0 in /usr/local/lib/python3.10/dist-packages (from streamlit->simpletransformers) (11.0.0)\n",
      "Requirement already satisfied: rich<14,>=10.14.0 in /usr/local/lib/python3.10/dist-packages (from streamlit->simpletransformers) (13.9.4)\n",
      "Requirement already satisfied: tenacity<10,>=8.1.0 in /usr/local/lib/python3.10/dist-packages (from streamlit->simpletransformers) (9.0.0)\n",
      "Requirement already satisfied: toml<2,>=0.10.1 in /usr/local/lib/python3.10/dist-packages (from streamlit->simpletransformers) (0.10.2)\n",
      "Requirement already satisfied: watchdog<7,>=2.1.5 in /usr/local/lib/python3.10/dist-packages (from streamlit->simpletransformers) (6.0.0)\n",
      "Requirement already satisfied: pydeck<1,>=0.8.0b4 in /usr/local/lib/python3.10/dist-packages (from streamlit->simpletransformers) (0.9.1)\n",
      "Requirement already satisfied: tornado<7,>=6.0.3 in /usr/local/lib/python3.10/dist-packages (from streamlit->simpletransformers) (6.3.3)\n",
      "Requirement already satisfied: absl-py>=0.4 in /usr/local/lib/python3.10/dist-packages (from tensorboard->simpletransformers) (1.4.0)\n",
      "Requirement already satisfied: grpcio>=1.48.2 in /usr/local/lib/python3.10/dist-packages (from tensorboard->simpletransformers) (1.68.1)\n",
      "Requirement already satisfied: markdown>=2.6.8 in /usr/local/lib/python3.10/dist-packages (from tensorboard->simpletransformers) (3.7)\n",
      "Requirement already satisfied: six>1.9 in /usr/local/lib/python3.10/dist-packages (from tensorboard->simpletransformers) (1.16.0)\n",
      "Requirement already satisfied: tensorboard-data-server<0.8.0,>=0.7.0 in /usr/local/lib/python3.10/dist-packages (from tensorboard->simpletransformers) (0.7.2)\n",
      "Requirement already satisfied: werkzeug>=1.0.1 in /usr/local/lib/python3.10/dist-packages (from tensorboard->simpletransformers) (3.1.3)\n",
      "Requirement already satisfied: entrypoints in /usr/local/lib/python3.10/dist-packages (from altair<6,>=4.0->streamlit->simpletransformers) (0.4)\n",
      "Requirement already satisfied: jinja2 in /usr/local/lib/python3.10/dist-packages (from altair<6,>=4.0->streamlit->simpletransformers) (3.1.4)\n",
      "Requirement already satisfied: jsonschema>=3.0 in /usr/local/lib/python3.10/dist-packages (from altair<6,>=4.0->streamlit->simpletransformers) (4.23.0)\n",
      "Requirement already satisfied: toolz in /usr/local/lib/python3.10/dist-packages (from altair<6,>=4.0->streamlit->simpletransformers) (0.12.1)\n",
      "Requirement already satisfied: aiohappyeyeballs>=2.3.0 in /usr/local/lib/python3.10/dist-packages (from aiohttp->datasets->simpletransformers) (2.4.4)\n",
      "Requirement already satisfied: aiosignal>=1.1.2 in /usr/local/lib/python3.10/dist-packages (from aiohttp->datasets->simpletransformers) (1.3.1)\n",
      "Requirement already satisfied: async-timeout<6.0,>=4.0 in /usr/local/lib/python3.10/dist-packages (from aiohttp->datasets->simpletransformers) (4.0.3)\n",
      "Requirement already satisfied: attrs>=17.3.0 in /usr/local/lib/python3.10/dist-packages (from aiohttp->datasets->simpletransformers) (24.2.0)\n",
      "Requirement already satisfied: frozenlist>=1.1.1 in /usr/local/lib/python3.10/dist-packages (from aiohttp->datasets->simpletransformers) (1.5.0)\n",
      "Requirement already satisfied: multidict<7.0,>=4.5 in /usr/local/lib/python3.10/dist-packages (from aiohttp->datasets->simpletransformers) (6.1.0)\n",
      "Requirement already satisfied: propcache>=0.2.0 in /usr/local/lib/python3.10/dist-packages (from aiohttp->datasets->simpletransformers) (0.2.1)\n",
      "Requirement already satisfied: yarl<2.0,>=1.17.0 in /usr/local/lib/python3.10/dist-packages (from aiohttp->datasets->simpletransformers) (1.18.3)\n",
      "Requirement already satisfied: gitdb<5,>=4.0.1 in /usr/local/lib/python3.10/dist-packages (from gitpython!=3.1.29,>=1.0.0->wandb>=0.10.32->simpletransformers) (4.0.11)\n",
      "Requirement already satisfied: markdown-it-py>=2.2.0 in /usr/local/lib/python3.10/dist-packages (from rich<14,>=10.14.0->streamlit->simpletransformers) (3.0.0)\n",
      "Requirement already satisfied: pygments<3.0.0,>=2.13.0 in /usr/local/lib/python3.10/dist-packages (from rich<14,>=10.14.0->streamlit->simpletransformers) (2.18.0)\n",
      "Requirement already satisfied: MarkupSafe>=2.1.1 in /usr/local/lib/python3.10/dist-packages (from werkzeug>=1.0.1->tensorboard->simpletransformers) (3.0.2)\n",
      "Requirement already satisfied: smmap<6,>=3.0.1 in /usr/local/lib/python3.10/dist-packages (from gitdb<5,>=4.0.1->gitpython!=3.1.29,>=1.0.0->wandb>=0.10.32->simpletransformers) (5.0.1)\n",
      "Requirement already satisfied: jsonschema-specifications>=2023.03.6 in /usr/local/lib/python3.10/dist-packages (from jsonschema>=3.0->altair<6,>=4.0->streamlit->simpletransformers) (2024.10.1)\n",
      "Requirement already satisfied: referencing>=0.28.4 in /usr/local/lib/python3.10/dist-packages (from jsonschema>=3.0->altair<6,>=4.0->streamlit->simpletransformers) (0.35.1)\n",
      "Requirement already satisfied: rpds-py>=0.7.1 in /usr/local/lib/python3.10/dist-packages (from jsonschema>=3.0->altair<6,>=4.0->streamlit->simpletransformers) (0.22.3)\n",
      "Requirement already satisfied: mdurl~=0.1 in /usr/local/lib/python3.10/dist-packages (from markdown-it-py>=2.2.0->rich<14,>=10.14.0->streamlit->simpletransformers) (0.1.2)\n"
     ]
    }
   ],
   "source": [
    "!pip install transformers\n",
    "!pip install simpletransformers"
   ]
  },
  {
   "cell_type": "code",
   "execution_count": 5,
   "metadata": {
    "colab": {
     "base_uri": "https://localhost:8080/"
    },
    "id": "yfzl4PqLYyVZ",
    "outputId": "b00797ca-46de-464b-936a-fac746bf0880"
   },
   "outputs": [
    {
     "name": "stderr",
     "output_type": "stream",
     "text": [
      "[nltk_data] Downloading package punkt_tab to /root/nltk_data...\n",
      "[nltk_data]   Package punkt_tab is already up-to-date!\n"
     ]
    }
   ],
   "source": [
    "import pandas as pd\n",
    "import ast\n",
    "import nltk\n",
    "nltk.download('punkt_tab')\n",
    "from nltk.tokenize import word_tokenize\n",
    "from sklearn.model_selection import train_test_split\n",
    "import torch\n",
    "import logging\n",
    "from simpletransformers.ner import NERModel\n",
    "\n",
    "logging.basicConfig(level=logging.INFO)\n",
    "logger = logging.getLogger(__name__)\n"
   ]
  },
  {
   "cell_type": "code",
   "execution_count": 6,
   "metadata": {
    "colab": {
     "base_uri": "https://localhost:8080/",
     "height": 206
    },
    "id": "cWqhCojnY5iY",
    "outputId": "29204826-7a55-42e0-e3ce-0052ecc1adb9"
   },
   "outputs": [
    {
     "data": {
      "application/vnd.google.colaboratory.intrinsic+json": {
       "type": "dataframe",
       "variable_name": "df"
      },
      "text/html": [
       "\n",
       "  <div id=\"df-5c3f41fc-11ad-4ecf-a68a-83a0941c8303\" class=\"colab-df-container\">\n",
       "    <div>\n",
       "<style scoped>\n",
       "    .dataframe tbody tr th:only-of-type {\n",
       "        vertical-align: middle;\n",
       "    }\n",
       "\n",
       "    .dataframe tbody tr th {\n",
       "        vertical-align: top;\n",
       "    }\n",
       "\n",
       "    .dataframe thead th {\n",
       "        text-align: right;\n",
       "    }\n",
       "</style>\n",
       "<table border=\"1\" class=\"dataframe\">\n",
       "  <thead>\n",
       "    <tr style=\"text-align: right;\">\n",
       "      <th></th>\n",
       "      <th>sentence_id</th>\n",
       "      <th>words</th>\n",
       "      <th>labels</th>\n",
       "    </tr>\n",
       "  </thead>\n",
       "  <tbody>\n",
       "    <tr>\n",
       "      <th>0</th>\n",
       "      <td>1</td>\n",
       "      <td>nayanthara</td>\n",
       "      <td>mal</td>\n",
       "    </tr>\n",
       "    <tr>\n",
       "      <th>1</th>\n",
       "      <td>1</td>\n",
       "      <td>kettiyathin</td>\n",
       "      <td>mal</td>\n",
       "    </tr>\n",
       "    <tr>\n",
       "      <th>2</th>\n",
       "      <td>1</td>\n",
       "      <td>shesham</td>\n",
       "      <td>mal</td>\n",
       "    </tr>\n",
       "    <tr>\n",
       "      <th>3</th>\n",
       "      <td>1</td>\n",
       "      <td>kanunnavar</td>\n",
       "      <td>mal</td>\n",
       "    </tr>\n",
       "    <tr>\n",
       "      <th>4</th>\n",
       "      <td>2</td>\n",
       "      <td>00:12</td>\n",
       "      <td>univ</td>\n",
       "    </tr>\n",
       "  </tbody>\n",
       "</table>\n",
       "</div>\n",
       "    <div class=\"colab-df-buttons\">\n",
       "\n",
       "  <div class=\"colab-df-container\">\n",
       "    <button class=\"colab-df-convert\" onclick=\"convertToInteractive('df-5c3f41fc-11ad-4ecf-a68a-83a0941c8303')\"\n",
       "            title=\"Convert this dataframe to an interactive table.\"\n",
       "            style=\"display:none;\">\n",
       "\n",
       "  <svg xmlns=\"http://www.w3.org/2000/svg\" height=\"24px\" viewBox=\"0 -960 960 960\">\n",
       "    <path d=\"M120-120v-720h720v720H120Zm60-500h600v-160H180v160Zm220 220h160v-160H400v160Zm0 220h160v-160H400v160ZM180-400h160v-160H180v160Zm440 0h160v-160H620v160ZM180-180h160v-160H180v160Zm440 0h160v-160H620v160Z\"/>\n",
       "  </svg>\n",
       "    </button>\n",
       "\n",
       "  <style>\n",
       "    .colab-df-container {\n",
       "      display:flex;\n",
       "      gap: 12px;\n",
       "    }\n",
       "\n",
       "    .colab-df-convert {\n",
       "      background-color: #E8F0FE;\n",
       "      border: none;\n",
       "      border-radius: 50%;\n",
       "      cursor: pointer;\n",
       "      display: none;\n",
       "      fill: #1967D2;\n",
       "      height: 32px;\n",
       "      padding: 0 0 0 0;\n",
       "      width: 32px;\n",
       "    }\n",
       "\n",
       "    .colab-df-convert:hover {\n",
       "      background-color: #E2EBFA;\n",
       "      box-shadow: 0px 1px 2px rgba(60, 64, 67, 0.3), 0px 1px 3px 1px rgba(60, 64, 67, 0.15);\n",
       "      fill: #174EA6;\n",
       "    }\n",
       "\n",
       "    .colab-df-buttons div {\n",
       "      margin-bottom: 4px;\n",
       "    }\n",
       "\n",
       "    [theme=dark] .colab-df-convert {\n",
       "      background-color: #3B4455;\n",
       "      fill: #D2E3FC;\n",
       "    }\n",
       "\n",
       "    [theme=dark] .colab-df-convert:hover {\n",
       "      background-color: #434B5C;\n",
       "      box-shadow: 0px 1px 3px 1px rgba(0, 0, 0, 0.15);\n",
       "      filter: drop-shadow(0px 1px 2px rgba(0, 0, 0, 0.3));\n",
       "      fill: #FFFFFF;\n",
       "    }\n",
       "  </style>\n",
       "\n",
       "    <script>\n",
       "      const buttonEl =\n",
       "        document.querySelector('#df-5c3f41fc-11ad-4ecf-a68a-83a0941c8303 button.colab-df-convert');\n",
       "      buttonEl.style.display =\n",
       "        google.colab.kernel.accessAllowed ? 'block' : 'none';\n",
       "\n",
       "      async function convertToInteractive(key) {\n",
       "        const element = document.querySelector('#df-5c3f41fc-11ad-4ecf-a68a-83a0941c8303');\n",
       "        const dataTable =\n",
       "          await google.colab.kernel.invokeFunction('convertToInteractive',\n",
       "                                                    [key], {});\n",
       "        if (!dataTable) return;\n",
       "\n",
       "        const docLinkHtml = 'Like what you see? Visit the ' +\n",
       "          '<a target=\"_blank\" href=https://colab.research.google.com/notebooks/data_table.ipynb>data table notebook</a>'\n",
       "          + ' to learn more about interactive tables.';\n",
       "        element.innerHTML = '';\n",
       "        dataTable['output_type'] = 'display_data';\n",
       "        await google.colab.output.renderOutput(dataTable, element);\n",
       "        const docLink = document.createElement('div');\n",
       "        docLink.innerHTML = docLinkHtml;\n",
       "        element.appendChild(docLink);\n",
       "      }\n",
       "    </script>\n",
       "  </div>\n",
       "\n",
       "\n",
       "<div id=\"df-54efc5b2-650a-491d-9943-d2bcd80ed053\">\n",
       "  <button class=\"colab-df-quickchart\" onclick=\"quickchart('df-54efc5b2-650a-491d-9943-d2bcd80ed053')\"\n",
       "            title=\"Suggest charts\"\n",
       "            style=\"display:none;\">\n",
       "\n",
       "<svg xmlns=\"http://www.w3.org/2000/svg\" height=\"24px\"viewBox=\"0 0 24 24\"\n",
       "     width=\"24px\">\n",
       "    <g>\n",
       "        <path d=\"M19 3H5c-1.1 0-2 .9-2 2v14c0 1.1.9 2 2 2h14c1.1 0 2-.9 2-2V5c0-1.1-.9-2-2-2zM9 17H7v-7h2v7zm4 0h-2V7h2v10zm4 0h-2v-4h2v4z\"/>\n",
       "    </g>\n",
       "</svg>\n",
       "  </button>\n",
       "\n",
       "<style>\n",
       "  .colab-df-quickchart {\n",
       "      --bg-color: #E8F0FE;\n",
       "      --fill-color: #1967D2;\n",
       "      --hover-bg-color: #E2EBFA;\n",
       "      --hover-fill-color: #174EA6;\n",
       "      --disabled-fill-color: #AAA;\n",
       "      --disabled-bg-color: #DDD;\n",
       "  }\n",
       "\n",
       "  [theme=dark] .colab-df-quickchart {\n",
       "      --bg-color: #3B4455;\n",
       "      --fill-color: #D2E3FC;\n",
       "      --hover-bg-color: #434B5C;\n",
       "      --hover-fill-color: #FFFFFF;\n",
       "      --disabled-bg-color: #3B4455;\n",
       "      --disabled-fill-color: #666;\n",
       "  }\n",
       "\n",
       "  .colab-df-quickchart {\n",
       "    background-color: var(--bg-color);\n",
       "    border: none;\n",
       "    border-radius: 50%;\n",
       "    cursor: pointer;\n",
       "    display: none;\n",
       "    fill: var(--fill-color);\n",
       "    height: 32px;\n",
       "    padding: 0;\n",
       "    width: 32px;\n",
       "  }\n",
       "\n",
       "  .colab-df-quickchart:hover {\n",
       "    background-color: var(--hover-bg-color);\n",
       "    box-shadow: 0 1px 2px rgba(60, 64, 67, 0.3), 0 1px 3px 1px rgba(60, 64, 67, 0.15);\n",
       "    fill: var(--button-hover-fill-color);\n",
       "  }\n",
       "\n",
       "  .colab-df-quickchart-complete:disabled,\n",
       "  .colab-df-quickchart-complete:disabled:hover {\n",
       "    background-color: var(--disabled-bg-color);\n",
       "    fill: var(--disabled-fill-color);\n",
       "    box-shadow: none;\n",
       "  }\n",
       "\n",
       "  .colab-df-spinner {\n",
       "    border: 2px solid var(--fill-color);\n",
       "    border-color: transparent;\n",
       "    border-bottom-color: var(--fill-color);\n",
       "    animation:\n",
       "      spin 1s steps(1) infinite;\n",
       "  }\n",
       "\n",
       "  @keyframes spin {\n",
       "    0% {\n",
       "      border-color: transparent;\n",
       "      border-bottom-color: var(--fill-color);\n",
       "      border-left-color: var(--fill-color);\n",
       "    }\n",
       "    20% {\n",
       "      border-color: transparent;\n",
       "      border-left-color: var(--fill-color);\n",
       "      border-top-color: var(--fill-color);\n",
       "    }\n",
       "    30% {\n",
       "      border-color: transparent;\n",
       "      border-left-color: var(--fill-color);\n",
       "      border-top-color: var(--fill-color);\n",
       "      border-right-color: var(--fill-color);\n",
       "    }\n",
       "    40% {\n",
       "      border-color: transparent;\n",
       "      border-right-color: var(--fill-color);\n",
       "      border-top-color: var(--fill-color);\n",
       "    }\n",
       "    60% {\n",
       "      border-color: transparent;\n",
       "      border-right-color: var(--fill-color);\n",
       "    }\n",
       "    80% {\n",
       "      border-color: transparent;\n",
       "      border-right-color: var(--fill-color);\n",
       "      border-bottom-color: var(--fill-color);\n",
       "    }\n",
       "    90% {\n",
       "      border-color: transparent;\n",
       "      border-bottom-color: var(--fill-color);\n",
       "    }\n",
       "  }\n",
       "</style>\n",
       "\n",
       "  <script>\n",
       "    async function quickchart(key) {\n",
       "      const quickchartButtonEl =\n",
       "        document.querySelector('#' + key + ' button');\n",
       "      quickchartButtonEl.disabled = true;  // To prevent multiple clicks.\n",
       "      quickchartButtonEl.classList.add('colab-df-spinner');\n",
       "      try {\n",
       "        const charts = await google.colab.kernel.invokeFunction(\n",
       "            'suggestCharts', [key], {});\n",
       "      } catch (error) {\n",
       "        console.error('Error during call to suggestCharts:', error);\n",
       "      }\n",
       "      quickchartButtonEl.classList.remove('colab-df-spinner');\n",
       "      quickchartButtonEl.classList.add('colab-df-quickchart-complete');\n",
       "    }\n",
       "    (() => {\n",
       "      let quickchartButtonEl =\n",
       "        document.querySelector('#df-54efc5b2-650a-491d-9943-d2bcd80ed053 button');\n",
       "      quickchartButtonEl.style.display =\n",
       "        google.colab.kernel.accessAllowed ? 'block' : 'none';\n",
       "    })();\n",
       "  </script>\n",
       "</div>\n",
       "\n",
       "    </div>\n",
       "  </div>\n"
      ],
      "text/plain": [
       "   sentence_id        words labels\n",
       "0            1   nayanthara    mal\n",
       "1            1  kettiyathin    mal\n",
       "2            1      shesham    mal\n",
       "3            1   kanunnavar    mal\n",
       "4            2        00:12   univ"
      ]
     },
     "execution_count": 6,
     "metadata": {},
     "output_type": "execute_result"
    }
   ],
   "source": [
    "df = pd.read_csv('ner_dataset.csv')\n",
    "df[\"words\"] = df[\"words\"].fillna(\"\").astype(str)\n",
    "df.head()\n"
   ]
  },
  {
   "cell_type": "code",
   "execution_count": 7,
   "metadata": {
    "colab": {
     "base_uri": "https://localhost:8080/"
    },
    "id": "dAxbBWcWZBiL",
    "outputId": "3f886be7-08b5-461e-f548-54adef01ffa0"
   },
   "outputs": [
    {
     "name": "stdout",
     "output_type": "stream",
     "text": [
      "Training size: 263461\n",
      "Validation size: 32933\n",
      "Test size: 32933\n",
      "Unique labels in the dataset: ['mal', 'univ', 'eng', 'mix', 'acr']\n"
     ]
    }
   ],
   "source": [
    "train_df, temp_df = train_test_split(df, test_size=0.2, random_state=42)\n",
    "val_df, test_df = train_test_split(temp_df, test_size=0.5, random_state=42)\n",
    "\n",
    "print(f\"Training size: {len(train_df)}\")\n",
    "print(f\"Validation size: {len(val_df)}\")\n",
    "print(f\"Test size: {len(test_df)}\")\n",
    "\n",
    "# Extract unique labels from the dataset\n",
    "unique_labels = list(df[\"labels\"].unique())\n",
    "print(\"Unique labels in the dataset:\", unique_labels)"
   ]
  },
  {
   "cell_type": "code",
   "execution_count": 8,
   "metadata": {
    "colab": {
     "base_uri": "https://localhost:8080/"
    },
    "id": "pYMECYwUZIiK",
    "outputId": "c19024b5-fd5d-469a-8e18-7aeec1613359"
   },
   "outputs": [
    {
     "name": "stderr",
     "output_type": "stream",
     "text": [
      "/usr/local/lib/python3.10/dist-packages/huggingface_hub/utils/_auth.py:94: UserWarning: \n",
      "The secret `HF_TOKEN` does not exist in your Colab secrets.\n",
      "To authenticate with the Hugging Face Hub, create a token in your settings tab (https://huggingface.co/settings/tokens), set it as secret in your Google Colab and restart your session.\n",
      "You will be able to reuse this secret in all of your notebooks.\n",
      "Please note that authentication is recommended but still optional to access public models or datasets.\n",
      "  warnings.warn(\n",
      "Some weights of ElectraForTokenClassification were not initialized from the model checkpoint at google/electra-small-discriminator and are newly initialized: ['classifier.bias', 'classifier.weight']\n",
      "You should probably TRAIN this model on a down-stream task to be able to use it for predictions and inference.\n"
     ]
    }
   ],
   "source": [
    "model_args = {\n",
    "    \"overwrite_output_dir\": True,\n",
    "    \"reprocess_input_data\": True,\n",
    "    \"save_steps\": -1,\n",
    "    \"num_train_epochs\": 5,\n",
    "    \"train_batch_size\": 16,\n",
    "    \"eval_batch_size\": 16,\n",
    "    \"max_seq_length\": 128,\n",
    "    \"learning_rate\": 2e-5,\n",
    "    \"save_model_every_epoch\": False,\n",
    "    \"save_eval_checkpoints\": False,\n",
    "    \"evaluate_during_training\": True,\n",
    "    \"output_dir\": \"outputs/\",\n",
    "    \"best_model_dir\": \"outputs/best_model/\",\n",
    "    \"labels_list\": unique_labels,  # Add this line with your labels\n",
    "}\n",
    "\n",
    "electra = NERModel(\n",
    "    model_type=\"electra\",\n",
    "    model_name=\"google/electra-small-discriminator\",\n",
    "    args=model_args,\n",
    "    use_cuda=torch.cuda.is_available()\n",
    ")"
   ]
  },
  {
   "cell_type": "code",
   "execution_count": 9,
   "metadata": {
    "colab": {
     "base_uri": "https://localhost:8080/"
    },
    "id": "zjwVvgeRZJrw",
    "outputId": "2497f7c7-4a7f-4d70-f1c5-c2858341ac43"
   },
   "outputs": [
    {
     "name": "stdout",
     "output_type": "stream",
     "text": [
      "        sentence_id   words labels\n",
      "199781        33943  aanenn    mal\n",
      "131447        21490       %   univ\n",
      "204812        34786     dhe    mal\n",
      "27121          4977    next    eng\n",
      "85254         14281   robin    eng\n",
      "        sentence_id      words labels\n",
      "258702        44189        njn    mal\n",
      "56139          9908      react    eng\n",
      "198375        33702          🤣   univ\n",
      "324160        53398  thonnunn🤗    mal\n",
      "263637        45105      😍😍😂😂😀   univ\n"
     ]
    }
   ],
   "source": [
    "train_data = train_df[[\"sentence_id\", \"words\", \"labels\"]]\n",
    "val_data = val_df[[\"sentence_id\", \"words\", \"labels\"]]\n",
    "print(train_data.head())\n",
    "print(val_data.head())"
   ]
  },
  {
   "cell_type": "code",
   "execution_count": 10,
   "metadata": {
    "id": "WUng362YZMh1"
   },
   "outputs": [],
   "source": [
    "# Ensure labels are consistent with the defined `labels_list`\n",
    "assert set(train_data[\"labels\"].unique()).issubset(set(unique_labels)), \"Mismatch in train labels\"\n",
    "assert set(val_data[\"labels\"].unique()).issubset(set(unique_labels)), \"Mismatch in val labels\""
   ]
  },
  {
   "cell_type": "code",
   "execution_count": 11,
   "metadata": {
    "colab": {
     "base_uri": "https://localhost:8080/",
     "height": 1000,
     "referenced_widgets": [
      "b2651bc8259941fba4133fdfff6a20a6",
      "76758f53e4cc49668f8fee32eaea74bb",
      "2feecc6bdb4f431d995044576b85fb59",
      "f804a369ad834b469179af9ff2d677ad",
      "d89b8fa55b2041b99310d95d31c9b59a",
      "1f52913b0f6549c7aeabf4300c0dc8c7",
      "801dbb237155469190977c2644aa363c",
      "a8c6238b68dd4c25912008fd212074b0",
      "501c22209e974d0e8f1365afcbfedd74",
      "514beee5324148cbbcd345f1d6ffaf85",
      "25af85c53acf4d398457d627a3ae3dff",
      "5f8862fbc6964e23bfbbe1e8f3bb587f",
      "fbb1e46e7a7840aaa7e8e8e4dc1916c3",
      "0d74f853bc2a496fba59130f48913336",
      "8054d20ce14448b8a13494064733ded9",
      "09337495d507441a81992c344668e6e1",
      "646768a19c1b4446998737ecd1aa0c18",
      "b44c56d65aa141fd9e9458cca563cf41",
      "74b6468e896749a0bcddb89a129138e1",
      "93661c1de1ff44029d57838cc2d7d995",
      "317a37272a064655a9762f166a6ddb3c",
      "ca229f28ff4c4d228be9566427768d58",
      "eb49964691604fa1beb0f208ed5ec1bf",
      "f8ce691ff91542939d75548d350ee139",
      "1ecac4f23c7f41b6b4cbe9be41900314",
      "4eb2b702d8274cefb7a5fd5e6aacf186",
      "492c557a506e44efb62910547d4f0394",
      "9b85a538ab4946e99979a45ea4579d4c",
      "53f22196b5a543c5b92952c4776c7c97",
      "b6704d54f2b94ffdbb4947bc7a12e282",
      "66ccf0ce15494e1c86cd6faf26a6b193",
      "8a59c56b9dda476dbcba27871d9971b4",
      "453759b67e4d4222b64c3d3e484dd447",
      "1bc225909f8046febf7ed18329024c2a",
      "06094efd08fc4bedbc70168a29f36a57",
      "3dc269941ed84ee38d1f61c78cebc098",
      "6bc3cfa2cc5b47a19a34ba14dec93abe",
      "80121e6818a44a66b3577a795da33f43",
      "d2b5c55402944987bf813fb6c67aaa78",
      "255190a1eb2549abbef9e5e491ae9c38",
      "a86ebbbfd95b4eecbf40382f48c38a8d",
      "02c24fec46db4003921a19b1e756f869",
      "593aa7bc8a074104a0abf87f78d5dbb1",
      "e5d8af6ed7ab4269a876512fb1558840",
      "077e19a30a0e480eb090413e88cf6c39",
      "cc59261a61d242de9e240534b9f9ee28",
      "227d523a194d4eff8882fecacb42aade",
      "9c0eb24218bc46e1a23b4f64211af4e2",
      "7e6a3df6764f47aeadb77cef062c76a1",
      "3d29abb360a64df9a291127ec43fcc28",
      "afb77818c4d1467aba2425cb14491672",
      "e6a21c92904a494d82320f7ed570ec70",
      "f8f6ab13808c43739bf4921f291d8ad9",
      "6e6efbb84ba14fbcbcbf9c32e6160d31",
      "5940c196763e405ca09aa8fe18939c29",
      "f832a7797bf94be69816b28c5b23c2cf",
      "20e0852ecabe4f959fdd1e698069477c",
      "19f1284aba02472485de65c4db97bed8",
      "b33d801ae27e43a49e22d81bf1c45e39",
      "51c6a6c1db284c289b7e3690b463d921",
      "236fdbbd6dee44f69451021e5d9aa26f",
      "3824ce55c51a4b1ca7a9569b6b5c72b1",
      "35b995d9682542dba9169a05d69eee34",
      "a88f1d73577a47c18aa7f8f9dfa59186",
      "8c1204d1384c4d318534a085688b37ce",
      "40c5b9b18c8542e4affaa9e5f4d573bd",
      "e89f2342d8c14bdd9b3c6accdf16adcc",
      "50570a914e2b4b11b0e0a8eaa61db36d",
      "90cd907744aa498d9300445ed38439df",
      "cabf2597aed244f89c8fea991a163e2b",
      "575240760b6245fbb7ef65d2767a0a7a",
      "fbd9fa86434246cba538359252a5c502",
      "a29690d4d7f0429ba784d5a7f2404299",
      "82ec72dcd47b40dcbffe725cc9b7a404",
      "d988db96893c4b22bee7293c3face06b",
      "dce61bdd250e4067a65bf55400401a4a",
      "e35363b6a6d84216bcc6d60e33fe4712",
      "f69d8e6b25414b7a9c3ea584048b6209",
      "0c192933937d47179509e4d25d8ab55c",
      "0c5484a68a97408e819fe664e19c01fa",
      "1ba3084876814bf29228a0dd76edbfba",
      "e8193060fc534e77a44516c84fac35a8",
      "cf23b98d26da411483b610d1995cdbf6",
      "97ddaf55850844a68d084727b4b281ff",
      "417be817055c419a80ae5074a9dc34d3",
      "5477c63a63314b8ebe964088bd8464d3",
      "ac1b68ea8b794b25ab9290738ff83b61",
      "c9af6546edb64a51989a2b2d255a18a3",
      "3fd8d12a7b5c4385b72aa8bb81037294",
      "5fb3f5eb9eeb4e618eaae2d79a0a1951",
      "646b4a021f4e4117b35dba33b5000755",
      "6e11f44b3799464c96f34030971ae654",
      "3189df029f4d4dba9bcf51178dc0cae3",
      "b70b381d0da04eac94d684244eabde27",
      "5c69ff3bc9c2458cb4b84427a3cd2622",
      "6be3083dcd5642c39bf69f11538ed9bc",
      "068007dd9b8c4e4e95c7690503964c29",
      "95411d8b51924f17a71e71581c317df0",
      "72c7d152198b448ca6bd1c25088b6762",
      "7e04b2a67fef48a4bce1acbfb811cc7d",
      "8c4a859ba276497599a7d62d9cd44cc9",
      "a18664efa11740b18a90405d5dbc0cc8",
      "59d803be07db4fe1ab8d522f99557aa0",
      "c94ac735c6b844c5b1bfb14b961317a4",
      "9ad84fdd0d7347898644baf5930b842c",
      "4e668dd47272448ba325937fe904dd9f",
      "57a5050cc0d2413abc98389637e533a4",
      "b0a040a5341d43afa96d2eade9962055",
      "0d47c6f6a2894b97b99049536dec99ac",
      "fb6fb9040183481fabe07c8eb3118f70",
      "4fa51859f3c44623b60cdf974c6263f3",
      "75836ab5d68a43adb1b6a0525b602a88",
      "9660fd6ea02e409ba7043e2fa4ee6e22",
      "35f3b0c672b04adfad0d08007e32fe52",
      "70fe1da657a84151a824ad1311087b73",
      "65a7fe892d5c4d478bf798264fda294f",
      "164eb7cc821f4a05bc6a1a4bcf0066bf",
      "0ed1b64759634bee8ce9fc694a789119",
      "32565607cd9944298c9e572194f4191d",
      "20a867550d1f48e8b1a164561df5446b",
      "1d3bf77dbea04258b286b2ad20fc2073",
      "b36c28478a1442bf8d7c4825a44baac1",
      "7c00746b93f34f9b9769404967306c4d",
      "31b97d838c654bb8af3514b740c5bb82",
      "f305edc742064c2bafbd472886a760dd",
      "164f52b62f3d423298f1a499b4cee5bd",
      "3f9503e519b247acb918ecf909653ae4",
      "abe54ddd8db74d438d31ac4fd8add848",
      "9be82a6fa62246c28ec3fe6e9ad7905f",
      "fa76a5fe3af244c7898d36da30bdc4f9",
      "80b230601ecb455780fcee32498019d2",
      "bc5312acd6244e8aaad65f40fe1ac210",
      "75dc46ad08134c509ef930d730e7b64b",
      "5ab64b7814e24e1ea892da90b017cd29",
      "f83ee8141f9441de8fc48bdce4e12379",
      "fc4c0139bc1e4a20af8b70a08da7a5d4",
      "e90cbc52654247b38198695a7fc26d27",
      "0a664f69c915491e9121364049e47c04",
      "eae8e9121f3e407da92140f8273d6152",
      "2b4fcd54bb7447b5bdb4395c361c5233",
      "5a21f6770b5f4e8a9a5099e544ecb7bf",
      "a4429df6d9e0407885a706fd9c41b645",
      "a2de3373684443c990e6f44cbeb52709",
      "d3a88411a8a84834bcd5484a6a47d5bd",
      "0894acae2cdc40199776ae388fcec57a",
      "f0347cbf8f02478497d0cb32e10c2aec",
      "2a9b699bfff2420dbb362ad8c3c38ff8",
      "be6efdddb77b48b1b817ca400e3a6bd0",
      "4a0462ef9b1a48719ac9615cc1f7484c",
      "3d5cae761037458f82b8c2ffb550a4f6",
      "01ea9f2edda9482fbfdc210e409cf798",
      "d7a06f1f3d2a4d60b9ef0840469f6ac9",
      "7f5c0ea7d0dd49fe81a093311894dd4c",
      "5b105c54a73844a8b206ff7acba489b9",
      "c9b52dddf9484e6693af4240391e64fa",
      "03b2d01093314889bee7a29eb4aa4fb3",
      "6299b8a7dc5a4e43856299cd851e7217",
      "855f6b1b46b94f09b7216d0fa8f4ea70",
      "38b13b2bd0914a0aa756f61dba093a7e",
      "50d9610667684458bdc53964e106d612",
      "14583ea36b9e4ca6b05632849738aec3",
      "9ff8df6e8aab4834b6ba5e8b69ea40a7",
      "32577fa691334bdfaa6ed9c06b78e237",
      "9dab90545be743c3b043e2965b6e49bf",
      "81735f5ad0944e94be985a1db5aad79a",
      "6401a82294d84f3494c52c74df817fc3",
      "c99f8a356d094677995c01c32e6d33e7",
      "4e0778a5b949437ca5d095b2baa4ec28",
      "1adb83dabc4b41ec8f75a2efaf58f784",
      "a993f4a344df47498401fab92552256c",
      "8fd0d09e7b374a1b85699d81049fd2b8",
      "74698257fc76409fb9fba508fe48cce9",
      "6e32626c31ec4e36bd41d826f02c12bf",
      "aef784c03af7406e975dec11adda8083",
      "ad188818f50043b5b362788ca552b4e9",
      "cd37370acc2b45c1a1982e1b8caa5f39",
      "08389ec7f9384c4d99efafe1f572f73f",
      "77896bdb9f6c4d0fa747cb96ad524b4a",
      "b2e4a874d9b241628b7f51c2d8d89088",
      "38614fedff494e32a4b8deca611ac47d",
      "f1d8d385909f414a8ca008c918b9c824",
      "24dbb8e1eeca4b38b4324f97bbc3ec91",
      "8758eb9a755648be842883a8860a9b75",
      "f49e62a1158540afb08fe7314b5cf6c1",
      "9516a37d4321488ca825eea960274bd8",
      "fc33d2bfe1dc4e03af565ea0978766b0",
      "e096356b635646b8af8134ef4fea7316",
      "4fbadf61013d41d3b58618a7e6b10618",
      "c287943cef3b4df4ab1dfc05d575fc15",
      "f3ea64c24edb43f9a99851291886aeee",
      "a35aa43c2246415799f9296ed45968c2",
      "b965f74fd40e45ae9ac9c332149fea1b",
      "11efca65ffab4e02a60c3e3b55a1455e",
      "10f5f9c105bb47b3a31a169b75f822d9",
      "1538ea36e7ea4ff3b2d456f130d3ef26",
      "6e32bcae48634cf0a8826448d429785c",
      "82eda80686d94a318d033cd37fb0624d",
      "b6c7675708c8427bbb9b594f74a7ef6e",
      "9ac43077835144d18c4a587672e300a5",
      "8ca91efc65bb489d8ee8d548130e31ea",
      "2b7e15da5e864a3686b0317f44d8f9e3",
      "8fa5128aa2c848b383e8a8b2b16fade5",
      "5bd356ff25744517a3d0eec4785baf34",
      "5cd7353fbd554705ad61f8cb9dd52675",
      "9b0aa1c2996845fbbc6ef6ce5fc90779",
      "e7eb572c84064de3a09d54b86687e02e",
      "f7aa5439e0814821bc94284c7907052f",
      "3c79a70822d542efac88435a4a844946",
      "4cae09a3bdf04f88b221300bc27f3c04",
      "89f65a9d6a294ed580e52e8cd87cbaf8",
      "4f629042aaa04b6da5a717d512ba39b3",
      "489d892c2150407fbf083976c0a1665e",
      "4b59aa55a84f4a24b364993ccc1267c5",
      "ae77c84d126f4b4ebb570236aaabf4b4",
      "cb40e0e20bb84800acec626e68110e62",
      "a7bf29fe7bed4cf2ac70a5f6ec126878",
      "315fc3b8650943ac88c6e6198eabb50f",
      "d6bd98bbae50490fb8a476289c0d6d76",
      "0c248d2fc95541c58487ad020b060323",
      "eca8428e6d1f4ec7b3b02ba194191744",
      "c4e139b42aa947fea0e5527940f9eb1b",
      "af642a22c13341b6bb31bf6bd9bdc75f",
      "b72d718acc864e299fe5728061f18618",
      "0f58a3011a7a4b6d918cef5dff8def48",
      "e2c88b705b0f4d9eaeb5969a7a861b9f",
      "3064ca235d424aed9d1c37353c924e9c",
      "35f49a7ef83b481183736018b7481f51",
      "842fe012818642b9ae2c328627af3936",
      "60eeb4715215480b871bb587663a18ec",
      "589d254f178d4e898644a759916ccce6",
      "27f4403140d4443bad3783188f2bd5fe",
      "2418cd28ae1e42a78b6bd9d4512434cc",
      "2f7589e4e40446178b7d35a0e8cf4b55",
      "522fccc1bb46474192a59fbbfe16640e",
      "7836d0eb914244bb93e21335564a0f41",
      "466bef54d8ad457b9080ee386bf223f4",
      "9efd7977d23b4d3596443e579dfd7f05",
      "84abbd9a9104484ba7472f6ab9619120",
      "bef7f2e72571449f83879477f6a9b9b9",
      "8940da5b6c1e4a74bbab87167e25991e",
      "d33f192612f94600a71948a392a1babd",
      "4e04bdf5a20e46b7a82380bcc73fbf5b",
      "8f8aa3548b8b46fe9069f97adb328653",
      "2eaa35d4e2b443c992a776f83734fa9d",
      "b9c482a12f3241cc86b7ca87091cada4",
      "7812558918124501976f19028151f4f6",
      "575aadbeacf14b51928a6125eab6b341",
      "530da28e728b4806b2d63f7255c1f0af",
      "0fe4dee7b0df43a091aa19786c19127c",
      "51b32fb9476347359d2a9924c0811d7f",
      "bb625ae294e5458eb61c4202240cbc64",
      "d2b101fe7421417e8b6b2f3244acb5ee",
      "d30382fe67d1409ba7c6495d5fc38fc1",
      "311650e6b90d4c3ebb2523bb05744dfd",
      "79445b7ba0c94282ba9fb7995478ccb9",
      "00c2eefe266040ddab0897fb80911efe",
      "829ce8606dd34431b74d0f8848ea9452",
      "2d4a639acce84d7b84a481b39c7c8124",
      "dc6675cbf65c4df68c59804d9f5812a2",
      "93fd0775563041c19723663f3471db31",
      "d4066fbc5ef448b28d7e891f4656be6c",
      "41180eef136542f98484738d03614cf8",
      "7d93f284844b448f87b87728f5113aca",
      "9d29ea2080e64d1eba2e4fb55ac38a38",
      "1d14a7adaf9c4184bda0cef6484cf1a3",
      "b38e61d2eb054edfb0b61f302da26636",
      "80305afb34134d1fa219cd798d98ab7b",
      "414ab817433f4d779727e464a45a6513",
      "c6cc84d15d1a424fa9a119901e23ffaa",
      "3a38f2ef6fc64e839b2fc69a84bf1804",
      "32ee4d4753f74dba98b84a9d7a352667",
      "52bf9fddfc7145d5b753914e36efc7ba",
      "d62185c8f4684c8d81317ad6bb482f86",
      "e6669345e1274dccaa4e4dfd808c440a",
      "4a4cce5b2158464795c404d8cae942c1",
      "d87e89f6e5a94b1cb0ad40949cab35b1",
      "8bd9275a9c6f4b51b7e68e055140ad26",
      "d6484447118149e8a7e43a5db6ed1773",
      "6a8c502b87634eb5b988008ab4e43122",
      "93c6cf4ce1094d5dbaf371e805d2b1bc",
      "7cba8a0f9c0243e8824b39754e2d7a56",
      "ff8d0e3a3a074ee2bdb71fa655727670",
      "35fa50211aa644d2979fb75c42a90afc",
      "8a86581bb53d40009c2eab1f79b352e6",
      "a33e7924b1354e939b1c96304d9a9bd4",
      "6dc2142ff3724f539943291fa3c7a76e",
      "a0d25e99916a48b599ea52c99c927178",
      "4f93c1194253403cb2b30fcf003e4b36",
      "bb6206e560bc4cdf9fccb34e35980762",
      "e84984590384425b8ab446ec670893fd",
      "38e00e22d7df4f5d887ba83b90a76128",
      "d8b7a63e01bc46aca33ad400647d8449",
      "df9da54918a144fabc9887d84bb0b6bf",
      "718916806dff4cddb7b76bd5aa4f7a9d",
      "9ee89b1f205946efa8504b8d7dd9c8f2",
      "27e910a724924dc8bf9005aed0da5066",
      "91f40302703d44b6b91ac4a26384ebd2",
      "e93a1082c2fd4a3d8570bc50b5ebc43b",
      "fec4d0bfe92446dd8a82e01e78d07b82",
      "a6e74b60896440859ab08c2beb125fda",
      "5b38996b97044493988dda1bafa2f241",
      "70eac1dfbd5f466381ce1dbf2d3be00d",
      "e8c859831b42471b97a955725ee267a3",
      "aa6c8f59f6364aab95f064a37786ce6d",
      "a2d3bd6c5a494873973185f94b7b71fa",
      "23153d22d165425b8cf6eec7ec871513",
      "22d0ac62bc6a4b0a801e4f8afdd8410f",
      "9ead67f134454085ad00311ceecbb4d7",
      "74a756142c69488387ef6b3e8cade6b8",
      "9fea22e75b6f43e1bef3d6629a82fcee",
      "a0ecafc144954b149dfc58d8f49ccd86",
      "77b3982c354c4212a7e12554c1ab7650",
      "8a326a67b5214f15abb227f226b0d9a1",
      "809495fa835c428abcb37adf049773ea",
      "e9462b011a7045db908f35b5e9bab363",
      "7690f468289c487fa8a8b228758d7164",
      "2b30308c15be48b7a245a6bc1bb25bac",
      "0d15e4e2813c41d5b74fd7baf3b27f9e",
      "0df61d6815fa458b8ff9c18af488544d",
      "446cce43c31642efb1e9c857b966383a",
      "87928f4d4ce1477fa9b420d5a97015cc",
      "8de50dfbf313410e8c96865c5ba46bd6",
      "ae7b1ec6fb3d446482f11235fd0d20c0",
      "bce7666fa5854a818bd0f6227060663f",
      "b992df535c4c41bebb56cf94d3ef0450",
      "c5b3b5f5cdc440618265da73df1058a6",
      "7f66b4be948f4fc691170c3d5597e1e2",
      "b9d432895595494c98a644c95080d1ce",
      "9e3af6ef41ee42d6a32eec25b06d2949",
      "17b7d27c5d0143d7a4e9705ce5be6655",
      "4ab36c85ee3145bd97ca348e085c212c",
      "df90030ee19f4d3e976d12b86311bbc0",
      "13e19e6f57254f6ab930947dee7da85e",
      "17434211c66b4c8199c78eff71651e2f",
      "fde09a035a1a4722a163b4d4af636886",
      "88b3a5fb942b44c7bce29b2ddc8cb8c7",
      "3de498b9f5604007a9eed4ab2711c669",
      "de3b4260c97847e19883c7012c074737",
      "5ddbc300c99241d4ac8f9641551e5f16",
      "5c651b92e103463fb2fecad0789cee1e",
      "381d393beb2141dd89b502a472304b29",
      "3b1add7a5e2141d2a9e7a63169ff04bc",
      "3493dcf854474c67ad2b2f8b9f22e0b3",
      "c3302adca5b14b07b53cd5ff733626b2",
      "fc153c59e3de40c5b46e14ad5c8e8b62",
      "4ed51ad8cb4b4c56a08710bcd3513017",
      "05ce09127c0c4ee2b89a5154bc3b0c41",
      "e26ec3d31fec44c2a6ec80b775a35712",
      "a1c885f284a04f12b2fc519b2223652f",
      "9f5ab98af867410da86ce39267d89573",
      "4c1a0a552579413b9ef5dc321b82877b",
      "1cb0733b5655412f8e548c5470d05a75",
      "1584d7bc31dd4a7e909fc22057fe7e4a",
      "3efa1d831fbd4b0d8dd2d12d6b0b7e87",
      "d89bdf25958d4f1a88d2aabc7282b91a",
      "93d9b93ea287403d90e0e98ea9eaf531",
      "fd33be6a8da943f9b4b858854a44540e",
      "5fa758641a904cd7a0b33839d8d0ee2c",
      "889f5141bed2438693ab4e53139c973e",
      "e90becaf6fc246539cd910395957a215",
      "cbaef5d478704e74b185d19bd6371348",
      "e450849f9706422e97156a595495a114",
      "ffdc0320674e452baf876f541e304a2f",
      "aae2a51e3aeb4356970283366ea7c0f8",
      "c65320c4fcc444af88ec0e7aec48f99b",
      "52a2c3be8ae54a99882b1b52466b4b2e",
      "cc40257ab551496a96555b45abf7e09b",
      "6adf6d3dedfd4a089f6dba7f9be6d23f",
      "36e92b894f6047f4b6caff852ade0ae7",
      "b5fca859533c418884a8f4daaf2da0bb",
      "b909028d7b6842f1910f5efff0ce0af2",
      "daa309f73c5943baa1a5b0bd849fec88",
      "0f444bff481b4f3da37d22d68ba9bba3",
      "4215c8b58e084076b1043e83c45167e3"
     ]
    },
    "id": "SjGeEEiVZPK6",
    "outputId": "0e71e707-561e-4944-eb4e-0f75d9113a09"
   },
   "outputs": [
    {
     "data": {
      "application/vnd.jupyter.widget-view+json": {
       "model_id": "b2651bc8259941fba4133fdfff6a20a6",
       "version_major": 2,
       "version_minor": 0
      },
      "text/plain": [
       "model.safetensors:   0%|          | 0.00/54.2M [00:00<?, ?B/s]"
      ]
     },
     "metadata": {},
     "output_type": "display_data"
    },
    {
     "data": {
      "application/vnd.jupyter.widget-view+json": {
       "model_id": "5f8862fbc6964e23bfbbe1e8f3bb587f",
       "version_major": 2,
       "version_minor": 0
      },
      "text/plain": [
       "  0%|          | 0/3 [00:00<?, ?it/s]"
      ]
     },
     "metadata": {},
     "output_type": "display_data"
    },
    {
     "data": {
      "application/vnd.jupyter.widget-view+json": {
       "model_id": "eb49964691604fa1beb0f208ed5ec1bf",
       "version_major": 2,
       "version_minor": 0
      },
      "text/plain": [
       "Epoch:   0%|          | 0/5 [00:00<?, ?it/s]"
      ]
     },
     "metadata": {},
     "output_type": "display_data"
    },
    {
     "name": "stderr",
     "output_type": "stream",
     "text": [
      "/usr/local/lib/python3.10/dist-packages/simpletransformers/ner/ner_model.py:758: FutureWarning: `torch.cuda.amp.GradScaler(args...)` is deprecated. Please use `torch.amp.GradScaler('cuda', args...)` instead.\n",
      "  scaler = amp.GradScaler()\n"
     ]
    },
    {
     "data": {
      "application/vnd.jupyter.widget-view+json": {
       "model_id": "1bc225909f8046febf7ed18329024c2a",
       "version_major": 2,
       "version_minor": 0
      },
      "text/plain": [
       "Running Epoch 1 of 5:   0%|          | 0/3305 [00:00<?, ?it/s]"
      ]
     },
     "metadata": {},
     "output_type": "display_data"
    },
    {
     "name": "stderr",
     "output_type": "stream",
     "text": [
      "/usr/local/lib/python3.10/dist-packages/simpletransformers/ner/ner_model.py:782: FutureWarning: `torch.cuda.amp.autocast(args...)` is deprecated. Please use `torch.amp.autocast('cuda', args...)` instead.\n",
      "  with amp.autocast():\n"
     ]
    },
    {
     "data": {
      "application/vnd.jupyter.widget-view+json": {
       "model_id": "077e19a30a0e480eb090413e88cf6c39",
       "version_major": 2,
       "version_minor": 0
      },
      "text/plain": [
       "  0%|          | 0/3 [00:00<?, ?it/s]"
      ]
     },
     "metadata": {},
     "output_type": "display_data"
    },
    {
     "data": {
      "application/vnd.jupyter.widget-view+json": {
       "model_id": "f832a7797bf94be69816b28c5b23c2cf",
       "version_major": 2,
       "version_minor": 0
      },
      "text/plain": [
       "Running Evaluation:   0%|          | 0/1392 [00:00<?, ?it/s]"
      ]
     },
     "metadata": {},
     "output_type": "display_data"
    },
    {
     "name": "stderr",
     "output_type": "stream",
     "text": [
      "/usr/local/lib/python3.10/dist-packages/simpletransformers/ner/ner_model.py:1303: FutureWarning: `torch.cuda.amp.autocast(args...)` is deprecated. Please use `torch.amp.autocast('cuda', args...)` instead.\n",
      "  with amp.autocast():\n",
      "/usr/local/lib/python3.10/dist-packages/seqeval/metrics/sequence_labeling.py:171: UserWarning: eng seems not to be NE tag.\n",
      "  warnings.warn('{} seems not to be NE tag.'.format(chunk))\n",
      "/usr/local/lib/python3.10/dist-packages/seqeval/metrics/sequence_labeling.py:171: UserWarning: mal seems not to be NE tag.\n",
      "  warnings.warn('{} seems not to be NE tag.'.format(chunk))\n",
      "/usr/local/lib/python3.10/dist-packages/seqeval/metrics/sequence_labeling.py:171: UserWarning: mix seems not to be NE tag.\n",
      "  warnings.warn('{} seems not to be NE tag.'.format(chunk))\n",
      "/usr/local/lib/python3.10/dist-packages/seqeval/metrics/sequence_labeling.py:171: UserWarning: univ seems not to be NE tag.\n",
      "  warnings.warn('{} seems not to be NE tag.'.format(chunk))\n",
      "/usr/local/lib/python3.10/dist-packages/seqeval/metrics/sequence_labeling.py:171: UserWarning: acr seems not to be NE tag.\n",
      "  warnings.warn('{} seems not to be NE tag.'.format(chunk))\n"
     ]
    },
    {
     "data": {
      "application/vnd.jupyter.widget-view+json": {
       "model_id": "e89f2342d8c14bdd9b3c6accdf16adcc",
       "version_major": 2,
       "version_minor": 0
      },
      "text/plain": [
       "  0%|          | 0/3 [00:00<?, ?it/s]"
      ]
     },
     "metadata": {},
     "output_type": "display_data"
    },
    {
     "data": {
      "application/vnd.jupyter.widget-view+json": {
       "model_id": "f69d8e6b25414b7a9c3ea584048b6209",
       "version_major": 2,
       "version_minor": 0
      },
      "text/plain": [
       "Running Evaluation:   0%|          | 0/1392 [00:00<?, ?it/s]"
      ]
     },
     "metadata": {},
     "output_type": "display_data"
    },
    {
     "data": {
      "application/vnd.jupyter.widget-view+json": {
       "model_id": "3fd8d12a7b5c4385b72aa8bb81037294",
       "version_major": 2,
       "version_minor": 0
      },
      "text/plain": [
       "Running Epoch 2 of 5:   0%|          | 0/3305 [00:00<?, ?it/s]"
      ]
     },
     "metadata": {},
     "output_type": "display_data"
    },
    {
     "data": {
      "application/vnd.jupyter.widget-view+json": {
       "model_id": "7e04b2a67fef48a4bce1acbfb811cc7d",
       "version_major": 2,
       "version_minor": 0
      },
      "text/plain": [
       "  0%|          | 0/3 [00:00<?, ?it/s]"
      ]
     },
     "metadata": {},
     "output_type": "display_data"
    },
    {
     "data": {
      "application/vnd.jupyter.widget-view+json": {
       "model_id": "4fa51859f3c44623b60cdf974c6263f3",
       "version_major": 2,
       "version_minor": 0
      },
      "text/plain": [
       "Running Evaluation:   0%|          | 0/1392 [00:00<?, ?it/s]"
      ]
     },
     "metadata": {},
     "output_type": "display_data"
    },
    {
     "data": {
      "application/vnd.jupyter.widget-view+json": {
       "model_id": "b36c28478a1442bf8d7c4825a44baac1",
       "version_major": 2,
       "version_minor": 0
      },
      "text/plain": [
       "  0%|          | 0/3 [00:00<?, ?it/s]"
      ]
     },
     "metadata": {},
     "output_type": "display_data"
    },
    {
     "data": {
      "application/vnd.jupyter.widget-view+json": {
       "model_id": "75dc46ad08134c509ef930d730e7b64b",
       "version_major": 2,
       "version_minor": 0
      },
      "text/plain": [
       "Running Evaluation:   0%|          | 0/1392 [00:00<?, ?it/s]"
      ]
     },
     "metadata": {},
     "output_type": "display_data"
    },
    {
     "data": {
      "application/vnd.jupyter.widget-view+json": {
       "model_id": "d3a88411a8a84834bcd5484a6a47d5bd",
       "version_major": 2,
       "version_minor": 0
      },
      "text/plain": [
       "  0%|          | 0/3 [00:00<?, ?it/s]"
      ]
     },
     "metadata": {},
     "output_type": "display_data"
    },
    {
     "data": {
      "application/vnd.jupyter.widget-view+json": {
       "model_id": "c9b52dddf9484e6693af4240391e64fa",
       "version_major": 2,
       "version_minor": 0
      },
      "text/plain": [
       "Running Evaluation:   0%|          | 0/1392 [00:00<?, ?it/s]"
      ]
     },
     "metadata": {},
     "output_type": "display_data"
    },
    {
     "data": {
      "application/vnd.jupyter.widget-view+json": {
       "model_id": "6401a82294d84f3494c52c74df817fc3",
       "version_major": 2,
       "version_minor": 0
      },
      "text/plain": [
       "Running Epoch 3 of 5:   0%|          | 0/3305 [00:00<?, ?it/s]"
      ]
     },
     "metadata": {},
     "output_type": "display_data"
    },
    {
     "data": {
      "application/vnd.jupyter.widget-view+json": {
       "model_id": "08389ec7f9384c4d99efafe1f572f73f",
       "version_major": 2,
       "version_minor": 0
      },
      "text/plain": [
       "  0%|          | 0/3 [00:00<?, ?it/s]"
      ]
     },
     "metadata": {},
     "output_type": "display_data"
    },
    {
     "data": {
      "application/vnd.jupyter.widget-view+json": {
       "model_id": "4fbadf61013d41d3b58618a7e6b10618",
       "version_major": 2,
       "version_minor": 0
      },
      "text/plain": [
       "Running Evaluation:   0%|          | 0/1392 [00:00<?, ?it/s]"
      ]
     },
     "metadata": {},
     "output_type": "display_data"
    },
    {
     "data": {
      "application/vnd.jupyter.widget-view+json": {
       "model_id": "9ac43077835144d18c4a587672e300a5",
       "version_major": 2,
       "version_minor": 0
      },
      "text/plain": [
       "  0%|          | 0/3 [00:00<?, ?it/s]"
      ]
     },
     "metadata": {},
     "output_type": "display_data"
    },
    {
     "data": {
      "application/vnd.jupyter.widget-view+json": {
       "model_id": "89f65a9d6a294ed580e52e8cd87cbaf8",
       "version_major": 2,
       "version_minor": 0
      },
      "text/plain": [
       "Running Evaluation:   0%|          | 0/1392 [00:00<?, ?it/s]"
      ]
     },
     "metadata": {},
     "output_type": "display_data"
    },
    {
     "data": {
      "application/vnd.jupyter.widget-view+json": {
       "model_id": "c4e139b42aa947fea0e5527940f9eb1b",
       "version_major": 2,
       "version_minor": 0
      },
      "text/plain": [
       "Running Epoch 4 of 5:   0%|          | 0/3305 [00:00<?, ?it/s]"
      ]
     },
     "metadata": {},
     "output_type": "display_data"
    },
    {
     "data": {
      "application/vnd.jupyter.widget-view+json": {
       "model_id": "2418cd28ae1e42a78b6bd9d4512434cc",
       "version_major": 2,
       "version_minor": 0
      },
      "text/plain": [
       "  0%|          | 0/3 [00:00<?, ?it/s]"
      ]
     },
     "metadata": {},
     "output_type": "display_data"
    },
    {
     "data": {
      "application/vnd.jupyter.widget-view+json": {
       "model_id": "8f8aa3548b8b46fe9069f97adb328653",
       "version_major": 2,
       "version_minor": 0
      },
      "text/plain": [
       "Running Evaluation:   0%|          | 0/1392 [00:00<?, ?it/s]"
      ]
     },
     "metadata": {},
     "output_type": "display_data"
    },
    {
     "data": {
      "application/vnd.jupyter.widget-view+json": {
       "model_id": "311650e6b90d4c3ebb2523bb05744dfd",
       "version_major": 2,
       "version_minor": 0
      },
      "text/plain": [
       "  0%|          | 0/3 [00:00<?, ?it/s]"
      ]
     },
     "metadata": {},
     "output_type": "display_data"
    },
    {
     "data": {
      "application/vnd.jupyter.widget-view+json": {
       "model_id": "1d14a7adaf9c4184bda0cef6484cf1a3",
       "version_major": 2,
       "version_minor": 0
      },
      "text/plain": [
       "Running Evaluation:   0%|          | 0/1392 [00:00<?, ?it/s]"
      ]
     },
     "metadata": {},
     "output_type": "display_data"
    },
    {
     "data": {
      "application/vnd.jupyter.widget-view+json": {
       "model_id": "d87e89f6e5a94b1cb0ad40949cab35b1",
       "version_major": 2,
       "version_minor": 0
      },
      "text/plain": [
       "  0%|          | 0/3 [00:00<?, ?it/s]"
      ]
     },
     "metadata": {},
     "output_type": "display_data"
    },
    {
     "data": {
      "application/vnd.jupyter.widget-view+json": {
       "model_id": "a0d25e99916a48b599ea52c99c927178",
       "version_major": 2,
       "version_minor": 0
      },
      "text/plain": [
       "Running Evaluation:   0%|          | 0/1392 [00:00<?, ?it/s]"
      ]
     },
     "metadata": {},
     "output_type": "display_data"
    },
    {
     "data": {
      "application/vnd.jupyter.widget-view+json": {
       "model_id": "e93a1082c2fd4a3d8570bc50b5ebc43b",
       "version_major": 2,
       "version_minor": 0
      },
      "text/plain": [
       "Running Epoch 5 of 5:   0%|          | 0/3305 [00:00<?, ?it/s]"
      ]
     },
     "metadata": {},
     "output_type": "display_data"
    },
    {
     "data": {
      "application/vnd.jupyter.widget-view+json": {
       "model_id": "74a756142c69488387ef6b3e8cade6b8",
       "version_major": 2,
       "version_minor": 0
      },
      "text/plain": [
       "  0%|          | 0/3 [00:00<?, ?it/s]"
      ]
     },
     "metadata": {},
     "output_type": "display_data"
    },
    {
     "data": {
      "application/vnd.jupyter.widget-view+json": {
       "model_id": "446cce43c31642efb1e9c857b966383a",
       "version_major": 2,
       "version_minor": 0
      },
      "text/plain": [
       "Running Evaluation:   0%|          | 0/1392 [00:00<?, ?it/s]"
      ]
     },
     "metadata": {},
     "output_type": "display_data"
    },
    {
     "data": {
      "application/vnd.jupyter.widget-view+json": {
       "model_id": "4ab36c85ee3145bd97ca348e085c212c",
       "version_major": 2,
       "version_minor": 0
      },
      "text/plain": [
       "  0%|          | 0/3 [00:00<?, ?it/s]"
      ]
     },
     "metadata": {},
     "output_type": "display_data"
    },
    {
     "data": {
      "application/vnd.jupyter.widget-view+json": {
       "model_id": "3b1add7a5e2141d2a9e7a63169ff04bc",
       "version_major": 2,
       "version_minor": 0
      },
      "text/plain": [
       "Running Evaluation:   0%|          | 0/1392 [00:00<?, ?it/s]"
      ]
     },
     "metadata": {},
     "output_type": "display_data"
    },
    {
     "data": {
      "application/vnd.jupyter.widget-view+json": {
       "model_id": "1584d7bc31dd4a7e909fc22057fe7e4a",
       "version_major": 2,
       "version_minor": 0
      },
      "text/plain": [
       "  0%|          | 0/3 [00:00<?, ?it/s]"
      ]
     },
     "metadata": {},
     "output_type": "display_data"
    },
    {
     "data": {
      "application/vnd.jupyter.widget-view+json": {
       "model_id": "aae2a51e3aeb4356970283366ea7c0f8",
       "version_major": 2,
       "version_minor": 0
      },
      "text/plain": [
       "Running Evaluation:   0%|          | 0/1392 [00:00<?, ?it/s]"
      ]
     },
     "metadata": {},
     "output_type": "display_data"
    },
    {
     "data": {
      "text/plain": [
       "(16525,\n",
       " defaultdict(list,\n",
       "             {'global_step': [2000,\n",
       "               3305,\n",
       "               4000,\n",
       "               6000,\n",
       "               6610,\n",
       "               8000,\n",
       "               9915,\n",
       "               10000,\n",
       "               12000,\n",
       "               13220,\n",
       "               14000,\n",
       "               16000,\n",
       "               16525],\n",
       "              'train_loss': [0.1984468400478363,\n",
       "               0.09629452228546143,\n",
       "               0.09229183197021484,\n",
       "               0.05234600976109505,\n",
       "               0.28107237815856934,\n",
       "               0.06263644993305206,\n",
       "               0.027373692020773888,\n",
       "               0.031025348231196404,\n",
       "               0.09229131042957306,\n",
       "               0.050657447427511215,\n",
       "               0.028435805812478065,\n",
       "               0.0585484579205513,\n",
       "               0.08199293911457062],\n",
       "              'eval_loss': [0.12207553298520353,\n",
       "               0.10635896539399213,\n",
       "               0.1016251949926948,\n",
       "               0.09585492171269532,\n",
       "               0.08562152856431002,\n",
       "               0.08521925656105882,\n",
       "               0.0843516744110578,\n",
       "               0.08715472859192483,\n",
       "               0.08414711832126065,\n",
       "               0.0817254531172913,\n",
       "               0.08405564876241327,\n",
       "               0.08363287217096137,\n",
       "               0.08360449999842483],\n",
       "              'precision': [0.93731528441639,\n",
       "               0.9413948747815958,\n",
       "               0.9438116379780923,\n",
       "               0.947002258323013,\n",
       "               0.9506294832381789,\n",
       "               0.9497304385837098,\n",
       "               0.9524159201057424,\n",
       "               0.9506344388781219,\n",
       "               0.9547126775071738,\n",
       "               0.9535823142741728,\n",
       "               0.9523861806470502,\n",
       "               0.9536690858441463,\n",
       "               0.9531983568075117],\n",
       "              'recall': [0.9401969037074992,\n",
       "               0.9465285656772683,\n",
       "               0.949200307433298,\n",
       "               0.9515426563700912,\n",
       "               0.9506642755187937,\n",
       "               0.9542143981261209,\n",
       "               0.9493833034439849,\n",
       "               0.9514694579658164,\n",
       "               0.9497858946674963,\n",
       "               0.9503714819016945,\n",
       "               0.9524210372213886,\n",
       "               0.9522380412107017,\n",
       "               0.9511400651465798],\n",
       "              'f1_score': [0.9387538826968757,\n",
       "               0.9439547403960216,\n",
       "               0.946498302981643,\n",
       "               0.9492670281322453,\n",
       "               0.9506468790601497,\n",
       "               0.9519671382930168,\n",
       "               0.9508971938635239,\n",
       "               0.9510517651362722,\n",
       "               0.9522429134941749,\n",
       "               0.951974190710122,\n",
       "               0.9524036086152945,\n",
       "               0.9529530262796447,\n",
       "               0.9521680986315423]}))"
      ]
     },
     "execution_count": 11,
     "metadata": {},
     "output_type": "execute_result"
    }
   ],
   "source": [
    "electra.train_model(train_data, eval_data=val_data)"
   ]
  },
  {
   "cell_type": "code",
   "execution_count": 14,
   "metadata": {
    "colab": {
     "base_uri": "https://localhost:8080/",
     "height": 153,
     "referenced_widgets": [
      "425cfd9b823b419c8b93a3dfcf4462bc",
      "f8f5ca8667db45d0909647e17349bba0",
      "ead927aaa26949eba6f105d62b5e0f9d",
      "f1f822f5793c4613bf2368381b711b69",
      "157a7db5ba7a4715b4ee25a6cadf96e7",
      "ea4cc76bed3045dab8997bc4b7d804be",
      "e011105e4a904835ad6c823ce745f889",
      "89a2dffdc74742c99903890b3cdc9570",
      "1cce647ba39948358b0faa99ffd29fb3",
      "1ce2dce108f94ce8af477ecf7660780b",
      "58f73512a3194133b3d858efcb382768",
      "145bc002ae8f48bc81eec641be316563",
      "23d818ba82e441bf88d5ea2b383c7d73",
      "fa7a50a9abb24dfea7e7bef1ff6a7ed3",
      "ae448ecdc5724dc881562187c4e09435",
      "d8af55231d2842079b51cfccf9a1e9bb",
      "cf90d89bd96f48feb704837507b77ef3",
      "d78a410bde294dabbbd49c77766c0f89",
      "8fb545b5433541c5b14d11f8ffb5b0f4",
      "646597dd44284dc3a58dd34670cc06d7",
      "e03e7e53ab96406bbd0df2c9d79a91f2",
      "b4ab71c361214686ae702b4393dca21d"
     ]
    },
    "id": "sMu2QtbFojkk",
    "outputId": "43c8e38e-5769-4b30-f741-db7d671783c2"
   },
   "outputs": [
    {
     "data": {
      "application/vnd.jupyter.widget-view+json": {
       "model_id": "425cfd9b823b419c8b93a3dfcf4462bc",
       "version_major": 2,
       "version_minor": 0
      },
      "text/plain": [
       "  0%|          | 0/1 [00:00<?, ?it/s]"
      ]
     },
     "metadata": {},
     "output_type": "display_data"
    },
    {
     "data": {
      "application/vnd.jupyter.widget-view+json": {
       "model_id": "145bc002ae8f48bc81eec641be316563",
       "version_major": 2,
       "version_minor": 0
      },
      "text/plain": [
       "Running Prediction:   0%|          | 0/1 [00:00<?, ?it/s]"
      ]
     },
     "metadata": {},
     "output_type": "display_data"
    },
    {
     "name": "stdout",
     "output_type": "stream",
     "text": [
      "Predictions: [[{'njn': 'mal'}, {'enn': 'mal'}, {'avide': 'mal'}, {'poyi,': 'mal'}, {'videoyil': 'mal'}, {'njn': 'mal'}, {'kandu': 'mal'}, {'comedyu': 'mix'}, {'love': 'eng'}, {'123': 'univ'}, {'wait': 'eng'}]]\n"
     ]
    },
    {
     "name": "stderr",
     "output_type": "stream",
     "text": [
      "/usr/local/lib/python3.10/dist-packages/simpletransformers/ner/ner_model.py:1643: FutureWarning: `torch.cuda.amp.autocast(args...)` is deprecated. Please use `torch.amp.autocast('cuda', args...)` instead.\n",
      "  with amp.autocast():\n"
     ]
    }
   ],
   "source": [
    "example_sentence = \"njn enn avide poyi, videoyil njn kandu comedyu love 123 wait\"\n",
    "predictions, raw_outputs = electra.predict([example_sentence])  # Pass it as a list of strings\n",
    "print(\"Predictions:\", predictions)"
   ]
  },
  {
   "cell_type": "code",
   "execution_count": 15,
   "metadata": {
    "colab": {
     "base_uri": "https://localhost:8080/",
     "height": 309,
     "referenced_widgets": [
      "fc676812e05448209fa3156fa4b629aa",
      "8a0fd88ad2ee40eca09e4e749d56a4df",
      "c9dbc87368b8408b900b78f32c3977a4",
      "96095d6e85a7418e8a8672f0a9a17dc3",
      "5a59f39e69f941cb935a883a4a65b4cc",
      "0d697759891e4684a8fc37ac70694a0e",
      "1418e3b42711492c891c68ca5b126b08",
      "c8b6ed1cdae8456fa4811a3397b66806",
      "6347dc62d60349a2804065f83f66003a",
      "b1c07e9bc59f46e9a82fcd1c477e0bb7",
      "1b1dd8985efc45fd9ed1202dc1400033",
      "614638c57d704c0ab3dd46823561c655",
      "d9787f00ed6149749ea1e94f68c8e0a6",
      "9238e7cf5b2b406da4cba77627093cd3",
      "7efc30a1f7de4a6b9fd8a2fb701357b0",
      "c37e5a124f234d369451a29074789187",
      "f5b07040a5c74820bc4baf71273a9d6b",
      "d47cd55ff5944817b2e5f4adc10be054",
      "d0a8b833cac942c18d345e03ba831d61",
      "789c18703a5f45a5987865dd309fa582",
      "fa7799aec19f4478b9f16526b488be51",
      "c682e8dbcde548e98b51b914ac9786ca"
     ]
    },
    "id": "UmbOlu0jo0Zq",
    "outputId": "d3463543-9127-46c8-a71e-5c77167bed48"
   },
   "outputs": [
    {
     "data": {
      "application/vnd.jupyter.widget-view+json": {
       "model_id": "fc676812e05448209fa3156fa4b629aa",
       "version_major": 2,
       "version_minor": 0
      },
      "text/plain": [
       "  0%|          | 0/3 [00:00<?, ?it/s]"
      ]
     },
     "metadata": {},
     "output_type": "display_data"
    },
    {
     "data": {
      "application/vnd.jupyter.widget-view+json": {
       "model_id": "614638c57d704c0ab3dd46823561c655",
       "version_major": 2,
       "version_minor": 0
      },
      "text/plain": [
       "Running Evaluation:   0%|          | 0/1392 [00:00<?, ?it/s]"
      ]
     },
     "metadata": {},
     "output_type": "display_data"
    },
    {
     "name": "stderr",
     "output_type": "stream",
     "text": [
      "/usr/local/lib/python3.10/dist-packages/simpletransformers/ner/ner_model.py:1303: FutureWarning: `torch.cuda.amp.autocast(args...)` is deprecated. Please use `torch.amp.autocast('cuda', args...)` instead.\n",
      "  with amp.autocast():\n",
      "/usr/local/lib/python3.10/dist-packages/seqeval/metrics/sequence_labeling.py:171: UserWarning: eng seems not to be NE tag.\n",
      "  warnings.warn('{} seems not to be NE tag.'.format(chunk))\n",
      "/usr/local/lib/python3.10/dist-packages/seqeval/metrics/sequence_labeling.py:171: UserWarning: mal seems not to be NE tag.\n",
      "  warnings.warn('{} seems not to be NE tag.'.format(chunk))\n",
      "/usr/local/lib/python3.10/dist-packages/seqeval/metrics/sequence_labeling.py:171: UserWarning: mix seems not to be NE tag.\n",
      "  warnings.warn('{} seems not to be NE tag.'.format(chunk))\n",
      "/usr/local/lib/python3.10/dist-packages/seqeval/metrics/sequence_labeling.py:171: UserWarning: univ seems not to be NE tag.\n",
      "  warnings.warn('{} seems not to be NE tag.'.format(chunk))\n",
      "/usr/local/lib/python3.10/dist-packages/seqeval/metrics/sequence_labeling.py:171: UserWarning: acr seems not to be NE tag.\n",
      "  warnings.warn('{} seems not to be NE tag.'.format(chunk))\n"
     ]
    }
   ],
   "source": [
    "result, model_outputs, predictions = electra.eval_model(val_data)"
   ]
  },
  {
   "cell_type": "code",
   "execution_count": 16,
   "metadata": {
    "colab": {
     "base_uri": "https://localhost:8080/"
    },
    "id": "c_KNQ1sJo7rb",
    "outputId": "2475cf0e-b401-45a3-b595-cac8b07481d7"
   },
   "outputs": [
    {
     "name": "stdout",
     "output_type": "stream",
     "text": [
      "Evaluation Results:\n",
      "Precision: 0.9532\n",
      "Recall: 0.9511\n",
      "{'eval_loss': 0.08360449999842483, 'precision': 0.9531983568075117, 'recall': 0.9511400651465798, 'f1_score': 0.9521680986315423}\n"
     ]
    }
   ],
   "source": [
    "\n",
    "print(\"Evaluation Results:\")\n",
    "print(f\"Precision: {result['precision']:.4f}\")\n",
    "print(f\"Recall: {result['recall']:.4f}\")\n",
    "print(result)"
   ]
  }
 ],
 "metadata": {
  "accelerator": "GPU",
  "colab": {
   "authorship_tag": "ABX9TyOuheQ3Laj/4HsXeV7NNi4C",
   "gpuType": "T4",
   "include_colab_link": true,
   "provenance": []
  },
  "kernelspec": {
   "display_name": "Python 3",
   "name": "python3"
  },
  "language_info": {
   "name": "python"
  }
 },
 "nbformat": 4,
 "nbformat_minor": 0
}
