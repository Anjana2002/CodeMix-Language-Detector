{
  "cells": [
    {
      "cell_type": "markdown",
      "metadata": {
        "id": "view-in-github",
        "colab_type": "text"
      },
      "source": [
        "<a href=\"https://colab.research.google.com/github/Anjana2002/CodeMix-Language-Detector/blob/main/data%20annotation/annotation.ipynb\" target=\"_parent\"><img src=\"https://colab.research.google.com/assets/colab-badge.svg\" alt=\"Open In Colab\"/></a>"
      ]
    },
    {
      "cell_type": "markdown",
      "metadata": {
        "id": "onS3WAJJ2Xb6"
      },
      "source": [
        "## DATA ANNOTATION"
      ]
    },
    {
      "cell_type": "code",
      "execution_count": null,
      "metadata": {
        "colab": {
          "base_uri": "https://localhost:8080/"
        },
        "id": "CVAOcEJ32cNE",
        "outputId": "f5d91994-b1c9-4b9b-8549-987ead715ee8"
      },
      "outputs": [
        {
          "output_type": "stream",
          "name": "stdout",
          "text": [
            "Requirement already satisfied: pandas in /usr/local/lib/python3.10/dist-packages (2.2.2)\n",
            "Requirement already satisfied: nltk in /usr/local/lib/python3.10/dist-packages (3.9.1)\n",
            "Requirement already satisfied: numpy>=1.22.4 in /usr/local/lib/python3.10/dist-packages (from pandas) (1.26.4)\n",
            "Requirement already satisfied: python-dateutil>=2.8.2 in /usr/local/lib/python3.10/dist-packages (from pandas) (2.8.2)\n",
            "Requirement already satisfied: pytz>=2020.1 in /usr/local/lib/python3.10/dist-packages (from pandas) (2024.2)\n",
            "Requirement already satisfied: tzdata>=2022.7 in /usr/local/lib/python3.10/dist-packages (from pandas) (2024.2)\n",
            "Requirement already satisfied: click in /usr/local/lib/python3.10/dist-packages (from nltk) (8.1.7)\n",
            "Requirement already satisfied: joblib in /usr/local/lib/python3.10/dist-packages (from nltk) (1.4.2)\n",
            "Requirement already satisfied: regex>=2021.8.3 in /usr/local/lib/python3.10/dist-packages (from nltk) (2024.9.11)\n",
            "Requirement already satisfied: tqdm in /usr/local/lib/python3.10/dist-packages (from nltk) (4.66.6)\n",
            "Requirement already satisfied: six>=1.5 in /usr/local/lib/python3.10/dist-packages (from python-dateutil>=2.8.2->pandas) (1.16.0)\n"
          ]
        }
      ],
      "source": [
        "!pip install pandas nltk"
      ]
    },
    {
      "cell_type": "code",
      "execution_count": null,
      "metadata": {
        "colab": {
          "base_uri": "https://localhost:8080/"
        },
        "id": "3FaLcxv4ZY7m",
        "outputId": "c8b59256-0265-431c-b17a-c1149f1fe004"
      },
      "outputs": [
        {
          "output_type": "stream",
          "name": "stdout",
          "text": [
            "Requirement already satisfied: spacy in /usr/local/lib/python3.10/dist-packages (3.7.5)\n",
            "Requirement already satisfied: spacy-legacy<3.1.0,>=3.0.11 in /usr/local/lib/python3.10/dist-packages (from spacy) (3.0.12)\n",
            "Requirement already satisfied: spacy-loggers<2.0.0,>=1.0.0 in /usr/local/lib/python3.10/dist-packages (from spacy) (1.0.5)\n",
            "Requirement already satisfied: murmurhash<1.1.0,>=0.28.0 in /usr/local/lib/python3.10/dist-packages (from spacy) (1.0.10)\n",
            "Requirement already satisfied: cymem<2.1.0,>=2.0.2 in /usr/local/lib/python3.10/dist-packages (from spacy) (2.0.8)\n",
            "Requirement already satisfied: preshed<3.1.0,>=3.0.2 in /usr/local/lib/python3.10/dist-packages (from spacy) (3.0.9)\n",
            "Requirement already satisfied: thinc<8.3.0,>=8.2.2 in /usr/local/lib/python3.10/dist-packages (from spacy) (8.2.5)\n",
            "Requirement already satisfied: wasabi<1.2.0,>=0.9.1 in /usr/local/lib/python3.10/dist-packages (from spacy) (1.1.3)\n",
            "Requirement already satisfied: srsly<3.0.0,>=2.4.3 in /usr/local/lib/python3.10/dist-packages (from spacy) (2.4.8)\n",
            "Requirement already satisfied: catalogue<2.1.0,>=2.0.6 in /usr/local/lib/python3.10/dist-packages (from spacy) (2.0.10)\n",
            "Requirement already satisfied: weasel<0.5.0,>=0.1.0 in /usr/local/lib/python3.10/dist-packages (from spacy) (0.4.1)\n",
            "Requirement already satisfied: typer<1.0.0,>=0.3.0 in /usr/local/lib/python3.10/dist-packages (from spacy) (0.13.0)\n",
            "Requirement already satisfied: tqdm<5.0.0,>=4.38.0 in /usr/local/lib/python3.10/dist-packages (from spacy) (4.66.6)\n",
            "Requirement already satisfied: requests<3.0.0,>=2.13.0 in /usr/local/lib/python3.10/dist-packages (from spacy) (2.32.3)\n",
            "Requirement already satisfied: pydantic!=1.8,!=1.8.1,<3.0.0,>=1.7.4 in /usr/local/lib/python3.10/dist-packages (from spacy) (2.9.2)\n",
            "Requirement already satisfied: jinja2 in /usr/local/lib/python3.10/dist-packages (from spacy) (3.1.4)\n",
            "Requirement already satisfied: setuptools in /usr/local/lib/python3.10/dist-packages (from spacy) (75.1.0)\n",
            "Requirement already satisfied: packaging>=20.0 in /usr/local/lib/python3.10/dist-packages (from spacy) (24.2)\n",
            "Requirement already satisfied: langcodes<4.0.0,>=3.2.0 in /usr/local/lib/python3.10/dist-packages (from spacy) (3.4.1)\n",
            "Requirement already satisfied: numpy>=1.19.0 in /usr/local/lib/python3.10/dist-packages (from spacy) (1.26.4)\n",
            "Requirement already satisfied: language-data>=1.2 in /usr/local/lib/python3.10/dist-packages (from langcodes<4.0.0,>=3.2.0->spacy) (1.2.0)\n",
            "Requirement already satisfied: annotated-types>=0.6.0 in /usr/local/lib/python3.10/dist-packages (from pydantic!=1.8,!=1.8.1,<3.0.0,>=1.7.4->spacy) (0.7.0)\n",
            "Requirement already satisfied: pydantic-core==2.23.4 in /usr/local/lib/python3.10/dist-packages (from pydantic!=1.8,!=1.8.1,<3.0.0,>=1.7.4->spacy) (2.23.4)\n",
            "Requirement already satisfied: typing-extensions>=4.6.1 in /usr/local/lib/python3.10/dist-packages (from pydantic!=1.8,!=1.8.1,<3.0.0,>=1.7.4->spacy) (4.12.2)\n",
            "Requirement already satisfied: charset-normalizer<4,>=2 in /usr/local/lib/python3.10/dist-packages (from requests<3.0.0,>=2.13.0->spacy) (3.4.0)\n",
            "Requirement already satisfied: idna<4,>=2.5 in /usr/local/lib/python3.10/dist-packages (from requests<3.0.0,>=2.13.0->spacy) (3.10)\n",
            "Requirement already satisfied: urllib3<3,>=1.21.1 in /usr/local/lib/python3.10/dist-packages (from requests<3.0.0,>=2.13.0->spacy) (2.2.3)\n",
            "Requirement already satisfied: certifi>=2017.4.17 in /usr/local/lib/python3.10/dist-packages (from requests<3.0.0,>=2.13.0->spacy) (2024.8.30)\n",
            "Requirement already satisfied: blis<0.8.0,>=0.7.8 in /usr/local/lib/python3.10/dist-packages (from thinc<8.3.0,>=8.2.2->spacy) (0.7.11)\n",
            "Requirement already satisfied: confection<1.0.0,>=0.0.1 in /usr/local/lib/python3.10/dist-packages (from thinc<8.3.0,>=8.2.2->spacy) (0.1.5)\n",
            "Requirement already satisfied: click>=8.0.0 in /usr/local/lib/python3.10/dist-packages (from typer<1.0.0,>=0.3.0->spacy) (8.1.7)\n",
            "Requirement already satisfied: shellingham>=1.3.0 in /usr/local/lib/python3.10/dist-packages (from typer<1.0.0,>=0.3.0->spacy) (1.5.4)\n",
            "Requirement already satisfied: rich>=10.11.0 in /usr/local/lib/python3.10/dist-packages (from typer<1.0.0,>=0.3.0->spacy) (13.9.4)\n",
            "Requirement already satisfied: cloudpathlib<1.0.0,>=0.7.0 in /usr/local/lib/python3.10/dist-packages (from weasel<0.5.0,>=0.1.0->spacy) (0.20.0)\n",
            "Requirement already satisfied: smart-open<8.0.0,>=5.2.1 in /usr/local/lib/python3.10/dist-packages (from weasel<0.5.0,>=0.1.0->spacy) (7.0.5)\n",
            "Requirement already satisfied: MarkupSafe>=2.0 in /usr/local/lib/python3.10/dist-packages (from jinja2->spacy) (3.0.2)\n",
            "Requirement already satisfied: marisa-trie>=0.7.7 in /usr/local/lib/python3.10/dist-packages (from language-data>=1.2->langcodes<4.0.0,>=3.2.0->spacy) (1.2.1)\n",
            "Requirement already satisfied: markdown-it-py>=2.2.0 in /usr/local/lib/python3.10/dist-packages (from rich>=10.11.0->typer<1.0.0,>=0.3.0->spacy) (3.0.0)\n",
            "Requirement already satisfied: pygments<3.0.0,>=2.13.0 in /usr/local/lib/python3.10/dist-packages (from rich>=10.11.0->typer<1.0.0,>=0.3.0->spacy) (2.18.0)\n",
            "Requirement already satisfied: wrapt in /usr/local/lib/python3.10/dist-packages (from smart-open<8.0.0,>=5.2.1->weasel<0.5.0,>=0.1.0->spacy) (1.16.0)\n",
            "Requirement already satisfied: mdurl~=0.1 in /usr/local/lib/python3.10/dist-packages (from markdown-it-py>=2.2.0->rich>=10.11.0->typer<1.0.0,>=0.3.0->spacy) (0.1.2)\n"
          ]
        }
      ],
      "source": [
        "!pip install spacy"
      ]
    },
    {
      "cell_type": "code",
      "execution_count": null,
      "metadata": {
        "colab": {
          "base_uri": "https://localhost:8080/"
        },
        "id": "URH14IzdYB6F",
        "outputId": "ffd4fdee-ef17-4809-a45a-9725d3f2b770"
      },
      "outputs": [
        {
          "output_type": "stream",
          "name": "stdout",
          "text": [
            "Requirement already satisfied: langdetect in /usr/local/lib/python3.10/dist-packages (1.0.9)\n",
            "Requirement already satisfied: six in /usr/local/lib/python3.10/dist-packages (from langdetect) (1.16.0)\n"
          ]
        }
      ],
      "source": [
        "!pip install langdetect"
      ]
    },
    {
      "cell_type": "code",
      "execution_count": null,
      "metadata": {
        "colab": {
          "base_uri": "https://localhost:8080/",
          "height": 310
        },
        "id": "UKZBCJnR37kZ",
        "outputId": "07a2bf5c-e8ee-4c3c-ce73-3e400d140055"
      },
      "outputs": [
        {
          "output_type": "stream",
          "name": "stderr",
          "text": [
            "[nltk_data] Downloading package words to /root/nltk_data...\n",
            "[nltk_data]   Package words is already up-to-date!\n",
            "[nltk_data] Downloading package stopwords to /root/nltk_data...\n",
            "[nltk_data]   Package stopwords is already up-to-date!\n",
            "[nltk_data] Downloading package punkt_tab to /root/nltk_data...\n",
            "[nltk_data]   Package punkt_tab is already up-to-date!\n"
          ]
        },
        {
          "output_type": "execute_result",
          "data": {
            "text/plain": [
              "      video_id                                               text\n",
              "0  63i4ZQcvpcQ          nayanthara kettiyathin shesham kanunnavar\n",
              "1  63i4ZQcvpcQ  00:12 which is that song playing in the backgr...\n",
              "2  63i4ZQcvpcQ                      2024 july 21n kaanunna njan🥲🥲\n",
              "3  63i4ZQcvpcQ                           15:57 what she is saying\n",
              "4  63i4ZQcvpcQ  😊 ara e script oke ezhuthiye..nice dialogues a..."
            ],
            "text/html": [
              "\n",
              "  <div id=\"df-c9c0e3a4-cf5f-4408-90e6-e849d4457e47\" class=\"colab-df-container\">\n",
              "    <div>\n",
              "<style scoped>\n",
              "    .dataframe tbody tr th:only-of-type {\n",
              "        vertical-align: middle;\n",
              "    }\n",
              "\n",
              "    .dataframe tbody tr th {\n",
              "        vertical-align: top;\n",
              "    }\n",
              "\n",
              "    .dataframe thead th {\n",
              "        text-align: right;\n",
              "    }\n",
              "</style>\n",
              "<table border=\"1\" class=\"dataframe\">\n",
              "  <thead>\n",
              "    <tr style=\"text-align: right;\">\n",
              "      <th></th>\n",
              "      <th>video_id</th>\n",
              "      <th>text</th>\n",
              "    </tr>\n",
              "  </thead>\n",
              "  <tbody>\n",
              "    <tr>\n",
              "      <th>0</th>\n",
              "      <td>63i4ZQcvpcQ</td>\n",
              "      <td>nayanthara kettiyathin shesham kanunnavar</td>\n",
              "    </tr>\n",
              "    <tr>\n",
              "      <th>1</th>\n",
              "      <td>63i4ZQcvpcQ</td>\n",
              "      <td>00:12 which is that song playing in the backgr...</td>\n",
              "    </tr>\n",
              "    <tr>\n",
              "      <th>2</th>\n",
              "      <td>63i4ZQcvpcQ</td>\n",
              "      <td>2024 july 21n kaanunna njan🥲🥲</td>\n",
              "    </tr>\n",
              "    <tr>\n",
              "      <th>3</th>\n",
              "      <td>63i4ZQcvpcQ</td>\n",
              "      <td>15:57 what she is saying</td>\n",
              "    </tr>\n",
              "    <tr>\n",
              "      <th>4</th>\n",
              "      <td>63i4ZQcvpcQ</td>\n",
              "      <td>😊 ara e script oke ezhuthiye..nice dialogues a...</td>\n",
              "    </tr>\n",
              "  </tbody>\n",
              "</table>\n",
              "</div>\n",
              "    <div class=\"colab-df-buttons\">\n",
              "\n",
              "  <div class=\"colab-df-container\">\n",
              "    <button class=\"colab-df-convert\" onclick=\"convertToInteractive('df-c9c0e3a4-cf5f-4408-90e6-e849d4457e47')\"\n",
              "            title=\"Convert this dataframe to an interactive table.\"\n",
              "            style=\"display:none;\">\n",
              "\n",
              "  <svg xmlns=\"http://www.w3.org/2000/svg\" height=\"24px\" viewBox=\"0 -960 960 960\">\n",
              "    <path d=\"M120-120v-720h720v720H120Zm60-500h600v-160H180v160Zm220 220h160v-160H400v160Zm0 220h160v-160H400v160ZM180-400h160v-160H180v160Zm440 0h160v-160H620v160ZM180-180h160v-160H180v160Zm440 0h160v-160H620v160Z\"/>\n",
              "  </svg>\n",
              "    </button>\n",
              "\n",
              "  <style>\n",
              "    .colab-df-container {\n",
              "      display:flex;\n",
              "      gap: 12px;\n",
              "    }\n",
              "\n",
              "    .colab-df-convert {\n",
              "      background-color: #E8F0FE;\n",
              "      border: none;\n",
              "      border-radius: 50%;\n",
              "      cursor: pointer;\n",
              "      display: none;\n",
              "      fill: #1967D2;\n",
              "      height: 32px;\n",
              "      padding: 0 0 0 0;\n",
              "      width: 32px;\n",
              "    }\n",
              "\n",
              "    .colab-df-convert:hover {\n",
              "      background-color: #E2EBFA;\n",
              "      box-shadow: 0px 1px 2px rgba(60, 64, 67, 0.3), 0px 1px 3px 1px rgba(60, 64, 67, 0.15);\n",
              "      fill: #174EA6;\n",
              "    }\n",
              "\n",
              "    .colab-df-buttons div {\n",
              "      margin-bottom: 4px;\n",
              "    }\n",
              "\n",
              "    [theme=dark] .colab-df-convert {\n",
              "      background-color: #3B4455;\n",
              "      fill: #D2E3FC;\n",
              "    }\n",
              "\n",
              "    [theme=dark] .colab-df-convert:hover {\n",
              "      background-color: #434B5C;\n",
              "      box-shadow: 0px 1px 3px 1px rgba(0, 0, 0, 0.15);\n",
              "      filter: drop-shadow(0px 1px 2px rgba(0, 0, 0, 0.3));\n",
              "      fill: #FFFFFF;\n",
              "    }\n",
              "  </style>\n",
              "\n",
              "    <script>\n",
              "      const buttonEl =\n",
              "        document.querySelector('#df-c9c0e3a4-cf5f-4408-90e6-e849d4457e47 button.colab-df-convert');\n",
              "      buttonEl.style.display =\n",
              "        google.colab.kernel.accessAllowed ? 'block' : 'none';\n",
              "\n",
              "      async function convertToInteractive(key) {\n",
              "        const element = document.querySelector('#df-c9c0e3a4-cf5f-4408-90e6-e849d4457e47');\n",
              "        const dataTable =\n",
              "          await google.colab.kernel.invokeFunction('convertToInteractive',\n",
              "                                                    [key], {});\n",
              "        if (!dataTable) return;\n",
              "\n",
              "        const docLinkHtml = 'Like what you see? Visit the ' +\n",
              "          '<a target=\"_blank\" href=https://colab.research.google.com/notebooks/data_table.ipynb>data table notebook</a>'\n",
              "          + ' to learn more about interactive tables.';\n",
              "        element.innerHTML = '';\n",
              "        dataTable['output_type'] = 'display_data';\n",
              "        await google.colab.output.renderOutput(dataTable, element);\n",
              "        const docLink = document.createElement('div');\n",
              "        docLink.innerHTML = docLinkHtml;\n",
              "        element.appendChild(docLink);\n",
              "      }\n",
              "    </script>\n",
              "  </div>\n",
              "\n",
              "\n",
              "<div id=\"df-2a288a53-a993-4c5e-b488-a1768b150d4f\">\n",
              "  <button class=\"colab-df-quickchart\" onclick=\"quickchart('df-2a288a53-a993-4c5e-b488-a1768b150d4f')\"\n",
              "            title=\"Suggest charts\"\n",
              "            style=\"display:none;\">\n",
              "\n",
              "<svg xmlns=\"http://www.w3.org/2000/svg\" height=\"24px\"viewBox=\"0 0 24 24\"\n",
              "     width=\"24px\">\n",
              "    <g>\n",
              "        <path d=\"M19 3H5c-1.1 0-2 .9-2 2v14c0 1.1.9 2 2 2h14c1.1 0 2-.9 2-2V5c0-1.1-.9-2-2-2zM9 17H7v-7h2v7zm4 0h-2V7h2v10zm4 0h-2v-4h2v4z\"/>\n",
              "    </g>\n",
              "</svg>\n",
              "  </button>\n",
              "\n",
              "<style>\n",
              "  .colab-df-quickchart {\n",
              "      --bg-color: #E8F0FE;\n",
              "      --fill-color: #1967D2;\n",
              "      --hover-bg-color: #E2EBFA;\n",
              "      --hover-fill-color: #174EA6;\n",
              "      --disabled-fill-color: #AAA;\n",
              "      --disabled-bg-color: #DDD;\n",
              "  }\n",
              "\n",
              "  [theme=dark] .colab-df-quickchart {\n",
              "      --bg-color: #3B4455;\n",
              "      --fill-color: #D2E3FC;\n",
              "      --hover-bg-color: #434B5C;\n",
              "      --hover-fill-color: #FFFFFF;\n",
              "      --disabled-bg-color: #3B4455;\n",
              "      --disabled-fill-color: #666;\n",
              "  }\n",
              "\n",
              "  .colab-df-quickchart {\n",
              "    background-color: var(--bg-color);\n",
              "    border: none;\n",
              "    border-radius: 50%;\n",
              "    cursor: pointer;\n",
              "    display: none;\n",
              "    fill: var(--fill-color);\n",
              "    height: 32px;\n",
              "    padding: 0;\n",
              "    width: 32px;\n",
              "  }\n",
              "\n",
              "  .colab-df-quickchart:hover {\n",
              "    background-color: var(--hover-bg-color);\n",
              "    box-shadow: 0 1px 2px rgba(60, 64, 67, 0.3), 0 1px 3px 1px rgba(60, 64, 67, 0.15);\n",
              "    fill: var(--button-hover-fill-color);\n",
              "  }\n",
              "\n",
              "  .colab-df-quickchart-complete:disabled,\n",
              "  .colab-df-quickchart-complete:disabled:hover {\n",
              "    background-color: var(--disabled-bg-color);\n",
              "    fill: var(--disabled-fill-color);\n",
              "    box-shadow: none;\n",
              "  }\n",
              "\n",
              "  .colab-df-spinner {\n",
              "    border: 2px solid var(--fill-color);\n",
              "    border-color: transparent;\n",
              "    border-bottom-color: var(--fill-color);\n",
              "    animation:\n",
              "      spin 1s steps(1) infinite;\n",
              "  }\n",
              "\n",
              "  @keyframes spin {\n",
              "    0% {\n",
              "      border-color: transparent;\n",
              "      border-bottom-color: var(--fill-color);\n",
              "      border-left-color: var(--fill-color);\n",
              "    }\n",
              "    20% {\n",
              "      border-color: transparent;\n",
              "      border-left-color: var(--fill-color);\n",
              "      border-top-color: var(--fill-color);\n",
              "    }\n",
              "    30% {\n",
              "      border-color: transparent;\n",
              "      border-left-color: var(--fill-color);\n",
              "      border-top-color: var(--fill-color);\n",
              "      border-right-color: var(--fill-color);\n",
              "    }\n",
              "    40% {\n",
              "      border-color: transparent;\n",
              "      border-right-color: var(--fill-color);\n",
              "      border-top-color: var(--fill-color);\n",
              "    }\n",
              "    60% {\n",
              "      border-color: transparent;\n",
              "      border-right-color: var(--fill-color);\n",
              "    }\n",
              "    80% {\n",
              "      border-color: transparent;\n",
              "      border-right-color: var(--fill-color);\n",
              "      border-bottom-color: var(--fill-color);\n",
              "    }\n",
              "    90% {\n",
              "      border-color: transparent;\n",
              "      border-bottom-color: var(--fill-color);\n",
              "    }\n",
              "  }\n",
              "</style>\n",
              "\n",
              "  <script>\n",
              "    async function quickchart(key) {\n",
              "      const quickchartButtonEl =\n",
              "        document.querySelector('#' + key + ' button');\n",
              "      quickchartButtonEl.disabled = true;  // To prevent multiple clicks.\n",
              "      quickchartButtonEl.classList.add('colab-df-spinner');\n",
              "      try {\n",
              "        const charts = await google.colab.kernel.invokeFunction(\n",
              "            'suggestCharts', [key], {});\n",
              "      } catch (error) {\n",
              "        console.error('Error during call to suggestCharts:', error);\n",
              "      }\n",
              "      quickchartButtonEl.classList.remove('colab-df-spinner');\n",
              "      quickchartButtonEl.classList.add('colab-df-quickchart-complete');\n",
              "    }\n",
              "    (() => {\n",
              "      let quickchartButtonEl =\n",
              "        document.querySelector('#df-2a288a53-a993-4c5e-b488-a1768b150d4f button');\n",
              "      quickchartButtonEl.style.display =\n",
              "        google.colab.kernel.accessAllowed ? 'block' : 'none';\n",
              "    })();\n",
              "  </script>\n",
              "</div>\n",
              "\n",
              "    </div>\n",
              "  </div>\n"
            ],
            "application/vnd.google.colaboratory.intrinsic+json": {
              "type": "dataframe",
              "variable_name": "df",
              "summary": "{\n  \"name\": \"df\",\n  \"rows\": 54024,\n  \"fields\": [\n    {\n      \"column\": \"video_id\",\n      \"properties\": {\n        \"dtype\": \"category\",\n        \"num_unique_values\": 6684,\n        \"samples\": [\n          \"ml_sen_3100\",\n          \"ml_sen_5848\",\n          \"ml_sen_1451\"\n        ],\n        \"semantic_type\": \"\",\n        \"description\": \"\"\n      }\n    },\n    {\n      \"column\": \"text\",\n      \"properties\": {\n        \"dtype\": \"string\",\n        \"num_unique_values\": 51509,\n        \"samples\": [\n          \"lhs =rhs ..hence proved\",\n          \"kidu skit \\ud83e\\udde1\",\n          \"woww.. pwoli\\ud83e\\udd70\"\n        ],\n        \"semantic_type\": \"\",\n        \"description\": \"\"\n      }\n    }\n  ]\n}"
            }
          },
          "metadata": {},
          "execution_count": 56
        }
      ],
      "source": [
        "import requests\n",
        "import pandas as pd\n",
        "import re\n",
        "import nltk\n",
        "import spacy\n",
        "\n",
        "from nltk.tokenize import word_tokenize, sent_tokenize\n",
        "from nltk.corpus import words, stopwords\n",
        "from nltk.stem import WordNetLemmatizer\n",
        "nltk.download('words')\n",
        "nltk.download('stopwords')\n",
        "nltk.download('punkt_tab')\n",
        "\n",
        "df = pd.read_csv(\"malayalam_youtube_comments_filtered.csv\")\n",
        "df['text'] = df['text'].str.lower()\n",
        "df.head()"
      ]
    },
    {
      "cell_type": "code",
      "execution_count": null,
      "metadata": {
        "colab": {
          "base_uri": "https://localhost:8080/"
        },
        "id": "e3svVQs_3b5k",
        "outputId": "f5252ffe-76c0-4653-f2d5-b6f44ee4cfa2"
      },
      "outputs": [
        {
          "output_type": "stream",
          "name": "stdout",
          "text": [
            "Loaded 45304 words from the external dictionary.\n"
          ]
        }
      ],
      "source": [
        "url = \"https://inventwithpython.com/dictionary.txt\"\n",
        "response = requests.get(url)\n",
        "if response.status_code == 200:\n",
        "    external_eng_words = set(word.lower() for word in response.text.splitlines())\n",
        "    print(f\"Loaded {len(external_eng_words)} words from the external dictionary.\")\n",
        "else:\n",
        "    print(\"Failed to fetch the dictionary. Check the URL.\")\n",
        "    external_eng_words = set()"
      ]
    },
    {
      "cell_type": "code",
      "execution_count": null,
      "metadata": {
        "id": "Pq5sgq2zktjl"
      },
      "outputs": [],
      "source": [
        "genz_words_df = pd.read_csv(\"genz_slang.csv\")\n",
        "genz_words_df = genz_words_df[[\"keyword\"]]\n",
        "genz_words = set(genz_words_df[\"keyword\"].str.lower())"
      ]
    },
    {
      "cell_type": "code",
      "execution_count": null,
      "metadata": {
        "id": "7PGB4j6M_CdN"
      },
      "outputs": [],
      "source": [
        "\n",
        "stop_words_set = set(stopwords.words('english'))  # Stopwords in English\n",
        "eng_word_set = external_eng_words | stop_words_set | genz_words\n",
        "emoji_pattern = re.compile(\"[\"\n",
        "                           u\"\\U0001F600-\\U0001F64F\"  # Emoticons\n",
        "                           u\"\\U0001F300-\\U0001F5FF\"  # Symbols & pictographs\n",
        "                           u\"\\U0001F680-\\U0001F6FF\"  # Transport & map symbols\n",
        "                           u\"\\U0001F700-\\U0001F77F\"  # Alchemical symbols\n",
        "                           u\"\\U0001F780-\\U0001F7FF\"  # Geometric shapes extended\n",
        "                           u\"\\U0001F800-\\U0001F8FF\"  # Supplemental arrows-C\n",
        "                           u\"\\U0001F900-\\U0001F9FF\"  # Supplemental symbols and pictographs\n",
        "                           u\"\\U0001FA00-\\U0001FA6F\"  # Chess symbols\n",
        "                           u\"\\U0001FA70-\\U0001FAFF\"  # Symbols and pictographs extended-A\n",
        "                           u\"\\U00002702-\\U000027B0\"  # Dingbats\n",
        "                           u\"\\U000024C2-\\U0001F251\"  # Enclosed characters\n",
        "                           u\"\\U0001F1E0-\\U0001F1FF\"  # Flags\n",
        "                           \"]+\", flags=re.UNICODE)"
      ]
    },
    {
      "cell_type": "code",
      "execution_count": null,
      "metadata": {
        "id": "wH-aJ-L1_Ydg"
      },
      "outputs": [],
      "source": [
        "acronyms_df = pd.read_csv(\"acronyms.csv\")\n",
        "acronyms_df['acronyms'] = acronyms_df['acronyms'].str.strip().str.lower()  # Normalize to lowercase\n",
        "acronyms = set(acronyms_df['acronyms'])\n",
        "universal_symbols = {\n",
        "    \"#\", \"@\", \"&\", \"%\", \"*\", \"!\", \"$\", \"^\", \"(\", \")\", \"-\", \"_\", \"=\", \"+\",\n",
        "    \"[\", \"]\", \"{\", \"}\", \"|\", \"\\\\\", \":\", \";\", \"'\", '\"', \"<\", \">\", \",\", \".\",\n",
        "    \"?\", \"/\", \"~\", \"`\"\n",
        "}\n",
        "\n",
        "malayalam_suffixes = [\n",
        "    'il', 'ilude', 'in', 'inu', 'inte', 'nte', 'kk', 'kkum', 'ilum', 'kalil', 'u'\n",
        "    'inte', 'nte', 'kku', 'kkoru', 'kkulla', 'te', 'muttam',\n",
        "    'kal', 'kale', 'kkal', 'kkale', 'kkarum', 'kkalum', 'kalude', 'kkarum',\n",
        "    'um', 'avum', 'athum', 'ennum', 'athavum', 'inum', 'anum', 'aayum',\n",
        "    'unnu', 'an', 'iyum', 'aayi', 'aayirunnu', 'aarunnu', 'ppar', 'kunnu', 'ittundu',\n",
        "    'umayi', 'ittu', 'ettum', 'aarilla', 'illa', 'athilla',\n",
        "    'aayi', 'ayi', 'aayitt', 'pol', 'ppol', 'umayi', 'aakkum', 'ollu', 'kaaran',\n",
        "    'o', 'aano', 'alle', 'athano', 'aano', 'ente', 'ennu', 'athinte',\n",
        "    'ill', 'illa', 'athill', 'arilla', 'athumill',\n",
        "    'onnu', 'nnulla', 'ullathu', 'ullavan', 'ullavarkku', 'ullathu', 'athinu',\n",
        "    'tharam', 'padi', 'pozhuthu', 'athre', 'polathe', 'kku',\n",
        "    'ennu', 'aayi', 'aakunnu', 'ennu', 'arut', 'aaru', 'ppoloru', 'athin',\n",
        "    'aakathirikkan', 'thannullathu', 'poyi', 'irikkum', 'vannathum',\n",
        "    'ppol', 'kalath', 'kaalath', 'nirath', 'kaalam', 'samayam', 'pozhuthu', 'pozhuthil', 'al',\n",
        "    'ayi', 'aayi', 'aayirunnu', 'aayitt',\n",
        "    'um', 'u', 'unnu', 'aayi', 'avum', 'alle', 'an', 'onnu', 'ill','yil','aakk', 'ippol', 'onnum', 'eth', 'am', 'kku', 'ppol', 'umayi', 'kaaran'\n",
        "]"
      ]
    },
    {
      "cell_type": "code",
      "execution_count": null,
      "metadata": {
        "id": "V-__xs_OVDtV"
      },
      "outputs": [],
      "source": [
        "lemmatizer = WordNetLemmatizer()"
      ]
    },
    {
      "cell_type": "code",
      "execution_count": null,
      "metadata": {
        "id": "qcXJpRmk_jFu"
      },
      "outputs": [],
      "source": [
        "def word_length(word):\n",
        "    return len(word)\n",
        "\n",
        "def is_mixed(word):\n",
        "    \"\"\"Checks if the word contains a mix of letters and numbers.\"\"\"\n",
        "    return any(c.isalpha() for c in word) and any(c.isdigit() for c in word)\n",
        "\n",
        "def is_mixed_word_language_model(word, english_words, malayalam_suffixes):\n",
        "    word = word.lower()\n",
        "\n",
        "    # Start with the full word and reduce it iteratively\n",
        "    for i in range(len(word), 0, -1):\n",
        "        prefix = word[:i]\n",
        "        suffix = word[i:]\n",
        "\n",
        "\n",
        "        if prefix in english_words:\n",
        "            if suffix in malayalam_suffixes:\n",
        "                return True\n",
        "\n",
        "    return False\n"
      ]
    },
    {
      "cell_type": "code",
      "execution_count": null,
      "metadata": {
        "id": "jGKERkUiAKDX"
      },
      "outputs": [],
      "source": [
        "def tag_comment(comment):\n",
        "    \"\"\"Tags a single comment at the word level.\"\"\"\n",
        "    temp_comments = []\n",
        "    words = word_tokenize(comment)  # Tokenize the comment\n",
        "\n",
        "    for word in words:\n",
        "        word = word.lower()\n",
        "\n",
        "\n",
        "        if word.isnumeric():  # Check if the word is a number\n",
        "            temp_comments.append((word, \"univ\"))\n",
        "\n",
        "        elif word in eng_word_set:\n",
        "            temp_comments.append((word, \"eng\"))\n",
        "\n",
        "        elif emoji_pattern.match(word):\n",
        "            temp_comments.append((word, \"univ\"))\n",
        "\n",
        "        elif word in acronyms:\n",
        "            temp_comments.append((word, \"acr\"))\n",
        "\n",
        "        elif word in universal_symbols:\n",
        "            temp_comments.append((word, \"univ\"))\n",
        "\n",
        "        elif word_length(word) < 3:\n",
        "            temp_comments.append((word, \"undef\"))\n",
        "\n",
        "        elif is_mixed(word):\n",
        "            temp_comments.append((word, \"undef\"))\n",
        "\n",
        "        elif any(c.isdigit() for c in word) and any(c in universal_symbols for c in word):\n",
        "            temp_comments.append((word, \"univ\"))\n",
        "\n",
        "        else:\n",
        "          if is_mixed_word_language_model(word, eng_word_set, malayalam_suffixes) and word_length(word)>3:\n",
        "              temp_comments.append((word, \"mix\"))\n",
        "\n",
        "\n",
        "          else:\n",
        "              temp_comments.append((word, \"mal\"))\n",
        "\n",
        "    return temp_comments\n"
      ]
    },
    {
      "cell_type": "code",
      "execution_count": null,
      "metadata": {
        "colab": {
          "base_uri": "https://localhost:8080/"
        },
        "id": "ropNpJMgAjfm",
        "outputId": "fe3365a7-cc3f-4831-999d-b7e99cb13455"
      },
      "outputs": [
        {
          "output_type": "stream",
          "name": "stdout",
          "text": [
            "      video_id                                               text  \\\n",
            "0  63i4ZQcvpcQ          nayanthara kettiyathin shesham kanunnavar   \n",
            "1  63i4ZQcvpcQ  00:12 which is that song playing in the backgr...   \n",
            "2  63i4ZQcvpcQ                      2024 july 21n kaanunna njan🥲🥲   \n",
            "3  63i4ZQcvpcQ                           15:57 what she is saying   \n",
            "4  63i4ZQcvpcQ  😊 ara e script oke ezhuthiye..nice dialogues a...   \n",
            "\n",
            "                                           annotated  \n",
            "0  [(nayanthara, mal), (kettiyathin, mal), (shesh...  \n",
            "1  [(00:12, univ), (which, eng), (is, eng), (that...  \n",
            "2  [(2024, univ), (july, eng), (21n, undef), (kaa...  \n",
            "3  [(15:57, univ), (what, eng), (she, eng), (is, ...  \n",
            "4  [(😊, univ), (ara, mal), (e, undef), (script, e...  \n"
          ]
        }
      ],
      "source": [
        "df['annotated'] = df['text'].apply(tag_comment)\n",
        "df.to_csv('annotated_comments.csv', index=False)\n",
        "print(df.head())"
      ]
    }
  ],
  "metadata": {
    "colab": {
      "provenance": [],
      "authorship_tag": "ABX9TyOzSg8jbegUCF6fyKowc27b",
      "include_colab_link": true
    },
    "kernelspec": {
      "display_name": "Python 3",
      "name": "python3"
    },
    "language_info": {
      "name": "python"
    }
  },
  "nbformat": 4,
  "nbformat_minor": 0
}